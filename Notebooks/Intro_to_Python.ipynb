{
 "cells": [
  {
   "cell_type": "markdown",
   "metadata": {},
   "source": [
    "# Introduction to Python"
   ]
  },
  {
   "cell_type": "markdown",
   "metadata": {},
   "source": [
    "Python is one of the most widely used programming languages ([source](https://octoverse.github.com/#top-languages)), and for a reason. It is very easy to pick-up, extremely versatile (as you will see) and most importantly well supported.\n",
    "\n",
    "Our focus through these tutorials is not just to learn Python however. We are here to learn [Astro](https://cdn130.picsart.com/283094903006201.jpg?type=webp&to=min&r=640). So, each tutorial will introduce a new concept, important in scientific computing, along with an application in Astronomy and Astrophysics.\n",
    "\n",
    "Some more great resources:\n",
    "1. [The Python Wiki](https://wiki.python.org/moin/)\n",
    "2. [SciPy lecture notes](http://scipy-lectures.org/)\n",
    "3. [SciPy reference](https://docs.scipy.org/doc/scipy/reference/)\n",
    "4. [AstroPy Documentation](https://docs.scipy.org/doc/scipy/reference/) "
   ]
  },
  {
   "cell_type": "markdown",
   "metadata": {},
   "source": [
    "#### By the end of this tutorial, you will have been introduced to Python, parsed a file to find how many moons each planet has!"
   ]
  },
  {
   "cell_type": "markdown",
   "metadata": {},
   "source": [
    "Our first task on Python?\n",
    "Hello World!<br>\n",
    "(Note the [escape character](http://python-ds.com/python-3-escape-sequences))"
   ]
  },
  {
   "cell_type": "code",
   "execution_count": 2,
   "metadata": {},
   "outputs": [
    {
     "name": "stdout",
     "output_type": "stream",
     "text": [
      "The first thing we shall do is say\n",
      "Hello World!\n"
     ]
    }
   ],
   "source": [
    "print(\"The first thing we shall do is say\\nHello World!\")"
   ]
  },
  {
   "cell_type": "markdown",
   "metadata": {},
   "source": [
    "Print is a function (more on that later) that takes a string (that is the stuff enclosed in the double quotes) and displays it. <br>\n",
    "Of course, we can go quite crazy with just this"
   ]
  },
  {
   "cell_type": "code",
   "execution_count": 4,
   "metadata": {},
   "outputs": [
    {
     "name": "stdout",
     "output_type": "stream",
     "text": [
      "Hello World \n",
      "\n",
      "Hello World\n",
      "\n",
      "Hello 'World'\n",
      "\n",
      "\"Hello\" World\n",
      "\n",
      "'Hello' \"World\" \n",
      "\n",
      "Hello\n",
      "World\n"
     ]
    }
   ],
   "source": [
    "print(\"Hello\",\"World \\n\") # Python already puts a newline after each print(...) by default (this can be changed)\n",
    "print('Hello World\\n')    # BTW, this is how you comment :P\n",
    "print(\"Hello 'World'\\n\")\n",
    "print('\"Hello\" World\\n')\n",
    "print(\"'Hello' \\\"World\\\" \\n\")\n",
    "print('''Hello\n",
    "World''')"
   ]
  },
  {
   "cell_type": "markdown",
   "metadata": {},
   "source": [
    "With a bit of [string formatting](https://docs.python.org/3/library/string.html#format-string-syntax), you can make your print statements as customizable as you want."
   ]
  },
  {
   "cell_type": "code",
   "execution_count": 8,
   "metadata": {},
   "outputs": [
    {
     "name": "stdout",
     "output_type": "stream",
     "text": [
      "Hello, my name is Krittika\n",
      "Hello, my name is Krittika\n",
      "Hello, my name is Krittika\n"
     ]
    }
   ],
   "source": [
    "name = \"Krittika\"\n",
    "print(\"Hello, my name is %s\"% name)\n",
    "print(\"Hello, my name is {}\".format(name))\n",
    "print(f\"Hello, my name is {name}\") # Will only work in Python 3.6+"
   ]
  },
  {
   "cell_type": "markdown",
   "metadata": {},
   "source": [
    "And in that cell, we went ahead of ourselves a bit. What was that first line?"
   ]
  },
  {
   "cell_type": "code",
   "execution_count": 9,
   "metadata": {},
   "outputs": [],
   "source": [
    "name = \"Krittika, The Astronomy Club of IIT Bombay\""
   ]
  },
  {
   "cell_type": "markdown",
   "metadata": {},
   "source": [
    "We are assigning a value (which is the string above) to a variable.<br>\n",
    "Of course, strings aren't all we can assign to variables. There are different data types in Python, which you can explore below:"
   ]
  },
  {
   "cell_type": "code",
   "execution_count": 18,
   "metadata": {},
   "outputs": [],
   "source": [
    "integer = 1\n",
    "floating_point = 3.14\n",
    "complex_number = 3 + 4j\n",
    "boolean_variable = True"
   ]
  },
  {
   "cell_type": "code",
   "execution_count": 26,
   "metadata": {},
   "outputs": [
    {
     "name": "stdout",
     "output_type": "stream",
     "text": [
      "<class 'complex'>\n"
     ]
    }
   ],
   "source": [
    "print(f'{type(complex_number)}') # Try to re-write this with .format() instead"
   ]
  },
  {
   "cell_type": "markdown",
   "metadata": {},
   "source": [
    "You can also use Python as a calculator!"
   ]
  },
  {
   "cell_type": "code",
   "execution_count": 30,
   "metadata": {},
   "outputs": [
    {
     "name": "stdout",
     "output_type": "stream",
     "text": [
      "a+b = 3\n",
      "a-b = -1\n",
      "a*b = 2\n",
      "a/b = 0.5\n",
      "a//b = 0\n",
      "a//b = 0\n",
      "a**b = 1\n"
     ]
    }
   ],
   "source": [
    "a = 1 # Explore with different values of a and b. Try using a complex number!\n",
    "b = 2 # Try using a string!\n",
    "print(\"a+b = {}\".format(a+b))\n",
    "print(\"a-b = {}\".format(a-b))\n",
    "print(\"a*b = {}\".format(a*b))\n",
    "print(\"a/b = {}\".format(a/b))\n",
    "print(\"a//b = {}\".format(a//b))\n",
    "print(\"a//b = {}\".format(a//b))\n",
    "print(\"a**b = {}\".format(a**b))"
   ]
  },
  {
   "cell_type": "markdown",
   "metadata": {},
   "source": [
    "We have an idea of how to store a value now, and basic ways of manipulating it. However, what if we need to store many values?"
   ]
  },
  {
   "cell_type": "markdown",
   "metadata": {},
   "source": [
    "### Tuples"
   ]
  },
  {
   "cell_type": "code",
   "execution_count": null,
   "metadata": {},
   "outputs": [],
   "source": []
  }
 ],
 "metadata": {
  "kernelspec": {
   "display_name": "Python 3",
   "language": "python",
   "name": "python3"
  },
  "language_info": {
   "codemirror_mode": {
    "name": "ipython",
    "version": 3
   },
   "file_extension": ".py",
   "mimetype": "text/x-python",
   "name": "python",
   "nbconvert_exporter": "python",
   "pygments_lexer": "ipython3",
   "version": "3.6.8"
  }
 },
 "nbformat": 4,
 "nbformat_minor": 2
}
