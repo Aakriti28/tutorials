{
 "cells": [
  {
   "cell_type": "markdown",
   "metadata": {},
   "source": [
    "# Functions in Python\n",
    "\n",
    "Till now, we have seen quite a few functions (especially in [Tutorial 2](https://github.com/krittikaiitb/tutorials/tree/master/Tutorial_2)). The question arises then on what exactly a fuction is and if we can define functions of our own. This tutorial will use what we have learnt of Python and Numpy and help us take it a step further with user defined functions. \n",
    "\n",
    "A function is simply a piece of code that performs a task, for which it might take some input(s) and might return some output(s) (This will of course depend on the task). The input (and the output) could be a number, an array, a string etc.\n",
    "\n",
    "So why do we need such a thing? If there is a function to evaluate a polynomial at a given point, then we can just code it normally. The answer is robustness. \n",
    "\n",
    "Apart from just being correct, codes should ideally be robust, efficient, easy to debug, and of course, self explanatory for someone else reading it. Functions are very important for acheiving all of the above, with utmost simplicity. Functions are also very useful if you want the same task to be performed repeatedly, with no changes, or maybe with minor modifications. For example, if you want to evaluate that polynomial repeatedly, then it is better to define a function to do so, otherwise simple typing mistakes in one of those lines might break your code. Or if you want to now change your polynomial coefficients, and you have 100 repetitions of the code, then you'll have to go line by line to each of those. \n",
    "\n",
    "In short, functions eventually make your code easier to read and modify, and make it much easier to debug.\n",
    "\n",
    "The following references should be useful:\n",
    "https://docs.python.org/3/tutorial/controlflow.html#defining-functions and https://scipy-lectures.org/intro/language/functions.html for exhaustive description on functions.\n",
    "And of course, Google."
   ]
  },
  {
   "cell_type": "markdown",
   "metadata": {},
   "source": [
    "Recall from [Tutorial 2](https://github.com/krittikaiitb/tutorials/tree/master/Tutorial_2) that `numpy` has several functions"
   ]
  },
  {
   "cell_type": "code",
   "execution_count": 5,
   "metadata": {},
   "outputs": [],
   "source": [
    "import numpy as np"
   ]
  },
  {
   "cell_type": "code",
   "execution_count": 11,
   "metadata": {},
   "outputs": [
    {
     "name": "stdout",
     "output_type": "stream",
     "text": [
      "sin(π/2) = 1.0\n",
      "exp(2) = 7.38905609893065\n",
      "Mean of [ 0  1  2  3  4  5  6  7  8  9 10 11 12 13 14 15 16 17 18 19] is 9.5\n"
     ]
    }
   ],
   "source": [
    "print(f\"sin(π/2) = {np.sin(np.pi/2)}\") #function that returns the sine of a given number\n",
    "\n",
    "print(f\"exp(2) = {np.exp(2)}\") #function that returns the exponential of a given number\n",
    "\n",
    "arr = np.arange(20)\n",
    "print(f\"Mean of {arr} is {np.mean(arr)}\") #function that returns the mean of a given numpy array"
   ]
  },
  {
   "cell_type": "markdown",
   "metadata": {},
   "source": [
    "Now lets try to define some functions on our own."
   ]
  },
  {
   "cell_type": "code",
   "execution_count": 19,
   "metadata": {},
   "outputs": [
    {
     "name": "stdout",
     "output_type": "stream",
     "text": [
      "Hello World\n"
     ]
    }
   ],
   "source": [
    "def my_print(): #function definition\n",
    "    \"\"\"\n",
    "        Comments made like this are called docstrings\n",
    "        They are useful when you want to document. \n",
    "        Run my_print? in a cell and see how the docstring shows up\n",
    "    \"\"\"\n",
    "    print(\"Hello World\") #function task\n",
    "\n",
    "my_print() #calling the function"
   ]
  },
  {
   "cell_type": "markdown",
   "metadata": {},
   "source": [
    "The above function does not accept any input, and does not give any output. It just performs a simple task, i.e. printing \"Hello World\" whenever its called. (Printing something is not an output, its a task that the function performs. More specifically, if the function gives an output, we call it a 'returned' value)."
   ]
  },
  {
   "cell_type": "markdown",
   "metadata": {},
   "source": [
    "Below are some more examples of functions:"
   ]
  },
  {
   "cell_type": "code",
   "execution_count": 21,
   "metadata": {},
   "outputs": [
    {
     "name": "stdout",
     "output_type": "stream",
     "text": [
      "25\n"
     ]
    }
   ],
   "source": [
    "def square(x):\n",
    "    \"\"\"\n",
    "        This function has one argument (this is the proper name for input for a function) in Python)\n",
    "        It returns one value. In this case, the task, and the output are both run in the same line\n",
    "    \"\"\"\n",
    "    return x**2 # Output\n",
    "\n",
    "y = 5\n",
    "print(square(y))"
   ]
  },
  {
   "cell_type": "code",
   "execution_count": 22,
   "metadata": {},
   "outputs": [
    {
     "name": "stdout",
     "output_type": "stream",
     "text": [
      "210\n"
     ]
    }
   ],
   "source": [
    "def my_product(array):\n",
    "    \"\"\"\n",
    "        This function accepts an array as input, and returns the product of its elements\n",
    "    \"\"\"\n",
    "    product = 1\n",
    "    for i in range(array.size):\n",
    "        product = product*array[i]\n",
    "    return product\n",
    "\n",
    "my_array = np.array([2,5,3,7])\n",
    "print(my_product(my_array))"
   ]
  },
  {
   "cell_type": "markdown",
   "metadata": {},
   "source": [
    "We can also have functions which take multiple arguments as inputs and also return multiple outputs, as shown below."
   ]
  },
  {
   "cell_type": "code",
   "execution_count": 23,
   "metadata": {},
   "outputs": [
    {
     "name": "stdout",
     "output_type": "stream",
     "text": [
      "Krittika IITB\n"
     ]
    }
   ],
   "source": [
    "def function(param1,param2):\n",
    "    print(param1,param2)\n",
    "    \n",
    "function(\"Krittika\",\"IITB\")"
   ]
  },
  {
   "cell_type": "code",
   "execution_count": 24,
   "metadata": {},
   "outputs": [
    {
     "name": "stdout",
     "output_type": "stream",
     "text": [
      "25 125\n"
     ]
    }
   ],
   "source": [
    "def powers(x):\n",
    "    return x**2,x**3  # Note that we are returning two values\n",
    "\n",
    "squa, cube = powers(5) # This is called unpacking values; the function returns a tuple of two values.\n",
    "print(squa,cube)"
   ]
  },
  {
   "cell_type": "markdown",
   "metadata": {},
   "source": [
    "Its also possible to have recursive calling of the same function, as illustrated by the following example. Recursion is one of the most powerful tools in deterministic programming, and a lot of complex problems can be solved quite gracefully and easily through recursion. Those interested can have a look at a famous problem - 'The Towers of Hanoi' solved very elegantly using recursion: https://www.cs.cmu.edu/~cburch/survey/recurse/hanoiimpl.html\n",
    "\n",
    "We will however not be using recursion much in these tutorials. "
   ]
  },
  {
   "cell_type": "code",
   "execution_count": 25,
   "metadata": {},
   "outputs": [
    {
     "name": "stdout",
     "output_type": "stream",
     "text": [
      "120\n"
     ]
    }
   ],
   "source": [
    "def factorial(num):\n",
    "    if(num==1):\n",
    "        return 1\n",
    "    else:\n",
    "        return num*factorial(num-1)\n",
    "\n",
    "print(factorial(5))"
   ]
  },
  {
   "cell_type": "markdown",
   "metadata": {},
   "source": [
    "Functions can change mutable values, like a list (however it cannot change a tuple, which is immutable)"
   ]
  },
  {
   "cell_type": "code",
   "execution_count": 26,
   "metadata": {},
   "outputs": [
    {
     "name": "stdout",
     "output_type": "stream",
     "text": [
      "[1, 1, 2, 3, 5, 8]\n"
     ]
    }
   ],
   "source": [
    "def fibonacci(seed,n=6):\n",
    "    \"\"\"\n",
    "        Function accepts a seed list, and number of terms. \n",
    "        Note that we have put a default value on n, which means that giving n as an argument is optional now\n",
    "    \"\"\"\n",
    "    while(len(seed)<n):\n",
    "        seed.append(seed[-1]+seed[-2])\n",
    "\n",
    "seed = [1,1]\n",
    "fibonacci(seed)\n",
    "print(seed)"
   ]
  },
  {
   "cell_type": "code",
   "execution_count": 27,
   "metadata": {},
   "outputs": [
    {
     "name": "stdout",
     "output_type": "stream",
     "text": [
      "[1, 1, 2, 3, 5, 8]\n"
     ]
    }
   ],
   "source": [
    "fibonacci(seed,5)\n",
    "print(seed)"
   ]
  },
  {
   "cell_type": "markdown",
   "metadata": {},
   "source": [
    "Note that in the previous example, we call the function to modify the array \"seed\". We are not printing the function output(in fact it does not return any output), rather we are printing the modified form of the array we started with."
   ]
  },
  {
   "cell_type": "markdown",
   "metadata": {},
   "source": [
    "Also, in the previous example, we were able to specify default input values to the function. This is possible using \"Keyword Arguments\". Keyword arguments are of the form: kwarg = value. Lets see some examples."
   ]
  },
  {
   "cell_type": "code",
   "execution_count": 13,
   "metadata": {},
   "outputs": [
    {
     "name": "stdout",
     "output_type": "stream",
     "text": [
      "25\n",
      "9\n",
      "25\n"
     ]
    }
   ],
   "source": [
    "num = 5\n",
    "\n",
    "def square(x = num):\n",
    "    return x**2\n",
    "\n",
    "print(square())\n",
    "print(square(3))\n",
    "\n",
    "num = 7\n",
    "print(square())"
   ]
  },
  {
   "cell_type": "markdown",
   "metadata": {},
   "source": [
    "Thus from the above example, we learn an important lesson, that default values are evaluated only once, i.e. at the function definition, not during function calls. Thus, it becomes problematic and difficult to keep track when you use mutable objects (like list) as the default values and then you try to modify them inside the function body. An example is shown below. Note carefully what is happening."
   ]
  },
  {
   "cell_type": "code",
   "execution_count": 14,
   "metadata": {},
   "outputs": [
    {
     "name": "stdout",
     "output_type": "stream",
     "text": [
      "[2, 3]\n",
      "[3, 4]\n",
      "[4, 5]\n",
      "[11, 16]\n",
      "[5, 6]\n"
     ]
    }
   ],
   "source": [
    "def add_to_list(mylist = [1,2]):\n",
    "    mylist[0] = mylist[0]+1\n",
    "    mylist[1] = mylist[1]+1\n",
    "    print(mylist)\n",
    "\n",
    "add_to_list()\n",
    "add_to_list()\n",
    "add_to_list()\n",
    "\n",
    "add_to_list([10,15])\n",
    "add_to_list()"
   ]
  },
  {
   "cell_type": "markdown",
   "metadata": {},
   "source": [
    "In the above example, mylist is a mutable object which is being given a default value. We modify this object inside the function body, and this modification is carried in successive function calls. Thus, such a practice should be avoided unless absolutely necessary."
   ]
  },
  {
   "cell_type": "markdown",
   "metadata": {},
   "source": [
    "Lets see some more examples of using required arguments and keyword arguments, and try to understand some subtle aspects."
   ]
  },
  {
   "cell_type": "code",
   "execution_count": 15,
   "metadata": {},
   "outputs": [],
   "source": [
    "def fruits(num, color = \"red\", taste = \"sweet\"):\n",
    "    print(\"I am\", num, \"years old and I like fruits which are of\", color, \"color\", \"and taste\", taste)"
   ]
  },
  {
   "cell_type": "markdown",
   "metadata": {},
   "source": [
    "The above function has 1 required argument 'num' and 2 keyword arguments. Lets try some function calls."
   ]
  },
  {
   "cell_type": "code",
   "execution_count": 16,
   "metadata": {},
   "outputs": [
    {
     "ename": "TypeError",
     "evalue": "fruits() missing 1 required positional argument: 'num'",
     "output_type": "error",
     "traceback": [
      "\u001b[0;31m---------------------------------------------------------------------------\u001b[0m",
      "\u001b[0;31mTypeError\u001b[0m                                 Traceback (most recent call last)",
      "\u001b[0;32m<ipython-input-16-9d2192c29ab6>\u001b[0m in \u001b[0;36m<module>\u001b[0;34m\u001b[0m\n\u001b[0;32m----> 1\u001b[0;31m \u001b[0mfruits\u001b[0m\u001b[0;34m(\u001b[0m\u001b[0;34m)\u001b[0m \u001b[0;31m#error(intentional): The required argument 'num' is missing\u001b[0m\u001b[0;34m\u001b[0m\u001b[0;34m\u001b[0m\u001b[0m\n\u001b[0m",
      "\u001b[0;31mTypeError\u001b[0m: fruits() missing 1 required positional argument: 'num'"
     ]
    }
   ],
   "source": [
    "fruits() #error(intentional): The required argument 'num' is missing"
   ]
  },
  {
   "cell_type": "code",
   "execution_count": 17,
   "metadata": {},
   "outputs": [
    {
     "name": "stdout",
     "output_type": "stream",
     "text": [
      "I am 10 years old and I like fruits which are of red color and taste sweet\n"
     ]
    }
   ],
   "source": [
    "fruits(10) #correct function call, keyword arguments take default values"
   ]
  },
  {
   "cell_type": "code",
   "execution_count": 18,
   "metadata": {},
   "outputs": [
    {
     "ename": "TypeError",
     "evalue": "fruits() missing 1 required positional argument: 'num'",
     "output_type": "error",
     "traceback": [
      "\u001b[0;31m---------------------------------------------------------------------------\u001b[0m",
      "\u001b[0;31mTypeError\u001b[0m                                 Traceback (most recent call last)",
      "\u001b[0;32m<ipython-input-18-1216d9ee4fee>\u001b[0m in \u001b[0;36m<module>\u001b[0;34m\u001b[0m\n\u001b[0;32m----> 1\u001b[0;31m \u001b[0mfruits\u001b[0m\u001b[0;34m(\u001b[0m\u001b[0mcolor\u001b[0m \u001b[0;34m=\u001b[0m \u001b[0;34m\"orange\"\u001b[0m\u001b[0;34m)\u001b[0m \u001b[0;31m#error (intentional): The required argument 'num' is missing\u001b[0m\u001b[0;34m\u001b[0m\u001b[0;34m\u001b[0m\u001b[0m\n\u001b[0m",
      "\u001b[0;31mTypeError\u001b[0m: fruits() missing 1 required positional argument: 'num'"
     ]
    }
   ],
   "source": [
    "fruits(color = \"orange\") #error (intentional): The required argument 'num' is missing"
   ]
  },
  {
   "cell_type": "code",
   "execution_count": 19,
   "metadata": {},
   "outputs": [
    {
     "name": "stdout",
     "output_type": "stream",
     "text": [
      "I am 8 years old and I like fruits which are of green color and taste sweet\n"
     ]
    }
   ],
   "source": [
    "fruits(8,\"green\") #correct function call,"
   ]
  },
  {
   "cell_type": "code",
   "execution_count": 20,
   "metadata": {},
   "outputs": [
    {
     "ename": "SyntaxError",
     "evalue": "positional argument follows keyword argument (<ipython-input-20-e500c81b9a4c>, line 1)",
     "output_type": "error",
     "traceback": [
      "\u001b[0;36m  File \u001b[0;32m\"<ipython-input-20-e500c81b9a4c>\"\u001b[0;36m, line \u001b[0;32m1\u001b[0m\n\u001b[0;31m    fruits(color = \"green\", 8) #error(intentional)\u001b[0m\n\u001b[0m                           ^\u001b[0m\n\u001b[0;31mSyntaxError\u001b[0m\u001b[0;31m:\u001b[0m positional argument follows keyword argument\n"
     ]
    }
   ],
   "source": [
    "fruits(color = \"green\", 8) #error(intentional)\n",
    "#in a function call, keyword arguments must follow positional (or required) arguments"
   ]
  },
  {
   "cell_type": "code",
   "execution_count": 21,
   "metadata": {},
   "outputs": [
    {
     "name": "stdout",
     "output_type": "stream",
     "text": [
      "I am 8 years old and I like fruits which are of sour color and taste green\n",
      "I am 8 years old and I like fruits which are of green color and taste sour\n"
     ]
    }
   ],
   "source": [
    "fruits(8, \"sour\", \"green\") #order matters if keywords are not specified during function call\n",
    "fruits(8, taste = \"sour\", color = \"green\") #order does not matter if keywords are specified during function call"
   ]
  },
  {
   "cell_type": "code",
   "execution_count": 22,
   "metadata": {},
   "outputs": [
    {
     "ename": "TypeError",
     "evalue": "fruits() got multiple values for argument 'num'",
     "output_type": "error",
     "traceback": [
      "\u001b[0;31m---------------------------------------------------------------------------\u001b[0m",
      "\u001b[0;31mTypeError\u001b[0m                                 Traceback (most recent call last)",
      "\u001b[0;32m<ipython-input-22-db6d0f287be5>\u001b[0m in \u001b[0;36m<module>\u001b[0;34m\u001b[0m\n\u001b[0;32m----> 1\u001b[0;31m \u001b[0mfruits\u001b[0m\u001b[0;34m(\u001b[0m\u001b[0;36m8\u001b[0m\u001b[0;34m,\u001b[0m \u001b[0mnum\u001b[0m \u001b[0;34m=\u001b[0m \u001b[0;36m10\u001b[0m\u001b[0;34m)\u001b[0m \u001b[0;31m#error (intentional): multiple values cannot be given for the same argument\u001b[0m\u001b[0;34m\u001b[0m\u001b[0;34m\u001b[0m\u001b[0m\n\u001b[0m",
      "\u001b[0;31mTypeError\u001b[0m: fruits() got multiple values for argument 'num'"
     ]
    }
   ],
   "source": [
    "fruits(8, num = 10) #error (intentional): multiple values cannot be given for the same argument"
   ]
  },
  {
   "cell_type": "code",
   "execution_count": 23,
   "metadata": {},
   "outputs": [
    {
     "ename": "TypeError",
     "evalue": "fruits() got an unexpected keyword argument 'smell'",
     "output_type": "error",
     "traceback": [
      "\u001b[0;31m---------------------------------------------------------------------------\u001b[0m",
      "\u001b[0;31mTypeError\u001b[0m                                 Traceback (most recent call last)",
      "\u001b[0;32m<ipython-input-23-89632a14a792>\u001b[0m in \u001b[0;36m<module>\u001b[0;34m\u001b[0m\n\u001b[0;32m----> 1\u001b[0;31m \u001b[0mfruits\u001b[0m\u001b[0;34m(\u001b[0m\u001b[0;36m8\u001b[0m\u001b[0;34m,\u001b[0m \u001b[0msmell\u001b[0m \u001b[0;34m=\u001b[0m \u001b[0;34m\"good\"\u001b[0m\u001b[0;34m)\u001b[0m \u001b[0;31m#error (intentional): unknown keyword argument 'smell'\u001b[0m\u001b[0;34m\u001b[0m\u001b[0;34m\u001b[0m\u001b[0m\n\u001b[0m",
      "\u001b[0;31mTypeError\u001b[0m: fruits() got an unexpected keyword argument 'smell'"
     ]
    }
   ],
   "source": [
    "fruits(8, smell = \"good\") #error (intentional): unknown keyword argument 'smell'"
   ]
  },
  {
   "cell_type": "markdown",
   "metadata": {},
   "source": [
    "You are encouraged to try out more examples yourself and get a grip on the application of required arguments and keyword arguments."
   ]
  },
  {
   "cell_type": "markdown",
   "metadata": {},
   "source": [
    "When variables are passed to a function in python, they are passed by value. That is the value of the variable is passed as an argument and not the variable itself. However note that mutable objects like Dictionaries, Lists etc. are passed by reference, that is the function can modify the object itself. The following examples makes this clear. "
   ]
  },
  {
   "cell_type": "code",
   "execution_count": 24,
   "metadata": {},
   "outputs": [
    {
     "name": "stdout",
     "output_type": "stream",
     "text": [
      "10\n",
      "11\n",
      "10\n"
     ]
    }
   ],
   "source": [
    "def add_to(x):\n",
    "    x = x+1\n",
    "    return x\n",
    "\n",
    "a = 10\n",
    "print(a)\n",
    "\n",
    "b = add_to(a)\n",
    "print(b)\n",
    "print(a)"
   ]
  },
  {
   "cell_type": "code",
   "execution_count": 28,
   "metadata": {},
   "outputs": [
    {
     "name": "stdout",
     "output_type": "stream",
     "text": [
      "[1, 2]\n",
      "[1, 2, 10]\n",
      "[1, 2, 10]\n"
     ]
    }
   ],
   "source": [
    "def try_to_modify(my_list, x):\n",
    "    my_list.append(x)\n",
    "    return my_list\n",
    "\n",
    "my_list = [1,2]\n",
    "print(my_list)\n",
    "\n",
    "x = 10\n",
    "new_list = try_to_modify(my_list,x)\n",
    "\n",
    "print(new_list)\n",
    "print(my_list)"
   ]
  },
  {
   "cell_type": "markdown",
   "metadata": {},
   "source": [
    "Sometimes, you might want to use an already existing variable declared outsude the function body, inside your function. Such variables are called global variables."
   ]
  },
  {
   "cell_type": "code",
   "execution_count": 29,
   "metadata": {},
   "outputs": [
    {
     "name": "stdout",
     "output_type": "stream",
     "text": [
      "25\n"
     ]
    }
   ],
   "source": [
    "y = 5\n",
    "\n",
    "def adder(x):\n",
    "    x = x+y\n",
    "    return x\n",
    "    \n",
    "print(adder(20))"
   ]
  },
  {
   "cell_type": "markdown",
   "metadata": {},
   "source": [
    "Such 'global' variables can't be modified inside a function body, unless they are declared global inside the function. The following examples make it clear."
   ]
  },
  {
   "cell_type": "code",
   "execution_count": 30,
   "metadata": {},
   "outputs": [
    {
     "name": "stdout",
     "output_type": "stream",
     "text": [
      "30\n",
      "5\n"
     ]
    }
   ],
   "source": [
    "y = 5\n",
    "\n",
    "def adder(x):\n",
    "    y = 10\n",
    "    x = x+y\n",
    "    return x\n",
    "\n",
    "print(adder(20))\n",
    "print(y)"
   ]
  },
  {
   "cell_type": "code",
   "execution_count": 31,
   "metadata": {},
   "outputs": [
    {
     "name": "stdout",
     "output_type": "stream",
     "text": [
      "30\n",
      "10\n"
     ]
    }
   ],
   "source": [
    "y = 5\n",
    "\n",
    "def adder(x):\n",
    "    global y\n",
    "    y = 10\n",
    "    x = x+y\n",
    "    return x\n",
    "\n",
    "print(adder(20))\n",
    "print(y)"
   ]
  },
  {
   "cell_type": "markdown",
   "metadata": {},
   "source": [
    "You can use one function inside the body of another function as well, as illustrated in the following example."
   ]
  },
  {
   "cell_type": "code",
   "execution_count": 32,
   "metadata": {},
   "outputs": [
    {
     "name": "stdout",
     "output_type": "stream",
     "text": [
      "13\n",
      "18\n"
     ]
    }
   ],
   "source": [
    "def operation_1(a,b):\n",
    "    return a**2 + b**2\n",
    "\n",
    "def operation_2(a,b):\n",
    "    return operation_1(a,b) + a + b\n",
    "\n",
    "print(operation_1(2,3))\n",
    "print(operation_2(2,3))"
   ]
  },
  {
   "cell_type": "markdown",
   "metadata": {},
   "source": [
    "Functions are treated as objects in python, i.e. they can be assigned to a variable, can be an item in a list, and can be passed as an argument to another function, as illustrated by the following examples."
   ]
  },
  {
   "cell_type": "code",
   "execution_count": 33,
   "metadata": {},
   "outputs": [
    {
     "name": "stdout",
     "output_type": "stream",
     "text": [
      "13\n",
      "18\n",
      "188\n"
     ]
    }
   ],
   "source": [
    "def operation_3(a,b):\n",
    "    return operation_2(operation_1(a,b),a)\n",
    "\n",
    "print(operation_1(2,3))\n",
    "print(operation_2(2,3))\n",
    "print(operation_3(2,3))"
   ]
  },
  {
   "cell_type": "code",
   "execution_count": 34,
   "metadata": {},
   "outputs": [
    {
     "data": {
      "text/plain": [
       "<function __main__.operation_1(a, b)>"
      ]
     },
     "execution_count": 34,
     "metadata": {},
     "output_type": "execute_result"
    }
   ],
   "source": [
    "x = operation_1\n",
    "x"
   ]
  },
  {
   "cell_type": "code",
   "execution_count": 35,
   "metadata": {},
   "outputs": [
    {
     "data": {
      "text/plain": [
       "13"
      ]
     },
     "execution_count": 35,
     "metadata": {},
     "output_type": "execute_result"
    }
   ],
   "source": [
    "x(2,3)"
   ]
  },
  {
   "cell_type": "code",
   "execution_count": 36,
   "metadata": {},
   "outputs": [
    {
     "data": {
      "text/plain": [
       "[<function __main__.operation_1(a, b)>,\n",
       " <function __main__.operation_2(a, b)>,\n",
       " <function __main__.operation_3(a, b)>]"
      ]
     },
     "execution_count": 36,
     "metadata": {},
     "output_type": "execute_result"
    }
   ],
   "source": [
    "mylist = [operation_1, operation_2, operation_3]\n",
    "mylist"
   ]
  },
  {
   "cell_type": "markdown",
   "metadata": {},
   "source": [
    "The above is a basic introduction to functions, their implementations and handling, and their intricacies in python. The tutorial is by no means complete, and is intended to give you a start, and teach you the stuff that is most commonly used. You are encouraged to goolge things, and explore yourself, to know more about functions - one of the most powerful tools developed in programming."
   ]
  },
  {
   "cell_type": "markdown",
   "metadata": {},
   "source": [
    "# Project\n",
    "\n",
    "Now lets try our hands out at some problems. Your mission, should you choose to accept it is the following:\n",
    "\n",
    "You are given a 'galaxies.csv' file for the galaxies observed by the Sloan Digital Sky Survey(SDSS) - Mapping Nearby Galaxies At Apache Point Observatory(MaNGA). The file contains basic properties of each galaxy observed, namely  the following:\n",
    "\n",
    "1. mangaid - The unique identification number for each galaxy\n",
    "2. objra (in degrees) - The right ascension of the galaxy\n",
    "3. objdec (in degrees) - The declination of the galaxy\n",
    "4. redshift - The observed redshift in the spectra of the galaxy\n",
    "\n",
    "Right Ascension and Declination are just a set of coordinates used to describe positions of objects in the sky in astrophysics. They are just like how you describe a place on earth by its Longitude and Latitude. To know more, visit: https://skyandtelescope.org/astronomy-resources/right-ascension-declination-celestial-coordinates/\n",
    "\n",
    "The redshift describes how much the spectrum of a galaxy is shifted with respect to when the galaxy is stationary with respect to us. From elementary physics, we know that the apparent wavelength of an object moving away from us is larger than its actual wavelength( wavelength as seen from the object's rest frame), and this phenomena is called redshift. And vice versa for an object moving towards us, and this phenomena is called blueshift. To know more, check out: https://www.esa.int/Science_Exploration/Space_Science/What_is_red_shift\n",
    "\n",
    "Now, for galaxies that are located reasonably far away (like the galaxies observved by SDSS-MaNGA), we can assume that the redshift is primarily caused due to the expansion of space itself (Yes!!! we have entered the realm of cosmology), so we can use cosmological relations to calculate the distances to these objects, given their redshifts.\n",
    "\n",
    "\n",
    "Your task is the following:\n",
    "\n",
    "1. Compute the distance to a galaxy, in suitable units, given the galaxy's mangaid.\n",
    "\n",
    "2. Compute the number density (number per unit volume) of galaxies observed by SDSS-MaNGA, in some given redshift interval. (Note: The maximum redshift observed by SDSS-MaNGA ~ 0.15)\n",
    "\n",
    "3. Compute the physical separation between two galaxies, given their mangaid's. Note: The two galaxies might be at different radial distances.\n",
    "\n",
    "Try to use function based implementation to solve the above tasks.\n",
    "\n",
    "You can use the following information:\n",
    "1. Hubble's Law: The law specifies the rate of expansion of the universe. It was first observed by Edwin Hubble in the early 1900s. The law states: $$v = H_o \\times d$$, where v is the speed of the source at which it is moving away relative to the observer, and H0 is the hubble constant (you can take it to be 70 Km/s/Megaparsec) d is the instantaneous distance between the source and the observer. To know more about this law, check out: https://www.pnas.org/content/112/11/3173\n",
    "\n",
    "\n",
    "2. $$v = z \\times c$$, where v is defined earlier, c is the speed of light and z is the redshift. This is an approximate relation, valid for z<<1. Almost all redshifts observed by SDSS-MaNGA are less than 0.15, hence you can use this relation as an approximation.\n",
    "\n",
    "\n",
    "3. The angular separation between two objects, given their RA and DEC: $$ \\theta = \\arccos(\\sin(\\delta_1)\\sin(\\delta_2) + \\cos(\\delta_1)\\cos(\\delta_2)\\cos(\\alpha_1 - \\alpha_2)) $$, where $\\delta_1$ and $\\delta_2$ denotes the declination of the two objects respectively, $\\alpha_1$ and $\\alpha_2$ denotes the right ascension of the two objects respectively, and $\\theta$ denotes the angular separation between them. The above relation can be derived using laws of spherical trigonometry. If you are interested in a derivation, you can check out: http://www.castor2.ca/07_News/headline_062515.html\n",
    "\n",
    "4. We are assuming that the redshifts are small enough that the non linear cosmological effects are negligible.\n",
    "\n",
    "# ALL THE BEST !!!"
   ]
  }
 ],
 "metadata": {
  "kernelspec": {
   "display_name": "Python 3",
   "language": "python",
   "name": "python3"
  },
  "language_info": {
   "codemirror_mode": {
    "name": "ipython",
    "version": 3
   },
   "file_extension": ".py",
   "mimetype": "text/x-python",
   "name": "python",
   "nbconvert_exporter": "python",
   "pygments_lexer": "ipython3",
   "version": "3.6.9"
  }
 },
 "nbformat": 4,
 "nbformat_minor": 2
}
