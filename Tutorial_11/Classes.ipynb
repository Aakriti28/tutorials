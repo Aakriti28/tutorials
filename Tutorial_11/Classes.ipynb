{
  "nbformat": 4,
  "nbformat_minor": 0,
  "metadata": {
    "kernelspec": {
      "display_name": "Python 3",
      "language": "python",
      "name": "python3"
    },
    "language_info": {
      "codemirror_mode": {
        "name": "ipython",
        "version": 3
      },
      "file_extension": ".py",
      "mimetype": "text/x-python",
      "name": "python",
      "nbconvert_exporter": "python",
      "pygments_lexer": "ipython3",
      "version": "3.7.6"
    },
    "colab": {
      "name": "Classes.ipynb",
      "provenance": []
    }
  },
  "cells": [
    {
      "cell_type": "markdown",
      "metadata": {
        "id": "Vav1iRnoLT7G",
        "colab_type": "text"
      },
      "source": [
        "# Classes in Python"
      ]
    },
    {
      "cell_type": "markdown",
      "metadata": {
        "id": "4zW49tORiQxy",
        "colab_type": "text"
      },
      "source": [
        "##Introduction"
      ]
    },
    {
      "cell_type": "markdown",
      "metadata": {
        "id": "s5axDYU2LT7H",
        "colab_type": "text"
      },
      "source": [
        "In this tutorial, we will be looking at how classes are implemented in Python. Classes are important constructs in many programming languages. They are what makes Python, C++ etc. \"Object Oriented Programming Languages\". What this term means is that the language allows us to group similar quantities together and use them like an entity of its own. They are a user-defined data structure which has its own data and functions. Let us take an example of modelling a star using classes. "
      ]
    },
    {
      "cell_type": "code",
      "metadata": {
        "id": "2eEY_difLT7J",
        "colab_type": "code",
        "colab": {}
      },
      "source": [
        "class star:                         #Use keyword \"class\" for class definition\n",
        "    Temperature_K=3590              #Attributes of the class\n",
        "    Radius_solar=887\n",
        "    distance_light_years=700\n",
        "    \n",
        "\n",
        "    def print_star(self):           #Method of the class\n",
        "        print(f\"Temperature={self.Temperature_K} K \\n Radius={self.Radius_solar} solar radii \\n Distance={self.distance_light_years} ly\")"
      ],
      "execution_count": 0,
      "outputs": []
    },
    {
      "cell_type": "markdown",
      "metadata": {
        "id": "aq3VkWRhLT7P",
        "colab_type": "text"
      },
      "source": [
        "This code defines a class called <i>star</i> and gives it three data attributes that describe it(Temperature in Kelvin, radius in solar radius units and distance to it from Earth in light years). It also defines a function to print its temperature, radius and distance."
      ]
    },
    {
      "cell_type": "code",
      "metadata": {
        "id": "5_odQYjMLT7Q",
        "colab_type": "code",
        "colab": {}
      },
      "source": [
        "Betelgeuse=star()           #Betelgeuse is now an \"object\" of this class\n",
        "Betelgeuse.print_star()"
      ],
      "execution_count": 0,
      "outputs": []
    },
    {
      "cell_type": "markdown",
      "metadata": {
        "id": "cFKP62UeLT7U",
        "colab_type": "text"
      },
      "source": [
        "The function star() returns an **object** or an **instance** of this class. The attributes(Temperature_K, in this case) are accessed using the dot operator. The class definition is like a blueprint for the object which defines its attributes or parameters and its functions and we access these using the dot operator. The keyword `self` is used to access the attributes of the object which called that function and is a compulsory argument for all methods of the class while defining them(there are exceptions, but we don't need to worry about them here)."
      ]
    },
    {
      "cell_type": "code",
      "metadata": {
        "id": "uSKuwqtJLT7V",
        "colab_type": "code",
        "colab": {}
      },
      "source": [
        "Rigel=star()\n",
        "Rigel.Radius_solar=78.9\n",
        "Rigel.Temperature_K=11000\n",
        "Rigel.distance_light_years=864.3\n",
        "Rigel.print_star()\n",
        "Betelgeuse.print_star()"
      ],
      "execution_count": 0,
      "outputs": []
    },
    {
      "cell_type": "markdown",
      "metadata": {
        "id": "yC3XcLiWLT7X",
        "colab_type": "text"
      },
      "source": [
        "It's a painful process to change the parameters of a particular star each time you declare it. This is where the `__init__()` function comes in come in(two underscores on each side)."
      ]
    },
    {
      "cell_type": "code",
      "metadata": {
        "id": "BY5TuunCLT7Y",
        "colab_type": "code",
        "colab": {}
      },
      "source": [
        "class star:                         \n",
        "    \n",
        "    def __init__(self, temp,rad,dist):       \n",
        "        self.Temperature_K = temp\n",
        "        self.Radius_solar = rad\n",
        "        self.distance_light_years = dist\n",
        "        \n",
        "    def print_star(self):           \n",
        "        print(f\"Temperature={self.Temperature_K} K \\n Radius={self.Radius_solar} solar radii \\n Distance={self.distance_light_years} ly\")"
      ],
      "execution_count": 0,
      "outputs": []
    },
    {
      "cell_type": "code",
      "metadata": {
        "id": "rJqbgcliLT7b",
        "colab_type": "code",
        "colab": {}
      },
      "source": [
        "Bellatrix=star(22000,5.7525,250)\n",
        "Bellatrix.print_star()"
      ],
      "execution_count": 0,
      "outputs": []
    },
    {
      "cell_type": "markdown",
      "metadata": {
        "id": "sJQ0z24ALT7d",
        "colab_type": "text"
      },
      "source": [
        "The two underscores come from the fact that init is a common user-defined name for variables and to remove any conflict between keywords and user-defined names, the two underscores HAD to be introduced. `__init__()` contains a collection of statements that are to be executed when an object is created. Now, if you try to execute this earlier code cell..."
      ]
    },
    {
      "cell_type": "code",
      "metadata": {
        "id": "haQb6L5ELT7e",
        "colab_type": "code",
        "colab": {}
      },
      "source": [
        "Betelgeuse=star()           \n",
        "Betelgeuse.print_star()"
      ],
      "execution_count": 0,
      "outputs": []
    },
    {
      "cell_type": "markdown",
      "metadata": {
        "id": "shSf7YNdLT7g",
        "colab_type": "text"
      },
      "source": [
        "This will give an error because now the class star always calls `__init__()` while creating an object and it expects 4 arguments! You will have to provide the arguments of `__init__()` with default values in its definition for this command to work. `__init__()` is not like a normal method of the class and CANNOT be accessed using the dot operator."
      ]
    },
    {
      "cell_type": "code",
      "metadata": {
        "id": "U2B3piRHLT7g",
        "colab_type": "code",
        "colab": {}
      },
      "source": [
        "Betelgeuse.__init__(3590,887,700)"
      ],
      "execution_count": 0,
      "outputs": []
    },
    {
      "cell_type": "markdown",
      "metadata": {
        "id": "6AAjQ8puLT7i",
        "colab_type": "text"
      },
      "source": [
        "Do note the difference between variables defined inside the constructor and variables defined inside the class but outside the constructor. The latter are called <b>class attributes</b> and are a property of the class itself, while variables defined inside the constructor are called <b>instance attributes</b> and are a property of a particular object. Class attributes can be accessed using the class name. Do be careful while changing class attributes as that might affect class attributes of other objects too and might not give you the result that you want. In case of attributes that might get changed during a program run, it is advisable to use instance attributes instead of class attributes. For the rest of the tutorial, we will be using instance attributes only."
      ]
    },
    {
      "cell_type": "code",
      "metadata": {
        "id": "Xvhz4mbv0ba1",
        "colab_type": "code",
        "outputId": "8e8519bc-f1f7-4156-b3c3-c5dbc18434cb",
        "colab": {
          "base_uri": "https://localhost:8080/",
          "height": 34
        }
      },
      "source": [
        "class star:                         \n",
        "    Temperature_K=3590              #Class attribute\n",
        "    \n",
        "    def __init__(self,rad,dist):       \n",
        "        self.Radius_solar = rad        #Instance attribute\n",
        "        self.distance_light_years = dist\n",
        "        \n",
        "    def print_star(self):           #Method of the class\n",
        "        print(f\"Temperature={self.Temperature_K} K \\n Radius={self.Radius_solar} solar radii \\n Distance={self.distance_light_years} ly\")\n",
        "\n",
        "star.Temperature_K                   #Class attribute being accessed by the class name. Note that no object has been made for this class."
      ],
      "execution_count": 0,
      "outputs": [
        {
          "output_type": "execute_result",
          "data": {
            "text/plain": [
              "3590"
            ]
          },
          "metadata": {
            "tags": []
          },
          "execution_count": 63
        }
      ]
    },
    {
      "cell_type": "markdown",
      "metadata": {
        "id": "zNBgrbhcLT7k",
        "colab_type": "text"
      },
      "source": [
        "We can also define methods of the class that are capable of changing the instance attributes."
      ]
    },
    {
      "cell_type": "code",
      "metadata": {
        "id": "xHji7EmxLT7l",
        "colab_type": "code",
        "colab": {}
      },
      "source": [
        "class star:                         \n",
        "  \n",
        "    def __init__(self, temp,rad,dist):       \n",
        "        self.Temperature_K = temp\n",
        "        self.Radius_solar = rad\n",
        "        self.distance_light_years = dist\n",
        "        \n",
        "    def print_star(self):          \n",
        "        print(f\"Temperature={self.Temperature_K} K \\n Radius={self.Radius_solar} solar radii \\n Distance={self.distance_light_years} ly\")\n",
        "    \n",
        "    def set_temp(self,temp):\n",
        "        self.Temperature_K=temp"
      ],
      "execution_count": 0,
      "outputs": []
    },
    {
      "cell_type": "code",
      "metadata": {
        "id": "SEnf2MPPLT7m",
        "colab_type": "code",
        "colab": {
          "base_uri": "https://localhost:8080/",
          "height": 119
        },
        "outputId": "3ee47370-776a-488e-eb1c-09d8ac15ead9"
      },
      "source": [
        "Betelgeuse=star(0,887,700)\n",
        "Betelgeuse.print_star()\n",
        "Betelgeuse.set_temp(3590)\n",
        "Betelgeuse.print_star()"
      ],
      "execution_count": 71,
      "outputs": [
        {
          "output_type": "stream",
          "text": [
            "Temperature=0 K \n",
            " Radius=887 solar radii \n",
            " Distance=700 ly\n",
            "Temperature=3590 K \n",
            " Radius=887 solar radii \n",
            " Distance=700 ly\n"
          ],
          "name": "stdout"
        }
      ]
    },
    {
      "cell_type": "markdown",
      "metadata": {
        "id": "bgaJhx_vLT7o",
        "colab_type": "text"
      },
      "source": [
        "Methods can also return values."
      ]
    },
    {
      "cell_type": "code",
      "metadata": {
        "id": "x37vAckrLT7o",
        "colab_type": "code",
        "colab": {}
      },
      "source": [
        "class star:                         \n",
        "   \n",
        "    def __init__(self, temp,rad,dist):      \n",
        "        self.Temperature_K = temp\n",
        "        self.Radius_solar = rad\n",
        "        self.distance_light_years = dist\n",
        "        \n",
        "    def print_star(self):          \n",
        "        print(f\"Temperature={self.Temperature_K} K \\n Radius={self.Radius_solar} solar radii \\n Distance={self.distance_light_years} ly\")\n",
        "    \n",
        "    def set_temp(self,temp):\n",
        "        self.Temperature_K=temp\n",
        "\n",
        "    def add_uncertainty(self,uncertainty):\n",
        "        return (self.Radius_solar+uncertainty)"
      ],
      "execution_count": 0,
      "outputs": []
    },
    {
      "cell_type": "code",
      "metadata": {
        "id": "h-BBzeouLT7q",
        "colab_type": "code",
        "colab": {
          "base_uri": "https://localhost:8080/",
          "height": 34
        },
        "outputId": "b9ca780e-3e0b-44af-bcd7-1207e65bc253"
      },
      "source": [
        "Betelgeuse=star(3590,887,700)\n",
        "print(Betelgeuse.add_uncertainty(100))"
      ],
      "execution_count": 77,
      "outputs": [
        {
          "output_type": "stream",
          "text": [
            "987\n"
          ],
          "name": "stdout"
        }
      ]
    },
    {
      "cell_type": "markdown",
      "metadata": {
        "id": "46EK3OAgLT7w",
        "colab_type": "text"
      },
      "source": [
        "## Inheritance in Python"
      ]
    },
    {
      "cell_type": "markdown",
      "metadata": {
        "id": "PYSTZa0oLT7w",
        "colab_type": "text"
      },
      "source": [
        "A class encapsulates its data and functions in a single entity and only its own functions and objects can access the information it contains. This might get troublesome sometimes. For instance, let us say we have a class for red giants. Red giants are stars and ideally should have all the attributes and functions of the star class, but if defined as a separate class, the objects of the red giant class would not have access to those and we would need to define functions for them separately. This is where Inheritance comes in. Inheritance is the property of a class to inherit the data and functions of another class. The class who receives these properties is called the <i>child class</i> and the class to whom these properties originally belongs to is called the <i>parent class</i>."
      ]
    },
    {
      "cell_type": "code",
      "metadata": {
        "id": "rGysA3GjMdoQ",
        "colab_type": "code",
        "colab": {}
      },
      "source": [
        "class star:                         \n",
        "    \n",
        "    def __init__(self, temp,rad,dist):       \n",
        "        self.Temperature_K = temp\n",
        "        self.Radius_solar = rad\n",
        "        self.distance_light_years = dist\n",
        "        \n",
        "    def print_star(self):           \n",
        "        print(f\"Temperature={self.Temperature_K} K \\n Radius={self.Radius_solar} solar radii \\n Distance={self.distance_light_years} ly\")\n",
        "    \n",
        "    def set_temp(self,temp):\n",
        "        self.Temperature_K=temp\n",
        "    def add_uncertainty(self,uncertainty):\n",
        "        return (self.Radius_solar+uncertainty)\n",
        "\n",
        "class redgiant(star):               #Notice the argument\n",
        "    def isredgiant(self):\n",
        "      return True"
      ],
      "execution_count": 0,
      "outputs": []
    },
    {
      "cell_type": "code",
      "metadata": {
        "id": "-bDRw8tYNJyC",
        "colab_type": "code",
        "outputId": "fa8599a1-9863-4627-c6a0-23a7927afe72",
        "colab": {
          "base_uri": "https://localhost:8080/",
          "height": 68
        }
      },
      "source": [
        "Aldebaran=redgiant(3910,44,65.23)              #This command calls the __init__() function of the parent class,i.e. star class, Aldebaran is now an object of the redgiant class\n",
        "Aldebaran.isredgiant()\n",
        "Aldebaran.print_star()                         #We can access the member functions of the parent class"
      ],
      "execution_count": 0,
      "outputs": [
        {
          "output_type": "stream",
          "text": [
            "Temperature=3910 K \n",
            " Temperature=44 solar radii \n",
            " Temperature=65.23 ly\n"
          ],
          "name": "stdout"
        }
      ]
    },
    {
      "cell_type": "markdown",
      "metadata": {
        "id": "S8ArHb2LPBJu",
        "colab_type": "text"
      },
      "source": [
        "Here, star is the parent class and redgiant is the child class. The name of the parent class is provided as an argument to the child class. If there are multiple parent classes, then you add them as comma-separated arguments to the child class. Giving the star class as an argument to the definition of the redgiant class essentially means that whenever an object of the redgiant class is created, the `__init__()` function of the star class gets called. Hence, the following code won't work."
      ]
    },
    {
      "cell_type": "code",
      "metadata": {
        "id": "uxR72sIGU0QJ",
        "colab_type": "code",
        "outputId": "9cfb80ab-3f5e-4918-ab39-214d80da46eb",
        "colab": {
          "base_uri": "https://localhost:8080/",
          "height": 164
        }
      },
      "source": [
        "Aldebaran=redgiant()"
      ],
      "execution_count": 0,
      "outputs": [
        {
          "output_type": "error",
          "ename": "TypeError",
          "evalue": "ignored",
          "traceback": [
            "\u001b[0;31m---------------------------------------------------------------------------\u001b[0m",
            "\u001b[0;31mTypeError\u001b[0m                                 Traceback (most recent call last)",
            "\u001b[0;32m<ipython-input-17-16d0696c9951>\u001b[0m in \u001b[0;36m<module>\u001b[0;34m()\u001b[0m\n\u001b[0;32m----> 1\u001b[0;31m \u001b[0mAldebaran\u001b[0m\u001b[0;34m=\u001b[0m\u001b[0mredgiant\u001b[0m\u001b[0;34m(\u001b[0m\u001b[0;34m)\u001b[0m\u001b[0;34m\u001b[0m\u001b[0;34m\u001b[0m\u001b[0m\n\u001b[0m",
            "\u001b[0;31mTypeError\u001b[0m: __init__() missing 3 required positional arguments: 'temp', 'rad', and 'dist'"
          ]
        }
      ]
    },
    {
      "cell_type": "markdown",
      "metadata": {
        "id": "nW8ztxbVUgcm",
        "colab_type": "text"
      },
      "source": [
        "But what if you wanted the child class to have its own `__init__()` function?"
      ]
    },
    {
      "cell_type": "code",
      "metadata": {
        "id": "jUkMUeEGUte-",
        "colab_type": "code",
        "colab": {}
      },
      "source": [
        "class star(object):                         \n",
        "    \n",
        "    def __init__(self, temp,rad,dist):       \n",
        "        self.Temperature_K = temp\n",
        "        self.Radius_solar = rad\n",
        "        self.distance_light_years = dist\n",
        "        \n",
        "    def print_star(self):           \n",
        "        print(f\"Temperature={self.Temperature_K} K \\n Radius={self.Radius_solar} solar radii \\n Distance={self.distance_light_years} ly\")\n",
        "    \n",
        "    def add_uncertainty(self,uncertainty):\n",
        "        return (self.Radius_solar+uncertainty)\n",
        "\n",
        "class redgiant(star):               \n",
        "\n",
        "    def __init__(self,temp,rad,dist,age):\n",
        "        self.age=age  \n",
        "        star.__init__(self,temp,rad,dist)    #Invoking the __init() function of the star class explicitly \n",
        "    def isredgiant(self):\n",
        "        return True\n",
        "    def print_age(self):\n",
        "      print(self.age)"
      ],
      "execution_count": 0,
      "outputs": []
    },
    {
      "cell_type": "code",
      "metadata": {
        "id": "WupVrI0bVjcY",
        "colab_type": "code",
        "outputId": "b70e6a7d-51a9-4464-c014-2b4a45337e03",
        "colab": {
          "base_uri": "https://localhost:8080/",
          "height": 102
        }
      },
      "source": [
        "Aldebaran=redgiant(3910,44,65.23,6.605*10**9)              \n",
        "print(Aldebaran.isredgiant())\n",
        "Aldebaran.print_age()\n",
        "Aldebaran.print_star()"
      ],
      "execution_count": 80,
      "outputs": [
        {
          "output_type": "stream",
          "text": [
            "True\n",
            "6605000000.0\n",
            "Temperature=3910 K \n",
            " Radius=44 solar radii \n",
            " Distance=65.23 ly\n"
          ],
          "name": "stdout"
        }
      ]
    },
    {
      "cell_type": "markdown",
      "metadata": {
        "id": "CitKq4NwXjom",
        "colab_type": "text"
      },
      "source": [
        "The `__init__() ` function for the child class SHOULD have as arguments all the arguments needed for the `__init__()` function of the parent class. Unlike last time when the parent class's `__init__()` function got called automatically, you HAVE to provide an explicit call to the parent class's `__init__()` function."
      ]
    },
    {
      "cell_type": "markdown",
      "metadata": {
        "id": "XMBcRJ_SiNEd",
        "colab_type": "text"
      },
      "source": [
        "## Passing objects through functions"
      ]
    },
    {
      "cell_type": "markdown",
      "metadata": {
        "id": "kIumCYCciY3e",
        "colab_type": "text"
      },
      "source": [
        "A class is a user-defined data structure and it behaves like a mutable datatype. Passing an object as a parameter to a function works the same way as passing any other mutable data type to a function."
      ]
    },
    {
      "cell_type": "code",
      "metadata": {
        "id": "aDRcWIstkPfr",
        "colab_type": "code",
        "colab": {}
      },
      "source": [
        "def change_temp1(obj):\n",
        "    print(2*obj.Temperature_K)\n",
        "\n",
        "def change_temp2(obj):\n",
        "    Rigel=star(11000,78.9,864.3)\n",
        "    obj=Rigel                                  #Rigel gets stored in an object copied from obj\n",
        "    print(obj.Temperature_K)\n",
        "\n",
        "def change_temp3(obj):\n",
        "    obj.Temperature_K=obj.Temperature_K*2\n",
        "    print(obj.Temperature_K)\n",
        "    \n",
        "class star(object):                        \n",
        "    \n",
        "    def __init__(self, temp,rad,dist):       \n",
        "        self.Temperature_K = temp\n",
        "        self.Radius_solar = rad\n",
        "        self.distance_light_years = dist\n",
        "        \n",
        "    def print_star(self):           \n",
        "        print(f\"Temperature={self.Temperature_K} K \\n Radius={self.Radius_solar} solar radii \\n Distance={self.distance_light_years} ly\")\n",
        "    \n",
        "    def add_uncertainty(self,uncertainty):\n",
        "        return (self.Radius_solar+uncertainty)"
      ],
      "execution_count": 0,
      "outputs": []
    },
    {
      "cell_type": "code",
      "metadata": {
        "id": "Y2KVvKcjlKD5",
        "colab_type": "code",
        "outputId": "541284f0-86b1-4cc8-cf10-84013ff11eda",
        "colab": {
          "base_uri": "https://localhost:8080/",
          "height": 85
        }
      },
      "source": [
        "Betelgeuse=star(3590,887,700)\n",
        "change_temp1(Betelgeuse)\n",
        "Betelgeuse.print_star()"
      ],
      "execution_count": 0,
      "outputs": [
        {
          "output_type": "stream",
          "text": [
            "7180\n",
            "Temperature=3590 K \n",
            " Radius=887 solar radii \n",
            " Distance=700 ly\n"
          ],
          "name": "stdout"
        }
      ]
    },
    {
      "cell_type": "code",
      "metadata": {
        "id": "Lnq5sfDQrJYr",
        "colab_type": "code",
        "outputId": "80cc1726-6e3b-4f13-cfa8-7d0ead7e1edf",
        "colab": {
          "base_uri": "https://localhost:8080/",
          "height": 85
        }
      },
      "source": [
        "Betelgeuse=star(3590,887,700)\n",
        "change_temp2(Betelgeuse)\n",
        "Betelgeuse.print_star()"
      ],
      "execution_count": 0,
      "outputs": [
        {
          "output_type": "stream",
          "text": [
            "11000\n",
            "Temperature=3590 K \n",
            " Radius=887 solar radii \n",
            " Distance=700 ly\n"
          ],
          "name": "stdout"
        }
      ]
    },
    {
      "cell_type": "code",
      "metadata": {
        "id": "wRniF1JBrLHH",
        "colab_type": "code",
        "outputId": "1e344b61-7929-42eb-bf9c-5cb3e6d11716",
        "colab": {
          "base_uri": "https://localhost:8080/",
          "height": 85
        }
      },
      "source": [
        "Betelgeuse=star(3590,887,700)\n",
        "change_temp3(Betelgeuse)\n",
        "Betelgeuse.print_star()"
      ],
      "execution_count": 0,
      "outputs": [
        {
          "output_type": "stream",
          "text": [
            "7180\n",
            "Temperature=7180 K \n",
            " Radius=887 solar radii \n",
            " Distance=700 ly\n"
          ],
          "name": "stdout"
        }
      ]
    },
    {
      "cell_type": "markdown",
      "metadata": {
        "id": "yxMBH8n2pIob",
        "colab_type": "text"
      },
      "source": [
        "Do remember that in Python, for mutable objects, as long as the object being passed is not being changed element-wise, the original object will not be changed."
      ]
    },
    {
      "cell_type": "markdown",
      "metadata": {
        "id": "fW0k-FtecuSf",
        "colab_type": "text"
      },
      "source": [
        "## Your Assignment..."
      ]
    },
    {
      "cell_type": "markdown",
      "metadata": {
        "id": "D3HrUyVMc5Pi",
        "colab_type": "text"
      },
      "source": [
        "...should you choose to accept it, is as follows :<br>\n",
        "**Task 1 :** Make a class for a filter read from a FITS file. Each object of this class should be for a specific filter(for instance, U/G/R/I/Z). The class should have the following attributes:<br>\n",
        "1. An array containing the quantum efficiency values for that filter as an instance attribute.\n",
        "2. An array containing the wavelength values as an instance attribute.\n",
        "<br>\n",
        "\n",
        "\n",
        "The class should contain the following functions :<br>\n",
        " 1. An `__init__()` function which initializes the array for quantum efficiency .<br>\n",
        " 2. A member function `calc_intensity()` which calculates the intensity of a star given an object of a star class as its argument.<br>\n",
        " You can use the code that you wrote in Tutorial 10 in this task directly.<br>"
      ]
    }
  ]
}