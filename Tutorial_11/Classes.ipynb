{
 "cells": [
  {
   "cell_type": "markdown",
   "metadata": {},
   "source": [
    "# Classes in Python"
   ]
  },
  {
   "cell_type": "markdown",
   "metadata": {},
   "source": [
    "In this tutorial, we will be looking at how classes are implemented in Python. Classes are important constructs in many programming languages. They are what makes Python, C++ etc. \"Object Oriented Programming Languages\". What this term means is that the language allows us to group similar quantities together and use them like an entity of its own. They are a user-defined data structure which has its own data and functions. Let us take an example of modelling a star using classes. "
   ]
  },
  {
   "cell_type": "code",
   "execution_count": null,
   "metadata": {},
   "outputs": [],
   "source": [
    "class star:                         #Use keyword \"class\" for class definition\n",
    "    Temperature_K=3590              #Attributes of the class\n",
    "    Radius_solar=887\n",
    "    distance_light_years=700\n",
    "    \n",
    "\n",
    "    def print_star(self):           #Method of the class\n",
    "        print(f\"Temperature={self.Temperature_K} K \\n Temperature={self.Radius_solar} solar radii \\n Temperature={self.distance_light_years} ly\")"
   ]
  },
  {
   "cell_type": "markdown",
   "metadata": {},
   "source": [
    "This code defines a class called <i>star</i> and gives it three data attributes that describe it(Temperature in Kelvin, radius in solar radius units and distance to it from Earth in light years). It also defines a function to print its temperature, radius and distance."
   ]
  },
  {
   "cell_type": "code",
   "execution_count": null,
   "metadata": {},
   "outputs": [],
   "source": [
    "Betelgeuse=star()           #Betelgeuse is now an \"object\" of this class\n",
    "Betelgeuse.print_star()"
   ]
  },
  {
   "cell_type": "markdown",
   "metadata": {},
   "source": [
    "The function star() returns an **object** or an **instance** of this class. The attributes(Temperature_K, in this case) are accessed using the dot operator. The class definition is like a blueprint for the object which defines its attributes or parameters and its functions and we access these using the dot operator. The keyword `self` is used to access the attributes of the object which called that function."
   ]
  },
  {
   "cell_type": "code",
   "execution_count": null,
   "metadata": {},
   "outputs": [],
   "source": [
    "Rigel=star()\n",
    "Rigel.Radius_solar=78.9\n",
    "Rigel.Temperature_K=11000\n",
    "Rigel.distance_light_years=864.3\n",
    "Rigel.print_star()\n",
    "Betelgeuse.print_star()"
   ]
  },
  {
   "cell_type": "markdown",
   "metadata": {},
   "source": [
    "It's a painful process to change the parameters of a particular star each time you declare it. This is where `__init__()` function comes in come in(two underscores on each side)."
   ]
  },
  {
   "cell_type": "code",
   "execution_count": null,
   "metadata": {},
   "outputs": [],
   "source": [
    "class star:                         #Use keyword \"class\" for class definition\n",
    "    Temperature_K=3590              #Attributes of the class\n",
    "    Radius_solar=887\n",
    "    distance_light_years=700\n",
    "    \n",
    "    def __init__(self, temp,rad,dist):       # like a constructor for this class\n",
    "        self.Temperature_K = temp\n",
    "        self.Radius_solar = rad\n",
    "        self.distance_light_years = dist\n",
    "        \n",
    "    def print_star(self):           #Method of the class\n",
    "        print(f\"Temperature={self.Temperature_K} K \\n Temperature={self.Radius_solar} solar radii \\n Temperature={self.distance_light_years} ly\")"
   ]
  },
  {
   "cell_type": "code",
   "execution_count": null,
   "metadata": {},
   "outputs": [],
   "source": [
    "Bellatrix=star(22000,5.7525,250)\n",
    "Bellatrix.print_star()"
   ]
  },
  {
   "cell_type": "markdown",
   "metadata": {},
   "source": [
    "The two underscores come from the fact that init is a common user-defined name for variables and to remove any conflict between keywords and user-defined names, the two underscores HAD to be introduced. `__init__()` contains a collection of statements that are to be executed when an object is created. Now, if you try to execute this earlier code cell..."
   ]
  },
  {
   "cell_type": "code",
   "execution_count": null,
   "metadata": {},
   "outputs": [],
   "source": [
    "Betelgeuse=star()           #Betelgeuse is now an \"object\" of this class\n",
    "Betelgeuse.print_star()"
   ]
  },
  {
   "cell_type": "markdown",
   "metadata": {},
   "source": [
    "This will give an error because now the class star always calls `__init__()` while creating an object and it expects 4 arguments! You will have to provide the arguments of `__init__()` with default values in its definition for this command to work. `__init__()` is not like a normal method of the class and CANNOT be accessed using the dot operator."
   ]
  },
  {
   "cell_type": "code",
   "execution_count": null,
   "metadata": {},
   "outputs": [],
   "source": [
    "Betelgeuse.__init__(3590,887,700)"
   ]
  },
  {
   "cell_type": "markdown",
   "metadata": {},
   "source": [
    "Class attributes can also be accessed using the class name."
   ]
  },
  {
   "cell_type": "code",
   "execution_count": null,
   "metadata": {},
   "outputs": [],
   "source": [
    "print(star.Temperature_K)\n",
    "print(star.distance_light_years)\n",
    "print(star.Radius_solar)"
   ]
  },
  {
   "cell_type": "markdown",
   "metadata": {},
   "source": [
    "We can also define methods of the class that are capable of changing the class attributes."
   ]
  },
  {
   "cell_type": "code",
   "execution_count": null,
   "metadata": {},
   "outputs": [],
   "source": [
    "class star:                         #Use keyword \"class\" for class definition\n",
    "    Temperature_K=3590              #Attributes of the class\n",
    "    Radius_solar=887\n",
    "    distance_light_years=700\n",
    "    \n",
    "    def __init__(self, temp,rad,dist):       # like a constructor for this class\n",
    "        self.Temperature_K = temp\n",
    "        self.Radius_solar = rad\n",
    "        self.distance_light_years = dist\n",
    "        \n",
    "    def print_star(self):           #Method of the class\n",
    "        print(f\"Temperature={self.Temperature_K} K \\n Temperature={self.Radius_solar} solar radii \\n Temperature={self.distance_light_years} ly\")\n",
    "    \n",
    "    def set_temp(self,temp):\n",
    "        self.Temperature_K=temp"
   ]
  },
  {
   "cell_type": "code",
   "execution_count": null,
   "metadata": {},
   "outputs": [],
   "source": [
    "Betelgeuse=star(0,887,700)\n",
    "Betelgeuse.print_star()\n",
    "Betelgeuse.set_temp(3590)\n",
    "Betelgeuse.print_star()"
   ]
  },
  {
   "cell_type": "markdown",
   "metadata": {},
   "source": [
    "Class methods can also return values."
   ]
  },
  {
   "cell_type": "code",
   "execution_count": null,
   "metadata": {},
   "outputs": [],
   "source": [
    "class star:                         #Use keyword \"class\" for class definition\n",
    "    Temperature_K=3590              #Attributes of the class\n",
    "    Radius_solar=887\n",
    "    distance_light_years=700\n",
    "    \n",
    "    def __init__(self, temp,rad,dist):       # like a constructor for this class\n",
    "        self.Temperature_K = temp\n",
    "        self.Radius_solar = rad\n",
    "        self.distance_light_years = dist\n",
    "        \n",
    "    def print_star(self):           #Method of the class\n",
    "        print(f\"Temperature={self.Temperature_K} K \\n Temperature={self.Radius_solar} solar radii \\n Temperature={self.distance_light_years} ly\")\n",
    "    \n",
    "    def set_temp(self,temp):\n",
    "        self.Temperature_K=temp\n",
    "    def add_uncertainty(self,uncertainty):\n",
    "        return (self.Radius_solar+uncertainty)"
   ]
  },
  {
   "cell_type": "code",
   "execution_count": null,
   "metadata": {},
   "outputs": [],
   "source": [
    "Betelgeuse=star(3590,887,700)\n",
    "print(Betelgeuse.add_uncertainty(100))"
   ]
  },
  {
   "cell_type": "code",
   "execution_count": 1,
   "metadata": {},
   "outputs": [],
   "source": [
    "from astropy.io import fits"
   ]
  },
  {
   "cell_type": "code",
   "execution_count": 2,
   "metadata": {},
   "outputs": [
    {
     "name": "stdout",
     "output_type": "stream",
     "text": [
      "Filename: filter_curves.fits\n",
      "No.    Name      Ver    Type      Cards   Dimensions   Format\n",
      "  0  PRIMARY       1 PrimaryHDU      63   ()      \n",
      "  1  U             1 BinTableHDU     20   47R x 5C   [E, E, E, E, E]   \n",
      "  2  G             1 BinTableHDU     20   89R x 5C   [E, E, E, E, E]   \n",
      "  3  R             1 BinTableHDU     20   75R x 5C   [E, E, E, E, E]   \n",
      "  4  I             1 BinTableHDU     20   89R x 5C   [E, E, E, E, E]   \n",
      "  5  Z             1 BinTableHDU     20   141R x 5C   [E, E, E, E, E]   \n"
     ]
    }
   ],
   "source": [
    "SDSS_filter = fits.open('filter_curves.fits')\n",
    "SDSS_filter.info()"
   ]
  },
  {
   "cell_type": "code",
   "execution_count": 3,
   "metadata": {},
   "outputs": [],
   "source": [
    "#Add another class on filters\n",
    "#Add methods to improve functionality"
   ]
  },
  {
   "cell_type": "code",
   "execution_count": null,
   "metadata": {},
   "outputs": [],
   "source": []
  }
 ],
 "metadata": {
  "kernelspec": {
   "display_name": "Python 3",
   "language": "python",
   "name": "python3"
  },
  "language_info": {
   "codemirror_mode": {
    "name": "ipython",
    "version": 3
   },
   "file_extension": ".py",
   "mimetype": "text/x-python",
   "name": "python",
   "nbconvert_exporter": "python",
   "pygments_lexer": "ipython3",
   "version": "3.7.6"
  }
 },
 "nbformat": 4,
 "nbformat_minor": 4
}
