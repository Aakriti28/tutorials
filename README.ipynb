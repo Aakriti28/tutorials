{
 "cells": [
  {
   "cell_type": "markdown",
   "metadata": {},
   "source": [
    "# Tutorials\n",
    "Set of Jupyter Notebooks, along with datafiles, to get started with Scientific Computing in Astronomy  \n",
    "\n",
    "<hr>\n",
    "\n",
    "## [How to setup Jupyter notebooks](./Jupyter%20Setup/README.md )\n",
    "\n",
    "1. ### [Windows](./Jupyter%20Setup/README.md#Windows )\n",
    "2. ### [MacOS](./Jupyter%20Setup/README.md#MacOS )\n",
    "3. ### [Linux distribution (includes Ubuntu)](./Jupyter%20Setup/README.md#Linux-distribution-(includes-Ubuntu) )\n",
    "    1. #### [Installing Jupyter - Using Conda or Miniconda](./Jupyter%20Setup/README.md#Installing-Jupyter---Using-Conda-or-Miniconda )\n",
    "    2. #### [Installing Jupyter - Using python-pip (Try this only if you are comfortable with terminal)](./Jupyter%20Setup/README.md#Installing-Jupyter---Using-python-pip-(Try-this-only-if-you-are-comfortable-with-terminal) ) \n",
    "\n",
    "***\n",
    "\n",
    "## [How to use Jupyter notebooks]()\n",
    "\n",
    "1. ### Opening Notebooks  \n",
    "\n",
    "\n",
    "***\n",
    "\n",
    "## Tutorial 1\n",
    "\n",
    "***"
   ]
  },
  {
   "cell_type": "code",
   "execution_count": null,
   "metadata": {},
   "outputs": [],
   "source": []
  }
 ],
 "metadata": {
  "kernelspec": {
   "display_name": "Python 3",
   "language": "python",
   "name": "python3"
  },
  "language_info": {
   "codemirror_mode": {
    "name": "ipython",
    "version": 3
   },
   "file_extension": ".py",
   "mimetype": "text/x-python",
   "name": "python",
   "nbconvert_exporter": "python",
   "pygments_lexer": "ipython3",
   "version": "3.8.2"
  }
 },
 "nbformat": 4,
 "nbformat_minor": 4
}
