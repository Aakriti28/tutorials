{
 "cells": [
  {
   "cell_type": "markdown",
   "metadata": {},
   "source": [
    "# Tutorials  \n",
    "Set of Jupyter Notebooks, along with datafiles, to get started with Scientific Computing in Astronomy  \n",
    "\n",
    "## Ways to setup Jupyter notebooks  \n",
    "While Jupyter runs code in many programming languages, Python is a requirement (Python 3.3 or greater, or Python 2.7) for installing the classic Jupyter Notebook.  \n",
    "\n",
    "### Windows  \n",
    "Install Anaconda (it has almost all python packages) from [here.](https://docs.anaconda.com/anaconda/install/windows/ \"Installing Anaconda on Windows\") (Read the instructions carefully)  \n",
    "Open command prompt (Press Windows button and type ‘cmd’)  \n",
    "Enter the following command to run jupyter notebook  \n",
    "> jupyter notebook  \n",
    "\n",
    "### Linux distribution (includes Ubuntu)  \n",
    "#### Installing Jupyter - Using Conda or Miniconda  \n",
    "Install Anaconda (it has almost all python packages) from [here.](https://docs.anaconda.com/anaconda/install/linux/ \"Installing Anaconda on Linux\") (Read the instructions carefully)  \n",
    "Open terminal (Press CTRL + ALT + T)   \n",
    "Enter the following command to run jupyter notebook  \n",
    "> jupyter notebook;  \n",
    "\n",
    "#### Installing Jupyter - Using python-pip (Try this only if you are comfortable with terminal)  \n",
    "Python is usually pre-installed in Linux distribution.  \n",
    "If you are using Ubuntu 16.04 then the pre-installed python versions are 2.7.12 and 3.5.2.  \n",
    "To check your python version, type 'python3' in terminal. If it doesn't work, 'python'.  \n",
    "1. Confirm that your python version is 3.6+.  \n",
    "If not, install python from https://www.python.org/ftp/python/3.8.2/Python-3.8.2.tar.xz  \n",
    "or use the following command in terminal  \n",
    "> sudo apt install python3.8;  \n",
    "\n",
    "2. Install pip using  \n",
    "> sudo apt install python3-pip;  \n",
    " \n",
    "3. Install jupyter and other important packages using  \n",
    "> pip3 install --upgrade pip3;  \n",
    "> pip3 install bs4 requests jupyter scipy astropy matplotlib;  \n",
    " \n",
    "4. Enter the following command to run jupyter notebook  \n",
    "> jupyter notebook;  \n",
    "\n",
    "### MacOS  \n",
    "Install Anaconda (it has almost all python packages) from [here.](https://docs.anaconda.com/anaconda/install/mac-os/ \"Installing Anaconda on MacOS\") (Read the instructions carefully)  \n",
    "Enter the following command to run jupyter notebook  \n",
    "> jupyter notebook  \n",
    "\n",
    "## Using Jupyter notebooks  \n",
    "\n",
    "\n",
    "\n",
    "\n",
    "\n",
    "// TODO  \n",
    "// How to create a Virtual environment.  \n",
    "// Basic functionalities of jupyter  \n",
    "\n",
    "Using Virtual environment  \n",
    "If you are using python2.7 or python3 (<=3.5) then you do need a virtual environment here.  \n",
    "If you are already using python and have requirements of different python package versions then Virtual environment.  \n",
    "It is helpful for future projects in different versions of python.  \n",
    "\n",
    "\n",
    "\n",
    "\n"
   ]
  },
  {
   "cell_type": "code",
   "execution_count": null,
   "metadata": {},
   "outputs": [],
   "source": []
  },
  {
   "cell_type": "code",
   "execution_count": null,
   "metadata": {},
   "outputs": [],
   "source": []
  }
 ],
 "metadata": {
  "kernelspec": {
   "display_name": "Python 3",
   "language": "python",
   "name": "python3"
  },
  "language_info": {
   "codemirror_mode": {
    "name": "ipython",
    "version": 3
   },
   "file_extension": ".py",
   "mimetype": "text/x-python",
   "name": "python",
   "nbconvert_exporter": "python",
   "pygments_lexer": "ipython3",
   "version": "3.8.2"
  }
 },
 "nbformat": 4,
 "nbformat_minor": 4
}
