{
 "cells": [
  {
   "cell_type": "markdown",
   "metadata": {},
   "source": [
    "# Tutorials\n",
    "Set of Jupyter Notebooks, along with datafiles, to get started with Scientific Computing in Astronomy  \n",
    "\n",
    "\n",
    "\n",
    "## Ways to setup Jupyter notebooks \n",
    "While Jupyter runs code in many programming languages, Python is a requirement (Python 3.3 or greater, or Python 2.7) for installing the classic Jupyter Notebook.\n",
    "\n",
    "### Windows\n",
    "#### Installing python\n",
    "All the notebooks (.ipynb) would have python version >= 3.6. I recommend you to use the same version of python to avoid compatibilty issues.  \n",
    "Install python from https://www.python.org/ftp/python/3.8.2/Python-3.8.2.tar.xz.  \n",
    "\n",
    "#### Using Conda or Miniconda\n",
    "Install Anaconda (it has almost all python packages) from https://docs.anaconda.com/anaconda/install/windows/.\n",
    "(Read the instructions carefully)  \n",
    "Then open command prompt or windows shell (press windows button and type 'cmd')  \n",
    "Enter the following command to install Jupyter notebook  \n",
    "> conda install -c conda-forge notebook;\n",
    "\n",
    "### Linux distribution\n",
    "\n",
    "\n",
    "\n",
    "\n",
    "Using python-pip\n",
    "\n",
    "Using Virtual environment\n",
    "If you are already using python and have requirement of different python package version then Virtual environment.\n",
    "It is helpful for future projects in different versions of python.\n",
    "\n",
    "\n",
    "\n",
    "\n",
    "// TODO  \n",
    "// How to create Virtual environment.  \n",
    "// Installing jupyter notebooks for Linux disrtos and Windows.  \n",
    "// Basic functionalities of jupyter  \n"
   ]
  },
  {
   "cell_type": "code",
   "execution_count": null,
   "metadata": {},
   "outputs": [],
   "source": []
  },
  {
   "cell_type": "code",
   "execution_count": null,
   "metadata": {},
   "outputs": [],
   "source": []
  }
 ],
 "metadata": {
  "kernelspec": {
   "display_name": "Python 3",
   "language": "python",
   "name": "python3"
  },
  "language_info": {
   "codemirror_mode": {
    "name": "ipython",
    "version": 3
   },
   "file_extension": ".py",
   "mimetype": "text/x-python",
   "name": "python",
   "nbconvert_exporter": "python",
   "pygments_lexer": "ipython3",
   "version": "3.8.2"
  }
 },
 "nbformat": 4,
 "nbformat_minor": 4
}
