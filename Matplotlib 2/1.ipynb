{
 "cells": [
  {
   "cell_type": "markdown",
   "metadata": {},
   "source": [
    "# Matplotlib 2 : Adding Subplots and Object-oriented approach"
   ]
  },
  {
   "cell_type": "code",
   "execution_count": null,
   "metadata": {
    "scrolled": true
   },
   "outputs": [],
   "source": [
    "import matplotlib.pyplot as plt\n",
    "import numpy as np"
   ]
  },
  {
   "cell_type": "code",
   "execution_count": null,
   "metadata": {
    "scrolled": true
   },
   "outputs": [],
   "source": [
    "%matplotlib inline"
   ]
  },
  {
   "cell_type": "code",
   "execution_count": null,
   "metadata": {
    "scrolled": true
   },
   "outputs": [],
   "source": [
    "def f(t):\n",
    "    \"\"\"Python function to calculate a enclosed sinusoid\"\"\"\n",
    "    val = 1 / ((t-2.5)**2 + 1) * np.cos(4*np.pi*t)\n",
    "    return val\n",
    "\n",
    "t = np.arange(0.0, 5.0, 0.02)"
   ]
  },
  {
   "cell_type": "markdown",
   "metadata": {},
   "source": [
    "## Working with multiple figures and axes\n",
    "matplotlib.pyplot, has the concept of the current figure and the current axes. All plotting commands apply to the current axes. Normally, you don’t have to worry about this, because it is all taken care of behind the scenes."
   ]
  },
  {
   "cell_type": "markdown",
   "metadata": {},
   "source": [
    "### Figure\n",
    "This is the entire window where one or more subplots live. A Figure object (new window) is created with the figure() command.\n",
    "\n",
    "### Axes\n",
    "This is an object representing a subplot (which you might casually call a “plot” or “graph”) which contains axes (here, plural of axis), ticks, lines, points, text, etc.\n",
    "\n",
    "### plot()\n",
    "This is a command that draws points or lines and returns a list of Line2D objects. One sublety is that plot() will automatically call figure() and/or subplot() if neccesary to create the underlying Figure and Axes objects.\n",
    "\n",
    "### subplot()\n",
    "This is a command that creates and returns a new subplot (Axes) object which will be used for subsequent plotting commands."
   ]
  },
  {
   "cell_type": "raw",
   "metadata": {},
   "source": [
    "Difference between Axes, Axis, Figure\n",
    "// TODO"
   ]
  },
  {
   "cell_type": "code",
   "execution_count": null,
   "metadata": {
    "scrolled": true
   },
   "outputs": [],
   "source": [
    "plt.plot(t, f(t), 'k')\n",
    "plt.plot(t, 50*np.cos(2*np.pi*t), 'r--')"
   ]
  },
  {
   "cell_type": "markdown",
   "metadata": {},
   "source": [
    "The first (black) graph isn't looking good.  \n",
    "So, what if you want to the separate graphs?"
   ]
  },
  {
   "cell_type": "code",
   "execution_count": null,
   "metadata": {
    "scrolled": true
   },
   "outputs": [],
   "source": [
    "plt.subplot(2, 1, 1) # (2, 1, 1) implies first axes in a grid of 2x1 (2 rows, 1 col)\n",
    "plt.plot(t, f(t), 'k') # plotting in first axes beacuse it is the current axes\n",
    "\n",
    "plt.subplot(2, 1, 2) # (2, 1, 2) implies second axes in a grid of 2x1 (2 rows, 1 col)\n",
    "plt.plot(t, 50*np.cos(2*np.pi*t), 'r--') # plotting in second axes because it is the current axes"
   ]
  },
  {
   "cell_type": "markdown",
   "metadata": {},
   "source": [
    "subplot() helps in forming grids of similiar Axes."
   ]
  },
  {
   "cell_type": "code",
   "execution_count": null,
   "metadata": {
    "scrolled": true
   },
   "outputs": [],
   "source": [
    "plt.subplot(2, 2, 1) # 1st element of 2x2 grid - 1st row, 1st col\n",
    "plt.plot(t, f(t), 'b') # Blue graph \n",
    "\n",
    "plt.subplot(2, 2, 2) # 2nd element of 2x2 grid - 1st row, 2st col\n",
    "plt.plot(t, f(t), 'g') # Green graph\n",
    "\n",
    "plt.subplot(2, 2, 3) # 3rd element of 2x2 grid - 2st row, 1st col\n",
    "plt.plot(t, f(t), 'r') # Red graph\n",
    "\n",
    "plt.subplot(2, 2, 4) # 4th element of 2x2 grid - 2st row, 2st col\n",
    "plt.plot(t, f(t), 'k') # Black graph"
   ]
  },
  {
   "cell_type": "markdown",
   "metadata": {},
   "source": [
    "## Object Oriented approach to Plotting"
   ]
  },
  {
   "cell_type": "markdown",
   "metadata": {},
   "source": [
    "The object-oriented API\n",
    "At its core, Matplotlib is object-oriented. We recommend directly working with the objects, if you need more control and customization of your plots.\n",
    "\n",
    "Further reading:\n",
    "[matplotlib.axes.Axes](https://matplotlib.org/api/axes_api.html#matplotlib-axes) and [matplotlib.figure.Figure](https://matplotlib.org/api/_as_gen/matplotlib.figure.Figure.html#matplotlib-figure-figure) for an overview of plotting functions."
   ]
  },
  {
   "cell_type": "markdown",
   "metadata": {},
   "source": [
    "### add_subplot() - Substitute of subplot()"
   ]
  },
  {
   "cell_type": "code",
   "execution_count": null,
   "metadata": {
    "scrolled": true
   },
   "outputs": [],
   "source": [
    "plt.subplot(1, 1, 1)\n",
    "plt.plot([1, 2, 3, 4])\n",
    "plt.ylabel('some numbers')"
   ]
  },
  {
   "cell_type": "markdown",
   "metadata": {},
   "source": [
    "To allow more customization, we need to move to a more object-based way to make the plots. This method involves storing various elements of the of the plots in variables (these are objects in object-oriented terminology). The above example becomes:"
   ]
  },
  {
   "cell_type": "code",
   "execution_count": null,
   "metadata": {
    "scrolled": true
   },
   "outputs": [],
   "source": [
    "fig = plt.figure()  # create a figure object\n",
    "ax = fig.add_subplot(1, 1, 1)  # create an axes object in the figure\n",
    "ax.plot([1, 2, 3, 4])\n",
    "ax.set_ylabel('some numbers')"
   ]
  },
  {
   "cell_type": "markdown",
   "metadata": {},
   "source": [
    "This method is more convenient for advanced plots, and we will be adopting this for the current workshop. One of the biggest advantages of using this method is that it allows users to easily handle multiple figures/axes without getting confused as to which one is currently active."
   ]
  },
  {
   "cell_type": "markdown",
   "metadata": {},
   "source": [
    "Following defines two figures, one with two sets of axes, and one with one set of axes.\n",
    "Subsequently, use ax1.plot(...) to plot to the subplot in fig1, and ax2.plot(...) and ax3.plot(...) to plot in the top and bottom subplots of fig2 respectively."
   ]
  },
  {
   "cell_type": "code",
   "execution_count": null,
   "metadata": {
    "scrolled": false
   },
   "outputs": [],
   "source": [
    "fig1 = plt.figure()\n",
    "fig2 = plt.figure() # Defined all the figures simultaneously\n",
    "\n",
    "ax1 = fig1.add_subplot(1, 1, 1)\n",
    "ax2 = fig2.add_subplot(2, 1, 1)\n",
    "ax3 = fig2.add_subplot(2, 1, 2)\n",
    "\n",
    "ax1.plot(t, f(t), 'b') # Blue Graph\n",
    "ax2.plot(t, f(t), 'g') # Green Graph\n",
    "ax3.plot(t, f(t), 'r') # Red Graph"
   ]
  },
  {
   "cell_type": "markdown",
   "metadata": {},
   "source": [
    "### subplots()"
   ]
  },
  {
   "cell_type": "markdown",
   "metadata": {},
   "source": [
    "You can create all axes in one go.  \n",
    "subplots() returns figure and multidimenionsal numpy array of Axes "
   ]
  },
  {
   "cell_type": "code",
   "execution_count": null,
   "metadata": {
    "scrolled": true
   },
   "outputs": [],
   "source": [
    "fig, axes = plt.subplots(nrows=2, ncols=2)\n",
    "# axes is the multidimensional numpy array of Axes.\n",
    "\n",
    "axes[0,0].plot(t, f(t), 'b') # Blue graph\n",
    "axes[1,0].plot(t, f(t), 'g') # Green graph\n",
    "axes[0,1].plot(t, f(t), 'r') # Red graph\n",
    "axes[1,1].plot(t, f(t), 'k') # Black graph\n",
    "\n",
    "# To iterate over all items in a multidimensional numpy array, use the `flat` attribute\n",
    "for ax in axes.flat:\n",
    "    ax.set(xlim=[0, 3])"
   ]
  },
  {
   "cell_type": "markdown",
   "metadata": {},
   "source": [
    "'sharex' and 'sharey' are useful parameters to subplots()"
   ]
  },
  {
   "cell_type": "code",
   "execution_count": null,
   "metadata": {
    "scrolled": false
   },
   "outputs": [],
   "source": [
    "fig1, axes1 = plt.subplots(2, 2)\n",
    "\n",
    "# Share a X axis with each column of subplots\n",
    "fig2, axes2 = plt.subplots(2, 2, sharex='col')\n",
    "\n",
    "# Share a Y axis with each row of subplots\n",
    "fig3, axes3 = plt.subplots(2, 2, sharey='row')\n",
    "\n",
    "# Share both X and Y axes with all subplots\n",
    "fig4, axes4 = plt.subplots(2, 2, sharex='all', sharey='all')\n",
    "\n",
    "# Note that this is the same as\n",
    "fig5, axes5 = plt.subplots(2, 2, sharex=True, sharey=True)\n",
    "\n",
    "# Setting title of figure is using suptitle()\n",
    "fig1.suptitle('1st')\n",
    "fig2.suptitle('2nd')\n",
    "fig3.suptitle('3rd')\n",
    "fig4.suptitle('4th')\n",
    "fig5.suptitle('5th')"
   ]
  },
  {
   "cell_type": "markdown",
   "metadata": {},
   "source": [
    "plt.subplots() is limited to mxn grids only. If you want to have different number of cells in each row, fig.add_subplot() is preferred.  \n",
    "The following example shows how."
   ]
  },
  {
   "cell_type": "code",
   "execution_count": null,
   "metadata": {
    "scrolled": false
   },
   "outputs": [],
   "source": [
    "fig = plt.figure(figsize=(12,8)) # Try plt.figure? to know more about the parameters of creating a new figure.\n",
    "\n",
    "ax1 = fig.add_subplot(2, 1, 1) # Equivalent to 1st element of 2x1 matrix\n",
    "ax2 = fig.add_subplot(2, 3, 4) # Equivalent to 4th element of 2x3 matrix\n",
    "ax3 = fig.add_subplot(2, 3, 5) # Equivalent to 5th element of 2x3 matrix\n",
    "ax4 = fig.add_subplot(2, 3, 6) # Equivalent to 6th element of 2x3 matrix\n",
    "\n",
    "ax1.plot(t, f(t), 'k') # Black graph \n",
    "ax2.plot(t, f(t), 'b') # Blue graph \n",
    "ax3.plot(t, f(t), 'g') # Green graph \n",
    "ax4.plot(t, f(t), 'r') # Red graph"
   ]
  },
  {
   "cell_type": "markdown",
   "metadata": {},
   "source": [
    "If you want to exchange the left and right graphs. All you need to do is change the axes they are plotted.  \n",
    "If you wish to change to the size, shape and position of graphs, you only need to change the add_subplot() parameters."
   ]
  },
  {
   "cell_type": "markdown",
   "metadata": {},
   "source": [
    "### Twin Axes"
   ]
  },
  {
   "cell_type": "markdown",
   "metadata": {},
   "source": [
    "It is considered useful to have dual x or y axes in a figure. Moreso, when plotting curves with different units together.  \n",
    "Matplotlib supports this with the twinx() and twiny() functions."
   ]
  },
  {
   "cell_type": "code",
   "execution_count": null,
   "metadata": {
    "scrolled": false
   },
   "outputs": [],
   "source": [
    "fig = plt.figure()\n",
    "ax1 = fig.add_subplot(1, 1, 1)\n",
    "# fig.add_subplot(111) gives same result as long as all the three are single digit integer\n",
    "\n",
    "ax2 = ax1.twinx()\n",
    "\n",
    "ts = np.linspace(0., 10., 100)\n",
    "ax1.plot(ts, ts ** 2, 'b-')\n",
    "ax2.plot(ts, 1000 / (ts + 1), 'r-')\n",
    "\n",
    "# set_ylabel sets the properties of y-axis label, set_xlabel sets the properties of x-axis label\n",
    "ax1.set_ylabel('Density (cgs)', color='red')\n",
    "ax2.set_ylabel('Temperature (K)', color='blue')\n",
    "ax1.set_xlabel('Time (s)')"
   ]
  },
  {
   "cell_type": "markdown",
   "metadata": {},
   "source": [
    "### Gridspec"
   ]
  },
  {
   "cell_type": "markdown",
   "metadata": {},
   "source": [
    "add_subplot() is a powerful tool but you can't make an element which covers 2/3rd of a row.  \n",
    "For that add_subplot() is used in association with gridspec."
   ]
  },
  {
   "cell_type": "code",
   "execution_count": null,
   "metadata": {
    "scrolled": true
   },
   "outputs": [],
   "source": [
    "fig = plt.figure(constrained_layout=True)\n",
    "# Remove the constrained_layout part and see the difference.\n",
    "\n",
    "gs = fig.add_gridspec(2, 3) # Creates 6 elements in form of 2x3 grid\n",
    "\n",
    "# Merges 1st element(0,0), 2nd element(0,1)\n",
    "ax2 = fig.add_subplot(gs[0, :-1])\n",
    "# [0, :-1] implies 1st row and all columns before last (Recall slicing of list)\n",
    "ax2.set_title('gs[0, :-1]')\n",
    "\n",
    "# Merges 3rd element(0,2), 6th element(1,2)\n",
    "ax3 = fig.add_subplot(gs[:, -1])\n",
    "ax3.set_title('gs[:, -1]')\n",
    "\n",
    "# Only 4th element(1,0)\n",
    "ax4 = fig.add_subplot(gs[1, 0])\n",
    "ax4.set_title('gs[1, 0]')\n",
    "\n",
    "# Only 5th element(1,1)\n",
    "ax5 = fig.add_subplot(gs[1, -2])\n",
    "ax5.set_title('gs[1, -2]')"
   ]
  },
  {
   "cell_type": "markdown",
   "metadata": {},
   "source": [
    "Another advantage of gridspec is that you can set ratio of width and height."
   ]
  },
  {
   "cell_type": "code",
   "execution_count": null,
   "metadata": {
    "scrolled": false
   },
   "outputs": [],
   "source": [
    "fig = plt.figure(figsize=(8,6), constrained_layout=True)\n",
    "widths = [2, 3, 1.5]\n",
    "heights = [1, 3, 2]\n",
    "spec = fig.add_gridspec(ncols=3, nrows=3, width_ratios=widths, height_ratios=heights)\n",
    "for row in range(3):\n",
    "    for col in range(3):\n",
    "        ax = fig.add_subplot(spec[row, col])\n",
    "        ax.set(title=str(row*3 + col))"
   ]
  },
  {
   "cell_type": "markdown",
   "metadata": {},
   "source": [
    "### add_axes()"
   ]
  },
  {
   "cell_type": "markdown",
   "metadata": {},
   "source": [
    "We see that gridspec is very useful but what if our Axes pattern isn't grid like (like inset)  \n",
    "fig.add_axes() comes to rescue.  \n",
    "It takes a list of four elements as the parameter [x, y, width, height] where (x,y) is w.r.t the bottom left corner of the figure."
   ]
  },
  {
   "cell_type": "code",
   "execution_count": null,
   "metadata": {
    "scrolled": true
   },
   "outputs": [],
   "source": [
    "fig = plt.figure()\n",
    "ax1 = fig.add_axes([0.1, 0.1, 0.8, 0.8]) \n",
    "ax2 = fig.add_axes([0.72, 0.72, 0.16, 0.16])\n",
    "ax3 = fig.add_axes([0.2, 0.2, 0.3, 0.3])"
   ]
  },
  {
   "cell_type": "raw",
   "metadata": {},
   "source": [
    "plt.plot() returns a Line2D object\n",
    "Try plt.plot? to find more parameters.\n",
    "\n",
    "plt.subplot() returns an Axes object\n",
    "Try plt.subplot? to find more parameters.\n",
    "\n"
   ]
  }
 ],
 "metadata": {
  "kernelspec": {
   "display_name": "Python 3",
   "language": "python",
   "name": "python3"
  },
  "language_info": {
   "codemirror_mode": {
    "name": "ipython",
    "version": 3
   },
   "file_extension": ".py",
   "mimetype": "text/x-python",
   "name": "python",
   "nbconvert_exporter": "python",
   "pygments_lexer": "ipython3",
   "version": "3.8.2"
  }
 },
 "nbformat": 4,
 "nbformat_minor": 4
}
