{
 "cells": [
  {
   "cell_type": "markdown",
   "metadata": {},
   "source": [
    "## Your assingment ..."
   ]
  },
  {
   "cell_type": "markdown",
   "metadata": {},
   "source": [
    "... should you choose to accpet it will be the following:"
   ]
  },
  {
   "cell_type": "markdown",
   "metadata": {},
   "source": [
    "In the assignment of part 1 of this tutorial, you were asked to plot HR diagrams in different filters and pick out the one best suited to study the cluster. We will now work with that particular plot.\n",
    "\n",
    "The significance of HR diagrams, as mentioned in the last assignment, is to be able to identify stages in stellar evolution. You will be required to first read up a bit on HR diagrams (hopefully you have already done this as part of the first assignment) to identify parts of an HR diagram with known stages of evolution. You can look [here](https://ase.tufts.edu/cosmos/view_picture.asp?id=1413) to get an idea."
   ]
  },
  {
   "cell_type": "markdown",
   "metadata": {},
   "source": [
    "#### Your task:"
   ]
  },
  {
   "cell_type": "markdown",
   "metadata": {},
   "source": [
    "* In the \"best\" plot chosen by you, identify the following regions (Note that there can be some ambiguity in these regions as the sections are not clearly defined and they appear different from cluster to cluster, but you should be able to broadly identify the regions):\n",
    "    * Main sequence\n",
    "    * Subgiant Branch\n",
    "    * Red giant branch\n",
    "    * Asymptotic giant branch \n",
    "    * Horizontal branch \n",
    "    * Turn-off point\n",
    "* Mark out these regions using properly oriented ellipses. Also make sure you label and annotate the plot."
   ]
  }
 ],
 "metadata": {
  "kernelspec": {
   "display_name": "Python 3",
   "language": "python",
   "name": "python3"
  },
  "language_info": {
   "codemirror_mode": {
    "name": "ipython",
    "version": 3
   },
   "file_extension": ".py",
   "mimetype": "text/x-python",
   "name": "python",
   "nbconvert_exporter": "python",
   "pygments_lexer": "ipython3",
   "version": "3.8.2"
  }
 },
 "nbformat": 4,
 "nbformat_minor": 4
}
