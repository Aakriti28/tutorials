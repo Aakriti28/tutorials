{
 "cells": [
  {
   "cell_type": "markdown",
   "metadata": {},
   "source": [
    "# Introduction to Web Scraping"
   ]
  },
  {
   "cell_type": "markdown",
   "metadata": {},
   "source": [
    "This tutorial covers some basic concepts of web scraping. In all the tutorials before, the datasets that you had to work with were provided by us. Sometimes, it's easy to directly download these datasets from some websites. But some annoying websites do not make it that easy for you! For instance, in the first tutorial, the Moons_and_planets.csv file was parsed from this Wikipedia page https://en.wikipedia.org/wiki/List_of_natural_satellites where there is no option to directly download the dataset :(\n",
    "In such instances, we use web scraping. It is a technique for extracting data from websites and storing it in a file on your computer. <br>\n",
    "\n",
    "First, let's go through what makes up a web page. When we visit a webpage, our browser sends a request to the web server called a **GET**\n",
    "request(because we are requesting the server to send us files). The server then sends back files that tells our browser how the website looks like. These files are of different types : \n",
    "\n",
    "1. HTML :  Has the main contents of the page \n",
    "2. CSS : Used to \"style\" the webpage and make it look good\n",
    "3. JS : Javascript files make the webpage more interactive\n",
    "4. Images : Helps add images to the webpage\n",
    "\n",
    "For our purposes, we need only concern ourselves with HTML, but you are free to look up the others. "
   ]
  },
  {
   "cell_type": "markdown",
   "metadata": {},
   "source": [
    "## Basics of HTML"
   ]
  },
  {
   "cell_type": "markdown",
   "metadata": {},
   "source": [
    "HTML is not a programming language, it is a <i>markup language</i>, which means it tells the browser how the layout of the website looks like. It lets you do things like make a new heading, a new paragraph, make text bold, italicise text etc. HTML consists of elements called **tags** which basically gives the browser instructions like \"the following text is meant to be bold\" or \"the following text is another paragraph\". The most basic tag is the `<html>` tag. People who are already familiar with HTML can skip this section and move on to the actual web scraping part."
   ]
  },
  {
   "cell_type": "code",
   "execution_count": 43,
   "metadata": {},
   "outputs": [
    {
     "data": {
      "text/html": [
       "<html>\n",
       "\n",
       "</html>\n"
      ],
      "text/plain": [
       "<IPython.core.display.HTML object>"
      ]
     },
     "metadata": {},
     "output_type": "display_data"
    }
   ],
   "source": [
    "%%HTML\n",
    "<html>\n",
    "\n",
    "</html>"
   ]
  },
  {
   "cell_type": "markdown",
   "metadata": {},
   "source": [
    "This tells the browser that everything inside these two tags is HTML code. Ignore the first line, that is not part of an HTML file."
   ]
  },
  {
   "cell_type": "code",
   "execution_count": 156,
   "metadata": {},
   "outputs": [
    {
     "data": {
      "text/html": [
       "<!-- This is how we comment in HTML :D  -->\n"
      ],
      "text/plain": [
       "<IPython.core.display.HTML object>"
      ]
     },
     "metadata": {},
     "output_type": "display_data"
    }
   ],
   "source": [
    "%%HTML\n",
    "<!-- This is how we comment in HTML :D  -->"
   ]
  },
  {
   "cell_type": "markdown",
   "metadata": {},
   "source": [
    "Given below are some common HTML tags.\n",
    "<l>\n",
    "    <li>`<head>` tag : Contains information about the title of the page</li>\n",
    "    <li>`<body>` tag : Contains information about the contents of the web page</li>\n",
    "    <li>`<p>` tag : Starts a new paragraph </li>\n",
    "    <li>`<a>` tag : Used to insert links in the webpage. The `href` property of this tag determines where the link goes. </li> \n",
    "</l> \n",
    "Run the code cell to see how HTML formats the page using these tags!"
   ]
  },
  {
   "cell_type": "code",
   "execution_count": 4,
   "metadata": {},
   "outputs": [
    {
     "data": {
      "text/html": [
       "<html>   \n",
       "\n",
       "    <head>                                    <!-- The head tag contains information about the title of the page -->\n",
       "        This is <i>really</i> neat!           <!-- i tag : italics -->\n",
       "    </head>\n",
       "    \n",
       "    <body>                                    <!-- Contains the main content of the web page-->\n",
       "    \n",
       "        <p>\n",
       "        <b>This is <i>really</i> neat!</b>\n",
       "        </p>                                  <!-- p tag : paragraph, b tag : bold -->\n",
       "                \n",
       "        <p>        \n",
       "        <a href = \"https://www.tech-iitb.org/krittika/\">\n",
       "        Krittika, the Astronomy Club of IIT Bombay </a>\n",
       "        </p>\n",
       "    </body>\n",
       "    \n",
       "</html>\n"
      ],
      "text/plain": [
       "<IPython.core.display.HTML object>"
      ]
     },
     "metadata": {},
     "output_type": "display_data"
    }
   ],
   "source": [
    "%%HTML  \n",
    "<html>   \n",
    "\n",
    "    <head>                                    \n",
    "        This is <i>really</i> neat!           <!-- i tag : italics -->\n",
    "    </head>\n",
    "    \n",
    "    <body>                                    \n",
    "    \n",
    "        <p>\n",
    "        <b>This is <i>really</i> neat!</b>\n",
    "        </p>                                  <!-- b tag : bold -->\n",
    "                \n",
    "        <p>        \n",
    "        <a href = \"https://www.tech-iitb.org/krittika/\">\n",
    "        Krittika, the Astronomy Club of IIT Bombay </a>  \n",
    "        </p>\n",
    "    </body>\n",
    "    \n",
    "</html>"
   ]
  },
  {
   "cell_type": "markdown",
   "metadata": {},
   "source": [
    "A tag is called a <b>child</b> tag when it is inside another tag. Similarly, the enclosing tag is called the <b>parent</b> tag. A tag is the <b>sibling</b> of another tag if it is enclosed inside the same parent tag. In the above example, the two p tags are the children of the body tag and are sibling tags, while the body tag is a parent tag for these two.<br>\n",
    "\n",
    "Some other very common HTML tags are `<div>`(helps in dividing the webpage into different areas), `<table>`(creates a table) and `<form>`(creates an input form). Refer to [this](https://developer.mozilla.org/en-US/docs/Web/HTML/Element) for a more detailed discussion on HTML tags.<br>\n",
    "\n",
    "One last important concept in HTML are the `class` and `id` properties. These are used to give HTML elements names, and they make it easier for us while web scraping. A single element can have multiple classes and a class can also be shared among multiple elements. However, an id is unique to an HTML element and cannot be used more than once in a single webpage. "
   ]
  },
  {
   "cell_type": "code",
   "execution_count": 157,
   "metadata": {},
   "outputs": [
    {
     "data": {
      "text/html": [
       "<html>   \n",
       "\n",
       "    <head>                                    \n",
       "        This is <i>really</i> neat!           \n",
       "    </head>\n",
       "    \n",
       "    <body>                                    \n",
       "    \n",
       "        <p class = \"neat\">                     <!-- This 'p' tag is part of 1 class-->\n",
       "        <b>This is <i>really</i> neat!</b>\n",
       "        </p>                                  \n",
       "                \n",
       "        <p class = \"neat very-neat\">            <!--This 'p' tag is part of 2 classes-->    \n",
       "        <a href = \"https://www.tech-iitb.org/krittika/\" id=\"very-very-neat\">\n",
       "        Krittika, the Astronomy Club of IIT Bombay </a>  \n",
       "        </p>\n",
       "    </body>\n",
       "    \n",
       "</html>\n"
      ],
      "text/plain": [
       "<IPython.core.display.HTML object>"
      ]
     },
     "metadata": {},
     "output_type": "display_data"
    }
   ],
   "source": [
    "%%HTML\n",
    "<html>   \n",
    "\n",
    "    <head>                                    \n",
    "        This is <i>really</i> neat!           \n",
    "    </head>\n",
    "    \n",
    "    <body>                                    \n",
    "    \n",
    "        <p class = \"neat\">                     <!-- This 'p' tag is part of 1 class-->\n",
    "        <b>This is <i>really</i> neat!</b>\n",
    "        </p>                                  \n",
    "                \n",
    "        <p class = \"neat very-neat\">            <!--This 'p' tag is part of 2 classes-->    \n",
    "        <a href = \"https://www.tech-iitb.org/krittika/\" id=\"very-very-neat\">\n",
    "        Krittika, the Astronomy Club of IIT Bombay </a>  \n",
    "        </p>\n",
    "    </body>\n",
    "    \n",
    "</html>"
   ]
  },
  {
   "cell_type": "markdown",
   "metadata": {},
   "source": [
    "As can be seen, adding classes and ids do not change the website's layout."
   ]
  },
  {
   "cell_type": "markdown",
   "metadata": {},
   "source": [
    "## Using the  requests Library"
   ]
  },
  {
   "cell_type": "markdown",
   "metadata": {},
   "source": [
    "To scrape a webpage, we first download the HTML contents of the page and the **requests** library in Python lets us do that. There are different types of requests that we can send to the webpage, but here we will be using the `GET` request. Let's scrape a very simple webpage we have created [here](https://fathimazarin.github.io/simple.html)."
   ]
  },
  {
   "cell_type": "code",
   "execution_count": 203,
   "metadata": {},
   "outputs": [
    {
     "data": {
      "text/plain": [
       "<Response [200]>"
      ]
     },
     "execution_count": 203,
     "metadata": {},
     "output_type": "execute_result"
    }
   ],
   "source": [
    "import requests\n",
    "page = requests.get(\"https://fathimazarin.github.io/simple.html\")\n",
    "page"
   ]
  },
  {
   "cell_type": "markdown",
   "metadata": {},
   "source": [
    "If you run the above code and get a response code of 200, it means that your page downloaded successfully, while codes starting with a 4 or a 5 indicates an error."
   ]
  },
  {
   "cell_type": "code",
   "execution_count": 204,
   "metadata": {},
   "outputs": [
    {
     "data": {
      "text/plain": [
       "b'<html>   \\n\\n    <head>                                    \\n        This is <i>really</i> neat!          \\n    </head>\\n    \\n    <body>                                    \\n    \\n        <p class = \"neat\">\\n        <b>This is <i>really</i> neat!</b>\\n        </p>                                  \\n                \\n        <p class = \"neat very-neat\">        \\n        <a href = \"https://www.tech-iitb.org/krittika/\" id=\"very-very-neat\">\\nKrittika, the Astronomy Club of IIT Bombay</a>  \\n            \\n        </p>\\n    </body>\\n    \\n</html>\\n'"
      ]
     },
     "execution_count": 204,
     "metadata": {},
     "output_type": "execute_result"
    }
   ],
   "source": [
    "page.content"
   ]
  },
  {
   "cell_type": "markdown",
   "metadata": {},
   "source": [
    "This command prints out the HTML code of the page. "
   ]
  },
  {
   "cell_type": "markdown",
   "metadata": {},
   "source": [
    "## Using the BeautifulSoup library"
   ]
  },
  {
   "cell_type": "markdown",
   "metadata": {},
   "source": [
    "BeautifulSoup is a Python library that lets us parse HTML and extract whatever text that we want from it. This code loads the BeautifulSoup library and creats an instance of the BeautifulSoup class(we will be discussing classes in a later tutorial)."
   ]
  },
  {
   "cell_type": "code",
   "execution_count": 205,
   "metadata": {},
   "outputs": [],
   "source": [
    "from bs4 import BeautifulSoup\n",
    "soup = BeautifulSoup(page.content, 'html.parser')"
   ]
  },
  {
   "cell_type": "markdown",
   "metadata": {},
   "source": [
    "As you can see above, the HTML code was printed out in a very messy way when we used page.content . The following command can be used to format the code in a better way."
   ]
  },
  {
   "cell_type": "code",
   "execution_count": 206,
   "metadata": {},
   "outputs": [
    {
     "name": "stdout",
     "output_type": "stream",
     "text": [
      "<html>\n",
      " <head>\n",
      "  This is\n",
      "  <i>\n",
      "   really\n",
      "  </i>\n",
      "  neat!\n",
      " </head>\n",
      " <body>\n",
      "  <p class=\"neat\">\n",
      "   <b>\n",
      "    This is\n",
      "    <i>\n",
      "     really\n",
      "    </i>\n",
      "    neat!\n",
      "   </b>\n",
      "  </p>\n",
      "  <p class=\"neat very-neat\">\n",
      "   <a href=\"https://www.tech-iitb.org/krittika/\" id=\"very-very-neat\">\n",
      "    Krittika, the Astronomy Club of IIT Bombay\n",
      "   </a>\n",
      "  </p>\n",
      " </body>\n",
      "</html>\n",
      "\n"
     ]
    }
   ],
   "source": [
    "print(soup.prettify())"
   ]
  },
  {
   "cell_type": "markdown",
   "metadata": {},
   "source": [
    "Now, the information that we would want to extract is most probably inside the body tag in a <i>p</i> tag(the paragraph tags) or inside a table tag etc. The BeautifulSoup library has functions that help you directly search for these tags in the HTML code."
   ]
  },
  {
   "cell_type": "code",
   "execution_count": 217,
   "metadata": {},
   "outputs": [
    {
     "data": {
      "text/plain": [
       "<p class=\"neat\">\n",
       "<b>This is <i>really</i> neat!</b>\n",
       "</p>"
      ]
     },
     "execution_count": 217,
     "metadata": {},
     "output_type": "execute_result"
    }
   ],
   "source": [
    "soup.find('p') #What datatype does it return?"
   ]
  },
  {
   "cell_type": "markdown",
   "metadata": {},
   "source": [
    "You might have realized that the HTML code given above has multiple <i>p</i> tags, yet it returned only the first one. The soup.find_all() function returns a list of all occurrences of that particular tag."
   ]
  },
  {
   "cell_type": "code",
   "execution_count": 163,
   "metadata": {},
   "outputs": [
    {
     "data": {
      "text/plain": [
       "[<p class=\"neat\">\n",
       " <b>This is <i>really</i> neat!</b>\n",
       " </p>,\n",
       " <p class=\"neat very-neat\">\n",
       " <a href=\"https://www.tech-iitb.org/krittika/\" id=\"very-very-neat\">\n",
       "             \n",
       "         Krittika, the Astronomy Club of IIT Bombay </a>\n",
       " </p>]"
      ]
     },
     "execution_count": 163,
     "metadata": {},
     "output_type": "execute_result"
    }
   ],
   "source": [
    "soup.find_all('p') "
   ]
  },
  {
   "cell_type": "markdown",
   "metadata": {},
   "source": [
    "But this still returns HTML code with pesky HTML tags that you dont want in your parsed file. The get_text() function will help you out here. You cannot use the get_text() function on the list returned by find_all(). You will have to access each element and use the function."
   ]
  },
  {
   "cell_type": "code",
   "execution_count": 178,
   "metadata": {},
   "outputs": [
    {
     "data": {
      "text/plain": [
       "'\\nThis is really neat!\\n'"
      ]
     },
     "execution_count": 178,
     "metadata": {},
     "output_type": "execute_result"
    }
   ],
   "source": [
    "soup.find_all('p')[0].get_text()"
   ]
  },
  {
   "cell_type": "code",
   "execution_count": 214,
   "metadata": {},
   "outputs": [
    {
     "data": {
      "text/plain": [
       "'\\n\\nKrittika, the Astronomy Club of IIT Bombay\\n'"
      ]
     },
     "execution_count": 214,
     "metadata": {},
     "output_type": "execute_result"
    }
   ],
   "source": [
    "soup.find_all('p')[1].get_text()"
   ]
  },
  {
   "cell_type": "code",
   "execution_count": 215,
   "metadata": {},
   "outputs": [
    {
     "name": "stdout",
     "output_type": "stream",
     "text": [
      "\n",
      "\n",
      "Krittika, the Astronomy Club of IIT Bombay\n",
      "\n"
     ]
    }
   ],
   "source": [
    "print(soup.find_all('p')[1].get_text())     #Why do you think there is a difference in output ?"
   ]
  },
  {
   "cell_type": "code",
   "execution_count": 216,
   "metadata": {},
   "outputs": [
    {
     "data": {
      "text/plain": [
       "<p class=\"neat very-neat\">\n",
       "<a href=\"https://www.tech-iitb.org/krittika/\" id=\"very-very-neat\">\n",
       "Krittika, the Astronomy Club of IIT Bombay</a>\n",
       "</p>"
      ]
     },
     "execution_count": 216,
     "metadata": {},
     "output_type": "execute_result"
    }
   ],
   "source": [
    "krittika=soup.find_all('p')[1]\n",
    "krittika"
   ]
  },
  {
   "cell_type": "code",
   "execution_count": 213,
   "metadata": {},
   "outputs": [
    {
     "data": {
      "text/plain": [
       "[<a href=\"https://www.tech-iitb.org/krittika/\" id=\"very-very-neat\">\n",
       " Krittika, the Astronomy Club of IIT Bombay</a>]"
      ]
     },
     "execution_count": 213,
     "metadata": {},
     "output_type": "execute_result"
    }
   ],
   "source": [
    "krittika.find_all('a')  #The find_all() function can also be used to search for tags inside a parent tag"
   ]
  },
  {
   "cell_type": "code",
   "execution_count": 212,
   "metadata": {},
   "outputs": [
    {
     "data": {
      "text/plain": [
       "<a href=\"https://www.tech-iitb.org/krittika/\" id=\"very-very-neat\">\n",
       "Krittika, the Astronomy Club of IIT Bombay</a>"
      ]
     },
     "execution_count": 212,
     "metadata": {},
     "output_type": "execute_result"
    }
   ],
   "source": [
    "krittika.find_all('a')[0]"
   ]
  },
  {
   "cell_type": "code",
   "execution_count": 211,
   "metadata": {},
   "outputs": [
    {
     "data": {
      "text/plain": [
       "'\\nKrittika, the Astronomy Club of IIT Bombay'"
      ]
     },
     "execution_count": 211,
     "metadata": {},
     "output_type": "execute_result"
    }
   ],
   "source": [
    "krittika.find_all('a')[0].get_text()"
   ]
  },
  {
   "cell_type": "markdown",
   "metadata": {},
   "source": [
    "You still would not want those \\n cluttering up your file."
   ]
  },
  {
   "cell_type": "code",
   "execution_count": 207,
   "metadata": {},
   "outputs": [
    {
     "data": {
      "text/plain": [
       "'Krittika, the Astronomy Club of IIT Bombay'"
      ]
     },
     "execution_count": 207,
     "metadata": {},
     "output_type": "execute_result"
    }
   ],
   "source": [
    "soup.find_all('p')[1].get_text().replace('\\n','')  #What do you think this code does?"
   ]
  },
  {
   "cell_type": "markdown",
   "metadata": {},
   "source": [
    "## Searching by class and id\n",
    "Adding one argument to the find_all() function helps you search by class and id."
   ]
  },
  {
   "cell_type": "code",
   "execution_count": 153,
   "metadata": {},
   "outputs": [
    {
     "data": {
      "text/plain": [
       "[<p class=\"neat\">\n",
       " <b>This is <i>really</i> neat!</b>\n",
       " </p>,\n",
       " <p class=\"neat very-neat\">\n",
       " <a href=\"https://www.tech-iitb.org/krittika/\" id=\"very-very-neat\">\n",
       "         Krittika, the Astronomy Club of IIT Bombay </a>\n",
       " </p>]"
      ]
     },
     "execution_count": 153,
     "metadata": {},
     "output_type": "execute_result"
    }
   ],
   "source": [
    "soup.find_all('p', attrs={\"class\":\"neat\"})"
   ]
  },
  {
   "cell_type": "code",
   "execution_count": 154,
   "metadata": {},
   "outputs": [
    {
     "data": {
      "text/plain": [
       "[<p class=\"neat very-neat\">\n",
       " <a href=\"https://www.tech-iitb.org/krittika/\" id=\"very-very-neat\">\n",
       "         Krittika, the Astronomy Club of IIT Bombay </a>\n",
       " </p>]"
      ]
     },
     "execution_count": 154,
     "metadata": {},
     "output_type": "execute_result"
    }
   ],
   "source": [
    "soup.find_all('p',attrs={\"class\":\"very-neat\"})"
   ]
  },
  {
   "cell_type": "code",
   "execution_count": 155,
   "metadata": {},
   "outputs": [
    {
     "data": {
      "text/plain": [
       "[<a href=\"https://www.tech-iitb.org/krittika/\" id=\"very-very-neat\">\n",
       "         Krittika, the Astronomy Club of IIT Bombay </a>]"
      ]
     },
     "execution_count": 155,
     "metadata": {},
     "output_type": "execute_result"
    }
   ],
   "source": [
    "soup.find_all(id=\"very-very-neat\")"
   ]
  },
  {
   "cell_type": "markdown",
   "metadata": {},
   "source": [
    "## Moving on to actual webpages"
   ]
  },
  {
   "cell_type": "markdown",
   "metadata": {},
   "source": [
    "In the above example, we parsed a relatively simple file with few lines of code, while that is not the case for real life websites(Go to any random webpage on Google Chrome or Firefox and press Ctrl+u and check for yourself). It will be hard to find the exact location of the paragraph or the tag that you want in such a big code. In such scenarios, the concept of class and id that we discussed above becomes useful. Web scraping is all about finding the right tag to search for using the find() function. <br>\n",
    "\n",
    "Let us try scraping a much more longer webpage, say, a Wikipedia page [here](https://en.wikipedia.org/wiki/Lists_of_stars_by_constellation) to print the list of constellations. The constellations are listed as an unordered list, hence they can be found inside `<li></li>` tags(these tags are responsible for the bullets)."
   ]
  },
  {
   "cell_type": "code",
   "execution_count": 143,
   "metadata": {},
   "outputs": [],
   "source": [
    "page = requests.get(\"https://en.wikipedia.org/wiki/Lists_of_stars_by_constellation\")\n",
    "soup = BeautifulSoup(page.content, 'html.parser')"
   ]
  },
  {
   "cell_type": "code",
   "execution_count": 144,
   "metadata": {},
   "outputs": [
    {
     "data": {
      "text/plain": [
       "[<li class=\"toclevel-1 tocsection-1\"><a href=\"#Lists_of_stars_by_constellation\"><span class=\"tocnumber\">1</span> <span class=\"toctext\">Lists of stars by constellation</span></a></li>,\n",
       " <li class=\"toclevel-1 tocsection-2\"><a href=\"#Criteria_of_inclusion\"><span class=\"tocnumber\">2</span> <span class=\"toctext\">Criteria of inclusion</span></a></li>,\n",
       " <li class=\"toclevel-1 tocsection-3\"><a href=\"#See_also\"><span class=\"tocnumber\">3</span> <span class=\"toctext\">See also</span></a></li>,\n",
       " <li class=\"toclevel-1 tocsection-4\"><a href=\"#References\"><span class=\"tocnumber\">4</span> <span class=\"toctext\">References</span></a></li>,\n",
       " <li class=\"toclevel-1 tocsection-5\"><a href=\"#External_links\"><span class=\"tocnumber\">5</span> <span class=\"toctext\">External links</span></a></li>,\n",
       " <li><a href=\"/wiki/List_of_stars_in_Andromeda\" title=\"List of stars in Andromeda\">Andromeda</a></li>,\n",
       " <li><a href=\"/wiki/List_of_stars_in_Antlia\" title=\"List of stars in Antlia\">Antlia</a></li>,\n",
       " <li><a href=\"/wiki/List_of_stars_in_Apus\" title=\"List of stars in Apus\">Apus</a></li>,\n",
       " <li><a href=\"/wiki/List_of_stars_in_Aquarius\" title=\"List of stars in Aquarius\">Aquarius</a></li>,\n",
       " <li><a href=\"/wiki/List_of_stars_in_Aquila\" title=\"List of stars in Aquila\">Aquila</a></li>,\n",
       " <li><a href=\"/wiki/List_of_stars_in_Ara\" title=\"List of stars in Ara\">Ara</a></li>,\n",
       " <li><a href=\"/wiki/List_of_stars_in_Aries\" title=\"List of stars in Aries\">Aries</a></li>,\n",
       " <li><a href=\"/wiki/List_of_stars_in_Auriga\" title=\"List of stars in Auriga\">Auriga</a></li>,\n",
       " <li><a href=\"/wiki/List_of_stars_in_Bo%C3%B6tes\" title=\"List of stars in Boötes\">Boötes</a></li>,\n",
       " <li><a href=\"/wiki/List_of_stars_in_Caelum\" title=\"List of stars in Caelum\">Caelum</a></li>,\n",
       " <li><a href=\"/wiki/List_of_stars_in_Camelopardalis\" title=\"List of stars in Camelopardalis\">Camelopardalis</a></li>,\n",
       " <li><a href=\"/wiki/List_of_stars_in_Cancer\" title=\"List of stars in Cancer\">Cancer</a></li>,\n",
       " <li><a href=\"/wiki/List_of_stars_in_Canes_Venatici\" title=\"List of stars in Canes Venatici\">Canes Venatici</a></li>,\n",
       " <li><a href=\"/wiki/List_of_stars_in_Canis_Major\" title=\"List of stars in Canis Major\">Canis Major</a></li>,\n",
       " <li><a href=\"/wiki/List_of_stars_in_Canis_Minor\" title=\"List of stars in Canis Minor\">Canis Minor</a></li>,\n",
       " <li><a href=\"/wiki/List_of_stars_in_Capricornus\" title=\"List of stars in Capricornus\">Capricornus</a></li>,\n",
       " <li><a href=\"/wiki/List_of_stars_in_Carina\" title=\"List of stars in Carina\">Carina</a></li>,\n",
       " <li><a href=\"/wiki/List_of_stars_in_Cassiopeia\" title=\"List of stars in Cassiopeia\">Cassiopeia</a></li>,\n",
       " <li><a href=\"/wiki/List_of_stars_in_Centaurus\" title=\"List of stars in Centaurus\">Centaurus</a></li>,\n",
       " <li><a href=\"/wiki/List_of_stars_in_Cepheus\" title=\"List of stars in Cepheus\">Cepheus</a></li>,\n",
       " <li><a href=\"/wiki/List_of_stars_in_Cetus\" title=\"List of stars in Cetus\">Cetus</a></li>,\n",
       " <li><a href=\"/wiki/List_of_stars_in_Chamaeleon\" title=\"List of stars in Chamaeleon\">Chamaeleon</a> </li>,\n",
       " <li><a href=\"/wiki/List_of_stars_in_Circinus\" title=\"List of stars in Circinus\">Circinus</a></li>,\n",
       " <li><a href=\"/wiki/List_of_stars_in_Columba\" title=\"List of stars in Columba\">Columba</a></li>,\n",
       " <li><a href=\"/wiki/List_of_stars_in_Coma_Berenices\" title=\"List of stars in Coma Berenices\">Coma Berenices</a></li>,\n",
       " <li><a href=\"/wiki/List_of_stars_in_Corona_Australis\" title=\"List of stars in Corona Australis\">Corona Australis</a></li>,\n",
       " <li><a href=\"/wiki/List_of_stars_in_Corona_Borealis\" title=\"List of stars in Corona Borealis\">Corona Borealis</a></li>,\n",
       " <li><a href=\"/wiki/List_of_stars_in_Corvus\" title=\"List of stars in Corvus\">Corvus</a></li>,\n",
       " <li><a href=\"/wiki/List_of_stars_in_Crater\" title=\"List of stars in Crater\">Crater</a></li>,\n",
       " <li><a href=\"/wiki/List_of_stars_in_Crux\" title=\"List of stars in Crux\">Crux</a></li>,\n",
       " <li><a href=\"/wiki/List_of_stars_in_Cygnus\" title=\"List of stars in Cygnus\">Cygnus</a></li>,\n",
       " <li><a href=\"/wiki/List_of_stars_in_Delphinus\" title=\"List of stars in Delphinus\">Delphinus</a></li>,\n",
       " <li><a href=\"/wiki/List_of_stars_in_Dorado\" title=\"List of stars in Dorado\">Dorado</a></li>,\n",
       " <li><a href=\"/wiki/List_of_stars_in_Draco\" title=\"List of stars in Draco\">Draco</a></li>,\n",
       " <li><a href=\"/wiki/List_of_stars_in_Equuleus\" title=\"List of stars in Equuleus\">Equuleus</a></li>,\n",
       " <li><a href=\"/wiki/List_of_stars_in_Eridanus\" title=\"List of stars in Eridanus\">Eridanus</a></li>,\n",
       " <li><a href=\"/wiki/List_of_stars_in_Fornax\" title=\"List of stars in Fornax\">Fornax</a></li>,\n",
       " <li><a href=\"/wiki/List_of_stars_in_Gemini\" title=\"List of stars in Gemini\">Gemini</a></li>,\n",
       " <li><a href=\"/wiki/List_of_stars_in_Grus\" title=\"List of stars in Grus\">Grus</a></li>,\n",
       " <li><a href=\"/wiki/List_of_stars_in_Hercules\" title=\"List of stars in Hercules\">Hercules</a></li>,\n",
       " <li><a href=\"/wiki/List_of_stars_in_Horologium\" title=\"List of stars in Horologium\">Horologium</a></li>,\n",
       " <li><a href=\"/wiki/List_of_stars_in_Hydra\" title=\"List of stars in Hydra\">Hydra</a></li>,\n",
       " <li><a href=\"/wiki/List_of_stars_in_Hydrus\" title=\"List of stars in Hydrus\">Hydrus</a></li>,\n",
       " <li><a href=\"/wiki/List_of_stars_in_Indus\" title=\"List of stars in Indus\">Indus</a> </li>,\n",
       " <li><a href=\"/wiki/List_of_stars_in_Lacerta\" title=\"List of stars in Lacerta\">Lacerta</a></li>,\n",
       " <li><a href=\"/wiki/List_of_stars_in_Leo\" title=\"List of stars in Leo\">Leo</a></li>,\n",
       " <li><a href=\"/wiki/List_of_stars_in_Leo_Minor\" title=\"List of stars in Leo Minor\">Leo Minor</a></li>,\n",
       " <li><a href=\"/wiki/List_of_stars_in_Lepus\" title=\"List of stars in Lepus\">Lepus</a></li>,\n",
       " <li><a href=\"/wiki/List_of_stars_in_Libra\" title=\"List of stars in Libra\">Libra</a></li>,\n",
       " <li><a href=\"/wiki/List_of_stars_in_Lupus\" title=\"List of stars in Lupus\">Lupus</a></li>,\n",
       " <li><a href=\"/wiki/List_of_stars_in_Lynx\" title=\"List of stars in Lynx\">Lynx</a></li>,\n",
       " <li><a href=\"/wiki/List_of_stars_in_Lyra\" title=\"List of stars in Lyra\">Lyra</a></li>,\n",
       " <li><a href=\"/wiki/List_of_stars_in_Mensa\" title=\"List of stars in Mensa\">Mensa</a></li>,\n",
       " <li><a href=\"/wiki/List_of_stars_in_Microscopium\" title=\"List of stars in Microscopium\">Microscopium</a></li>,\n",
       " <li><a href=\"/wiki/List_of_stars_in_Monoceros\" title=\"List of stars in Monoceros\">Monoceros</a></li>,\n",
       " <li><a href=\"/wiki/List_of_stars_in_Musca\" title=\"List of stars in Musca\">Musca</a></li>,\n",
       " <li><a href=\"/wiki/List_of_stars_in_Norma\" title=\"List of stars in Norma\">Norma</a></li>,\n",
       " <li><a href=\"/wiki/List_of_stars_in_Octans\" title=\"List of stars in Octans\">Octans</a></li>,\n",
       " <li><a href=\"/wiki/List_of_stars_in_Ophiuchus\" title=\"List of stars in Ophiuchus\">Ophiuchus</a></li>,\n",
       " <li><a href=\"/wiki/List_of_stars_in_Orion\" title=\"List of stars in Orion\">Orion</a></li>,\n",
       " <li><a href=\"/wiki/List_of_stars_in_Pavo\" title=\"List of stars in Pavo\">Pavo</a></li>,\n",
       " <li><a href=\"/wiki/List_of_stars_in_Pegasus\" title=\"List of stars in Pegasus\">Pegasus</a></li>,\n",
       " <li><a href=\"/wiki/List_of_stars_in_Perseus\" title=\"List of stars in Perseus\">Perseus</a></li>,\n",
       " <li><a href=\"/wiki/List_of_stars_in_Phoenix\" title=\"List of stars in Phoenix\">Phoenix</a></li>,\n",
       " <li><a href=\"/wiki/List_of_stars_in_Pictor\" title=\"List of stars in Pictor\">Pictor</a></li>,\n",
       " <li><a href=\"/wiki/List_of_stars_in_Pisces\" title=\"List of stars in Pisces\">Pisces</a> </li>,\n",
       " <li><a href=\"/wiki/List_of_stars_in_Piscis_Austrinus\" title=\"List of stars in Piscis Austrinus\">Piscis Austrinus</a></li>,\n",
       " <li><a href=\"/wiki/List_of_stars_in_Puppis\" title=\"List of stars in Puppis\">Puppis</a></li>,\n",
       " <li><a href=\"/wiki/List_of_stars_in_Pyxis\" title=\"List of stars in Pyxis\">Pyxis</a></li>,\n",
       " <li><a href=\"/wiki/List_of_stars_in_Reticulum\" title=\"List of stars in Reticulum\">Reticulum</a></li>,\n",
       " <li><a href=\"/wiki/List_of_stars_in_Sagitta\" title=\"List of stars in Sagitta\">Sagitta</a></li>,\n",
       " <li><a href=\"/wiki/List_of_stars_in_Sagittarius\" title=\"List of stars in Sagittarius\">Sagittarius</a></li>,\n",
       " <li><a href=\"/wiki/List_of_stars_in_Scorpius\" title=\"List of stars in Scorpius\">Scorpius</a></li>,\n",
       " <li><a href=\"/wiki/List_of_stars_in_Sculptor\" title=\"List of stars in Sculptor\">Sculptor</a></li>,\n",
       " <li><a href=\"/wiki/List_of_stars_in_Scutum\" title=\"List of stars in Scutum\">Scutum</a></li>,\n",
       " <li><a href=\"/wiki/List_of_stars_in_Serpens\" title=\"List of stars in Serpens\">Serpens</a></li>,\n",
       " <li><a href=\"/wiki/List_of_stars_in_Sextans\" title=\"List of stars in Sextans\">Sextans</a></li>,\n",
       " <li><a href=\"/wiki/List_of_stars_in_Taurus\" title=\"List of stars in Taurus\">Taurus</a></li>,\n",
       " <li><a href=\"/wiki/List_of_stars_in_Telescopium\" title=\"List of stars in Telescopium\">Telescopium</a></li>,\n",
       " <li><a href=\"/wiki/List_of_stars_in_Triangulum\" title=\"List of stars in Triangulum\">Triangulum</a></li>,\n",
       " <li><a href=\"/wiki/List_of_stars_in_Triangulum_Australe\" title=\"List of stars in Triangulum Australe\">Triangulum Australe</a></li>,\n",
       " <li><a href=\"/wiki/List_of_stars_in_Tucana\" title=\"List of stars in Tucana\">Tucana</a></li>,\n",
       " <li><a href=\"/wiki/List_of_stars_in_Ursa_Major\" title=\"List of stars in Ursa Major\">Ursa Major</a></li>,\n",
       " <li><a href=\"/wiki/List_of_stars_in_Ursa_Minor\" title=\"List of stars in Ursa Minor\">Ursa Minor</a></li>,\n",
       " <li><a href=\"/wiki/List_of_stars_in_Vela\" title=\"List of stars in Vela\">Vela</a></li>,\n",
       " <li><a href=\"/wiki/List_of_stars_in_Virgo\" title=\"List of stars in Virgo\">Virgo</a></li>,\n",
       " <li><a href=\"/wiki/List_of_stars_in_Volans\" title=\"List of stars in Volans\">Volans</a></li>,\n",
       " <li><a href=\"/wiki/List_of_stars_in_Vulpecula\" title=\"List of stars in Vulpecula\">Vulpecula</a> </li>,\n",
       " <li>Stars named with a <a href=\"/wiki/Bayer_designation\" title=\"Bayer designation\">Bayer</a>, <a href=\"/wiki/Flamsteed_designation\" title=\"Flamsteed designation\">Flamsteed</a>, <a href=\"/wiki/Bright_Star_Catalogue\" title=\"Bright Star Catalogue\">HR</a>, or <a href=\"/wiki/Henry_Draper_Catalogue\" title=\"Henry Draper Catalogue\">Draper</a> (not from the supplements) designation.</li>,\n",
       " <li>Stellar extremes or otherwise noteworthy stars.</li>,\n",
       " <li>Notable variable stars (prototypes, rare or otherwise important).</li>,\n",
       " <li>Nearest stars (&lt;20 ly).</li>,\n",
       " <li>Stars with planets.</li>,\n",
       " <li>Notable neutron stars, black holes, and other exotic stellar objects/remnants.</li>,\n",
       " <li><span><a class=\"image\" href=\"/wiki/File:He1523a.jpg\"><img alt=\"icon\" class=\"noviewer\" data-file-height=\"207\" data-file-width=\"180\" decoding=\"async\" height=\"28\" src=\"//upload.wikimedia.org/wikipedia/commons/thumb/5/5f/He1523a.jpg/24px-He1523a.jpg\" srcset=\"//upload.wikimedia.org/wikipedia/commons/thumb/5/5f/He1523a.jpg/36px-He1523a.jpg 1.5x, //upload.wikimedia.org/wikipedia/commons/thumb/5/5f/He1523a.jpg/49px-He1523a.jpg 2x\" width=\"24\"/></a></span><span><a class=\"mw-redirect\" href=\"/wiki/Portal:Star\" title=\"Portal:Star\">Star portal</a></span></li>,\n",
       " <li><a href=\"/wiki/Lists_of_astronomical_objects\" title=\"Lists of astronomical objects\">Lists of astronomical objects</a></li>,\n",
       " <li><a href=\"/wiki/Lists_of_constellations\" title=\"Lists of constellations\">Lists of constellations</a></li>,\n",
       " <li><a href=\"/wiki/Lists_of_stars\" title=\"Lists of stars\">Lists of stars</a></li>,\n",
       " <li><a href=\"/wiki/Lists_of_star_names\" title=\"Lists of star names\">Lists of star names</a></li>,\n",
       " <li><a href=\"/wiki/List_of_proper_names_of_stars\" title=\"List of proper names of stars\">List of proper names of stars</a> (IAU-accepted names)</li>,\n",
       " <li id=\"cite_note-jrasc92-1\"><span class=\"mw-cite-backlink\"><b><a href=\"#cite_ref-jrasc92_1-0\">^</a></b></span> <span class=\"reference-text\"><cite class=\"citation journal\" id=\"CITEREFHirshfeldSinnottOchsenbeinLemay1992\">Hirshfeld, Alan; Sinnott, Roger W.; Ochsenbein, François; Lemay, D. (1992). \"Book-Review – Sky Catalogue 2000.0 – V.1 – Stars to Magnitude 8.0 ED.2\". <i>Journal of the Royal Astronomical Society of Canada</i>. <b>86</b>: 221. <a class=\"mw-redirect\" href=\"/wiki/Bibcode_(identifier)\" title=\"Bibcode (identifier)\">Bibcode</a>:<a class=\"external text\" href=\"https://ui.adsabs.harvard.edu/abs/1992JRASC..86..221L\" rel=\"nofollow\">1992JRASC..86..221L</a>.</cite><span class=\"Z3988\" title=\"ctx_ver=Z39.88-2004&amp;rft_val_fmt=info%3Aofi%2Ffmt%3Akev%3Amtx%3Ajournal&amp;rft.genre=article&amp;rft.jtitle=Journal+of+the+Royal+Astronomical+Society+of+Canada&amp;rft.atitle=Book-Review+%E2%80%93+Sky+Catalogue+2000.0+%E2%80%93+V.1+%E2%80%93+Stars+to+Magnitude+8.0+ED.2&amp;rft.volume=86&amp;rft.pages=221&amp;rft.date=1992&amp;rft_id=info%3Abibcode%2F1992JRASC..86..221L&amp;rft.aulast=Hirshfeld&amp;rft.aufirst=Alan&amp;rft.au=Sinnott%2C+Roger+W.&amp;rft.au=Ochsenbein%2C+Fran%C3%A7ois&amp;rft.au=Lemay%2C+D.&amp;rfr_id=info%3Asid%2Fen.wikipedia.org%3ALists+of+stars+by+constellation\"></span><style data-mw-deduplicate=\"TemplateStyles:r951705291\">.mw-parser-output cite.citation{font-style:inherit}.mw-parser-output .citation q{quotes:\"\\\"\"\"\\\"\"\"'\"\"'\"}.mw-parser-output .id-lock-free a,.mw-parser-output .citation .cs1-lock-free a{background-image:url(\"//upload.wikimedia.org/wikipedia/commons/thumb/6/65/Lock-green.svg/9px-Lock-green.svg.png\");background-image:linear-gradient(transparent,transparent),url(\"//upload.wikimedia.org/wikipedia/commons/6/65/Lock-green.svg\");background-repeat:no-repeat;background-size:9px;background-position:right .1em center}.mw-parser-output .id-lock-limited a,.mw-parser-output .id-lock-registration a,.mw-parser-output .citation .cs1-lock-limited a,.mw-parser-output .citation .cs1-lock-registration a{background-image:url(\"//upload.wikimedia.org/wikipedia/commons/thumb/d/d6/Lock-gray-alt-2.svg/9px-Lock-gray-alt-2.svg.png\");background-image:linear-gradient(transparent,transparent),url(\"//upload.wikimedia.org/wikipedia/commons/d/d6/Lock-gray-alt-2.svg\");background-repeat:no-repeat;background-size:9px;background-position:right .1em center}.mw-parser-output .id-lock-subscription a,.mw-parser-output .citation .cs1-lock-subscription a{background-image:url(\"//upload.wikimedia.org/wikipedia/commons/thumb/a/aa/Lock-red-alt-2.svg/9px-Lock-red-alt-2.svg.png\");background-image:linear-gradient(transparent,transparent),url(\"//upload.wikimedia.org/wikipedia/commons/a/aa/Lock-red-alt-2.svg\");background-repeat:no-repeat;background-size:9px;background-position:right .1em center}.mw-parser-output .cs1-subscription,.mw-parser-output .cs1-registration{color:#555}.mw-parser-output .cs1-subscription span,.mw-parser-output .cs1-registration span{border-bottom:1px dotted;cursor:help}.mw-parser-output .cs1-ws-icon a{background-image:url(\"//upload.wikimedia.org/wikipedia/commons/thumb/4/4c/Wikisource-logo.svg/12px-Wikisource-logo.svg.png\");background-image:linear-gradient(transparent,transparent),url(\"//upload.wikimedia.org/wikipedia/commons/4/4c/Wikisource-logo.svg\");background-repeat:no-repeat;background-size:12px;background-position:right .1em center}.mw-parser-output code.cs1-code{color:inherit;background:inherit;border:inherit;padding:inherit}.mw-parser-output .cs1-hidden-error{display:none;font-size:100%}.mw-parser-output .cs1-visible-error{font-size:100%}.mw-parser-output .cs1-maint{display:none;color:#33aa33;margin-left:0.3em}.mw-parser-output .cs1-subscription,.mw-parser-output .cs1-registration,.mw-parser-output .cs1-format{font-size:95%}.mw-parser-output .cs1-kern-left,.mw-parser-output .cs1-kern-wl-left{padding-left:0.2em}.mw-parser-output .cs1-kern-right,.mw-parser-output .cs1-kern-wl-right{padding-right:0.2em}.mw-parser-output .citation .mw-selflink{font-weight:inherit}</style></span>\n",
       " </li>,\n",
       " <li><i>The Astronomical Almanac</i> (2000).</li>,\n",
       " <li>Roy L. Bishop, ed., <i>The Observer's Almanac 1991</i>, The Royal Astronomical Society of Canada.</li>,\n",
       " <li><i>Burnham's Celestial Handbook: An Observer's Guide to the Universe Beyond the Solar System</i>, Vols. 1, 2, 3 (Dover Pubns, 1978).</li>,\n",
       " <li>N. D. Kostjuk, <i>HD-DM-GC-HR-HIP-Bayer-Flamsteed Cross Index</i> (2002) (<a class=\"external text\" href=\"http://cdsarc.u-strasbg.fr/viz-bin/Cat?IV/27\" rel=\"nofollow\">CDS Catalogue IV/27</a>).</li>,\n",
       " <li><a class=\"external text\" href=\"http://www.ianridpath.com/constellations1.htm\" rel=\"nofollow\">Alphabetical listing of constellations</a></li>,\n",
       " <li><a class=\"external text\" href=\"http://stars.astro.illinois.edu/sow/starname.html\" rel=\"nofollow\">Star Names</a></li>,\n",
       " <li><a class=\"external text\" href=\"https://www.naic.edu/~gibson/starnames/starnames.html\" rel=\"nofollow\">Star Names by constellation</a></li>,\n",
       " <li><a class=\"external text\" href=\"http://www.glyphweb.com/esky/stars/default.htm\" rel=\"nofollow\">Stars: Index of Proper Names</a></li>,\n",
       " <li><a class=\"external text\" href=\"https://www.naic.edu/~gibson/starnames/starnames.html\" rel=\"nofollow\">Studies of Occidental Constellations and Star Names to the Classical Period: An Annotated Bibliography</a></li>,\n",
       " <li><a class=\"external text\" href=\"http://www.obliquity.com/skyeye/misc/name.html\" rel=\"nofollow\">(Un)Common Star Names</a></li>,\n",
       " <li class=\"nv-view\"><a href=\"/wiki/Template:Lists_of_stars_by_constellation\" title=\"Template:Lists of stars by constellation\"><abbr style=\";;background:none transparent;border:none;-moz-box-shadow:none;-webkit-box-shadow:none;box-shadow:none; padding:0;\" title=\"View this template\">v</abbr></a></li>,\n",
       " <li class=\"nv-talk\"><a href=\"/wiki/Template_talk:Lists_of_stars_by_constellation\" title=\"Template talk:Lists of stars by constellation\"><abbr style=\";;background:none transparent;border:none;-moz-box-shadow:none;-webkit-box-shadow:none;box-shadow:none; padding:0;\" title=\"Discuss this template\">t</abbr></a></li>,\n",
       " <li class=\"nv-edit\"><a class=\"external text\" href=\"https://en.wikipedia.org/w/index.php?title=Template:Lists_of_stars_by_constellation&amp;action=edit\"><abbr style=\";;background:none transparent;border:none;-moz-box-shadow:none;-webkit-box-shadow:none;box-shadow:none; padding:0;\" title=\"Edit this template\">e</abbr></a></li>,\n",
       " <li>List of stars in ...</li>,\n",
       " <li><a href=\"/wiki/List_of_stars_in_Andromeda\" title=\"List of stars in Andromeda\">Andromeda</a></li>,\n",
       " <li><a href=\"/wiki/List_of_stars_in_Antlia\" title=\"List of stars in Antlia\">Antlia</a></li>,\n",
       " <li><a href=\"/wiki/List_of_stars_in_Apus\" title=\"List of stars in Apus\">Apus</a></li>,\n",
       " <li><a href=\"/wiki/List_of_stars_in_Aquarius\" title=\"List of stars in Aquarius\">Aquarius</a></li>,\n",
       " <li><a href=\"/wiki/List_of_stars_in_Aquila\" title=\"List of stars in Aquila\">Aquila</a></li>,\n",
       " <li><a href=\"/wiki/List_of_stars_in_Ara\" title=\"List of stars in Ara\">Ara</a></li>,\n",
       " <li><a href=\"/wiki/List_of_stars_in_Argo_Navis\" title=\"List of stars in Argo Navis\">Argo Navis</a></li>,\n",
       " <li><a href=\"/wiki/List_of_stars_in_Aries\" title=\"List of stars in Aries\">Aries</a></li>,\n",
       " <li><a href=\"/wiki/List_of_stars_in_Auriga\" title=\"List of stars in Auriga\">Auriga</a></li>,\n",
       " <li><a href=\"/wiki/List_of_stars_in_Bo%C3%B6tes\" title=\"List of stars in Boötes\">Boötes</a></li>,\n",
       " <li><a href=\"/wiki/List_of_stars_in_Caelum\" title=\"List of stars in Caelum\">Caelum</a></li>,\n",
       " <li><a href=\"/wiki/List_of_stars_in_Camelopardalis\" title=\"List of stars in Camelopardalis\">Camelopardalis</a></li>,\n",
       " <li><a href=\"/wiki/List_of_stars_in_Cancer\" title=\"List of stars in Cancer\">Cancer</a></li>,\n",
       " <li><a href=\"/wiki/List_of_stars_in_Canes_Venatici\" title=\"List of stars in Canes Venatici\">Canes Venatici</a></li>,\n",
       " <li><a href=\"/wiki/List_of_stars_in_Canis_Major\" title=\"List of stars in Canis Major\">Canis Major</a></li>,\n",
       " <li><a href=\"/wiki/List_of_stars_in_Canis_Minor\" title=\"List of stars in Canis Minor\">Canis Minor</a></li>,\n",
       " <li><a href=\"/wiki/List_of_stars_in_Capricornus\" title=\"List of stars in Capricornus\">Capricornus</a></li>,\n",
       " <li><a href=\"/wiki/List_of_stars_in_Carina\" title=\"List of stars in Carina\">Carina</a></li>,\n",
       " <li><a href=\"/wiki/List_of_stars_in_Cassiopeia\" title=\"List of stars in Cassiopeia\">Cassiopeia</a></li>,\n",
       " <li><a href=\"/wiki/List_of_stars_in_Centaurus\" title=\"List of stars in Centaurus\">Centaurus</a></li>,\n",
       " <li><a href=\"/wiki/List_of_stars_in_Cepheus\" title=\"List of stars in Cepheus\">Cepheus</a></li>,\n",
       " <li><a href=\"/wiki/List_of_stars_in_Cetus\" title=\"List of stars in Cetus\">Cetus</a></li>,\n",
       " <li><a href=\"/wiki/List_of_stars_in_Chamaeleon\" title=\"List of stars in Chamaeleon\">Chamaeleon</a></li>,\n",
       " <li><a href=\"/wiki/List_of_stars_in_Circinus\" title=\"List of stars in Circinus\">Circinus</a></li>,\n",
       " <li><a href=\"/wiki/List_of_stars_in_Columba\" title=\"List of stars in Columba\">Columba</a></li>,\n",
       " <li><a href=\"/wiki/List_of_stars_in_Coma_Berenices\" title=\"List of stars in Coma Berenices\">Coma Berenices</a></li>,\n",
       " <li><a href=\"/wiki/List_of_stars_in_Corona_Australis\" title=\"List of stars in Corona Australis\">Corona Australis</a></li>,\n",
       " <li><a href=\"/wiki/List_of_stars_in_Corona_Borealis\" title=\"List of stars in Corona Borealis\">Corona Borealis</a></li>,\n",
       " <li><a href=\"/wiki/List_of_stars_in_Corvus\" title=\"List of stars in Corvus\">Corvus</a></li>,\n",
       " <li><a href=\"/wiki/List_of_stars_in_Crater\" title=\"List of stars in Crater\">Crater</a></li>,\n",
       " <li><a href=\"/wiki/List_of_stars_in_Crux\" title=\"List of stars in Crux\">Crux</a></li>,\n",
       " <li><a href=\"/wiki/List_of_stars_in_Cygnus\" title=\"List of stars in Cygnus\">Cygnus</a></li>,\n",
       " <li><a href=\"/wiki/List_of_stars_in_Delphinus\" title=\"List of stars in Delphinus\">Delphinus</a></li>,\n",
       " <li><a href=\"/wiki/List_of_stars_in_Dorado\" title=\"List of stars in Dorado\">Dorado</a></li>,\n",
       " <li><a href=\"/wiki/List_of_stars_in_Draco\" title=\"List of stars in Draco\">Draco</a></li>,\n",
       " <li><a href=\"/wiki/List_of_stars_in_Equuleus\" title=\"List of stars in Equuleus\">Equuleus</a></li>,\n",
       " <li><a href=\"/wiki/List_of_stars_in_Eridanus\" title=\"List of stars in Eridanus\">Eridanus</a></li>,\n",
       " <li><a href=\"/wiki/List_of_stars_in_Fornax\" title=\"List of stars in Fornax\">Fornax</a></li>,\n",
       " <li><a href=\"/wiki/List_of_stars_in_Gemini\" title=\"List of stars in Gemini\">Gemini</a></li>,\n",
       " <li><a href=\"/wiki/List_of_stars_in_Grus\" title=\"List of stars in Grus\">Grus</a></li>,\n",
       " <li><a href=\"/wiki/List_of_stars_in_Hercules\" title=\"List of stars in Hercules\">Hercules</a></li>,\n",
       " <li><a href=\"/wiki/List_of_stars_in_Horologium\" title=\"List of stars in Horologium\">Horologium</a></li>,\n",
       " <li><a href=\"/wiki/List_of_stars_in_Hydra\" title=\"List of stars in Hydra\">Hydra</a></li>,\n",
       " <li><a href=\"/wiki/List_of_stars_in_Hydrus\" title=\"List of stars in Hydrus\">Hydrus</a></li>,\n",
       " <li><a href=\"/wiki/List_of_stars_in_Indus\" title=\"List of stars in Indus\">Indus</a></li>,\n",
       " <li><a href=\"/wiki/List_of_stars_in_Lacerta\" title=\"List of stars in Lacerta\">Lacerta</a></li>,\n",
       " <li><a href=\"/wiki/List_of_stars_in_Leo\" title=\"List of stars in Leo\">Leo</a></li>,\n",
       " <li><a href=\"/wiki/List_of_stars_in_Leo_Minor\" title=\"List of stars in Leo Minor\">Leo Minor</a></li>,\n",
       " <li><a href=\"/wiki/List_of_stars_in_Lepus\" title=\"List of stars in Lepus\">Lepus</a></li>,\n",
       " <li><a href=\"/wiki/List_of_stars_in_Libra\" title=\"List of stars in Libra\">Libra</a></li>,\n",
       " <li><a href=\"/wiki/List_of_stars_in_Lupus\" title=\"List of stars in Lupus\">Lupus</a></li>,\n",
       " <li><a href=\"/wiki/List_of_stars_in_Lynx\" title=\"List of stars in Lynx\">Lynx</a></li>,\n",
       " <li><a href=\"/wiki/List_of_stars_in_Lyra\" title=\"List of stars in Lyra\">Lyra</a></li>,\n",
       " <li><a href=\"/wiki/List_of_stars_in_Mensa\" title=\"List of stars in Mensa\">Mensa</a></li>,\n",
       " <li><a href=\"/wiki/List_of_stars_in_Microscopium\" title=\"List of stars in Microscopium\">Microscopium</a></li>,\n",
       " <li><a href=\"/wiki/List_of_stars_in_Monoceros\" title=\"List of stars in Monoceros\">Monoceros</a></li>,\n",
       " <li><a href=\"/wiki/List_of_stars_in_Musca\" title=\"List of stars in Musca\">Musca</a></li>,\n",
       " <li><a href=\"/wiki/List_of_stars_in_Norma\" title=\"List of stars in Norma\">Norma</a></li>,\n",
       " <li><a href=\"/wiki/List_of_stars_in_Octans\" title=\"List of stars in Octans\">Octans</a></li>,\n",
       " <li><a href=\"/wiki/List_of_stars_in_Ophiuchus\" title=\"List of stars in Ophiuchus\">Ophiuchus</a></li>,\n",
       " <li><a href=\"/wiki/List_of_stars_in_Orion\" title=\"List of stars in Orion\">Orion</a></li>,\n",
       " <li><a href=\"/wiki/List_of_stars_in_Pavo\" title=\"List of stars in Pavo\">Pavo</a></li>,\n",
       " <li><a href=\"/wiki/List_of_stars_in_Pegasus\" title=\"List of stars in Pegasus\">Pegasus</a></li>,\n",
       " <li><a href=\"/wiki/List_of_stars_in_Perseus\" title=\"List of stars in Perseus\">Perseus</a></li>,\n",
       " <li><a href=\"/wiki/List_of_stars_in_Phoenix\" title=\"List of stars in Phoenix\">Phoenix</a></li>,\n",
       " <li><a href=\"/wiki/List_of_stars_in_Pictor\" title=\"List of stars in Pictor\">Pictor</a></li>,\n",
       " <li><a href=\"/wiki/List_of_stars_in_Pisces\" title=\"List of stars in Pisces\">Pisces</a></li>,\n",
       " <li><a href=\"/wiki/List_of_stars_in_Piscis_Austrinus\" title=\"List of stars in Piscis Austrinus\">Piscis Austrinus</a></li>,\n",
       " <li><a href=\"/wiki/List_of_stars_in_Puppis\" title=\"List of stars in Puppis\">Puppis</a></li>,\n",
       " <li><a href=\"/wiki/List_of_stars_in_Pyxis\" title=\"List of stars in Pyxis\">Pyxis</a></li>,\n",
       " <li><a href=\"/wiki/List_of_stars_in_Reticulum\" title=\"List of stars in Reticulum\">Reticulum</a></li>,\n",
       " <li><a href=\"/wiki/List_of_stars_in_Sagitta\" title=\"List of stars in Sagitta\">Sagitta</a></li>,\n",
       " <li><a href=\"/wiki/List_of_stars_in_Sagittarius\" title=\"List of stars in Sagittarius\">Sagittarius</a></li>,\n",
       " <li><a href=\"/wiki/List_of_stars_in_Scorpius\" title=\"List of stars in Scorpius\">Scorpius</a></li>,\n",
       " <li><a href=\"/wiki/List_of_stars_in_Sculptor\" title=\"List of stars in Sculptor\">Sculptor</a></li>,\n",
       " <li><a href=\"/wiki/List_of_stars_in_Scutum\" title=\"List of stars in Scutum\">Scutum</a></li>,\n",
       " <li><a href=\"/wiki/List_of_stars_in_Serpens\" title=\"List of stars in Serpens\">Serpens</a></li>,\n",
       " <li><a href=\"/wiki/List_of_stars_in_Sextans\" title=\"List of stars in Sextans\">Sextans</a></li>,\n",
       " <li><a href=\"/wiki/List_of_stars_in_Taurus\" title=\"List of stars in Taurus\">Taurus</a></li>,\n",
       " <li><a href=\"/wiki/List_of_stars_in_Telescopium\" title=\"List of stars in Telescopium\">Telescopium</a></li>,\n",
       " <li><a href=\"/wiki/List_of_stars_in_Triangulum\" title=\"List of stars in Triangulum\">Triangulum</a></li>,\n",
       " <li><a href=\"/wiki/List_of_stars_in_Triangulum_Australe\" title=\"List of stars in Triangulum Australe\">Triangulum Australe</a></li>,\n",
       " <li><a href=\"/wiki/List_of_stars_in_Tucana\" title=\"List of stars in Tucana\">Tucana</a></li>,\n",
       " <li><a href=\"/wiki/List_of_stars_in_Ursa_Major\" title=\"List of stars in Ursa Major\">Ursa Major</a></li>,\n",
       " <li><a href=\"/wiki/List_of_stars_in_Ursa_Minor\" title=\"List of stars in Ursa Minor\">Ursa Minor</a></li>,\n",
       " <li><a href=\"/wiki/List_of_stars_in_Vela\" title=\"List of stars in Vela\">Vela</a></li>,\n",
       " <li><a href=\"/wiki/List_of_stars_in_Virgo\" title=\"List of stars in Virgo\">Virgo</a></li>,\n",
       " <li><a href=\"/wiki/List_of_stars_in_Volans\" title=\"List of stars in Volans\">Volans</a></li>,\n",
       " <li><a href=\"/wiki/List_of_stars_in_Vulpecula\" title=\"List of stars in Vulpecula\">Vulpecula</a></li>,\n",
       " <li class=\"nv-view\"><a href=\"/wiki/Template:Constellations/modern\" title=\"Template:Constellations/modern\"><abbr style=\";;background:none transparent;border:none;-moz-box-shadow:none;-webkit-box-shadow:none;box-shadow:none; padding:0;\" title=\"View this template\">v</abbr></a></li>,\n",
       " <li class=\"nv-talk\"><a href=\"/wiki/Template_talk:Constellations/modern\" title=\"Template talk:Constellations/modern\"><abbr style=\";;background:none transparent;border:none;-moz-box-shadow:none;-webkit-box-shadow:none;box-shadow:none; padding:0;\" title=\"Discuss this template\">t</abbr></a></li>,\n",
       " <li class=\"nv-edit\"><a class=\"external text\" href=\"https://en.wikipedia.org/w/index.php?title=Template:Constellations/modern&amp;action=edit\"><abbr style=\";;background:none transparent;border:none;-moz-box-shadow:none;-webkit-box-shadow:none;box-shadow:none; padding:0;\" title=\"Edit this template\">e</abbr></a></li>,\n",
       " <li><a href=\"/wiki/Andromeda_(constellation)\" title=\"Andromeda (constellation)\">Andromeda</a></li>,\n",
       " <li><a href=\"/wiki/Antlia\" title=\"Antlia\">Antlia</a></li>,\n",
       " <li><a href=\"/wiki/Apus\" title=\"Apus\">Apus</a></li>,\n",
       " <li><a href=\"/wiki/Aquarius_(constellation)\" title=\"Aquarius (constellation)\">Aquarius</a></li>,\n",
       " <li><a href=\"/wiki/Aquila_(constellation)\" title=\"Aquila (constellation)\">Aquila</a></li>,\n",
       " <li><a href=\"/wiki/Ara_(constellation)\" title=\"Ara (constellation)\">Ara</a></li>,\n",
       " <li><a href=\"/wiki/Aries_(constellation)\" title=\"Aries (constellation)\">Aries</a></li>,\n",
       " <li><a href=\"/wiki/Auriga_(constellation)\" title=\"Auriga (constellation)\">Auriga</a></li>,\n",
       " <li><a href=\"/wiki/Bo%C3%B6tes\" title=\"Boötes\">Boötes</a></li>,\n",
       " <li><a href=\"/wiki/Caelum\" title=\"Caelum\">Caelum</a></li>,\n",
       " <li><a href=\"/wiki/Camelopardalis\" title=\"Camelopardalis\">Camelopardalis</a></li>,\n",
       " <li><a href=\"/wiki/Cancer_(constellation)\" title=\"Cancer (constellation)\">Cancer</a></li>,\n",
       " <li><a href=\"/wiki/Canes_Venatici\" title=\"Canes Venatici\">Canes Venatici</a></li>,\n",
       " <li><a href=\"/wiki/Canis_Major\" title=\"Canis Major\">Canis Major</a></li>,\n",
       " <li><a href=\"/wiki/Canis_Minor\" title=\"Canis Minor\">Canis Minor</a></li>,\n",
       " <li><a href=\"/wiki/Capricornus\" title=\"Capricornus\">Capricornus</a></li>,\n",
       " <li><a href=\"/wiki/Carina_(constellation)\" title=\"Carina (constellation)\">Carina</a></li>,\n",
       " <li><a href=\"/wiki/Cassiopeia_(constellation)\" title=\"Cassiopeia (constellation)\">Cassiopeia</a></li>,\n",
       " <li><a href=\"/wiki/Centaurus\" title=\"Centaurus\">Centaurus</a></li>,\n",
       " <li><a href=\"/wiki/Cepheus_(constellation)\" title=\"Cepheus (constellation)\">Cepheus</a></li>,\n",
       " <li><a href=\"/wiki/Cetus\" title=\"Cetus\">Cetus</a></li>,\n",
       " <li><a href=\"/wiki/Chamaeleon\" title=\"Chamaeleon\">Chamaeleon</a></li>,\n",
       " <li><a href=\"/wiki/Circinus\" title=\"Circinus\">Circinus</a></li>,\n",
       " <li><a href=\"/wiki/Columba_(constellation)\" title=\"Columba (constellation)\">Columba</a></li>,\n",
       " <li><a href=\"/wiki/Coma_Berenices\" title=\"Coma Berenices\">Coma Berenices</a></li>,\n",
       " <li><a href=\"/wiki/Corona_Australis\" title=\"Corona Australis\">Corona Australis</a></li>,\n",
       " <li><a href=\"/wiki/Corona_Borealis\" title=\"Corona Borealis\">Corona Borealis</a></li>,\n",
       " <li><a href=\"/wiki/Corvus_(constellation)\" title=\"Corvus (constellation)\">Corvus</a></li>,\n",
       " <li><a href=\"/wiki/Crater_(constellation)\" title=\"Crater (constellation)\">Crater</a></li>,\n",
       " <li><a href=\"/wiki/Crux\" title=\"Crux\">Crux</a></li>,\n",
       " <li><a href=\"/wiki/Cygnus_(constellation)\" title=\"Cygnus (constellation)\">Cygnus</a></li>,\n",
       " <li><a href=\"/wiki/Delphinus\" title=\"Delphinus\">Delphinus</a></li>,\n",
       " <li><a href=\"/wiki/Dorado\" title=\"Dorado\">Dorado</a></li>,\n",
       " <li><a href=\"/wiki/Draco_(constellation)\" title=\"Draco (constellation)\">Draco</a></li>,\n",
       " <li><a href=\"/wiki/Equuleus\" title=\"Equuleus\">Equuleus</a></li>,\n",
       " <li><a href=\"/wiki/Eridanus_(constellation)\" title=\"Eridanus (constellation)\">Eridanus</a></li>,\n",
       " <li><a href=\"/wiki/Fornax\" title=\"Fornax\">Fornax</a></li>,\n",
       " <li><a href=\"/wiki/Gemini_(constellation)\" title=\"Gemini (constellation)\">Gemini</a></li>,\n",
       " <li><a href=\"/wiki/Grus_(constellation)\" title=\"Grus (constellation)\">Grus</a></li>,\n",
       " <li><a href=\"/wiki/Hercules_(constellation)\" title=\"Hercules (constellation)\">Hercules</a></li>,\n",
       " <li><a href=\"/wiki/Horologium_(constellation)\" title=\"Horologium (constellation)\">Horologium</a></li>,\n",
       " <li><a href=\"/wiki/Hydra_(constellation)\" title=\"Hydra (constellation)\">Hydra</a></li>,\n",
       " <li><a href=\"/wiki/Hydrus\" title=\"Hydrus\">Hydrus</a></li>,\n",
       " <li><a href=\"/wiki/Indus_(constellation)\" title=\"Indus (constellation)\">Indus</a></li>,\n",
       " <li><a href=\"/wiki/Lacerta\" title=\"Lacerta\">Lacerta</a></li>,\n",
       " <li><a href=\"/wiki/Leo_(constellation)\" title=\"Leo (constellation)\">Leo</a></li>,\n",
       " <li><a href=\"/wiki/Leo_Minor\" title=\"Leo Minor\">Leo Minor</a></li>,\n",
       " <li><a href=\"/wiki/Lepus_(constellation)\" title=\"Lepus (constellation)\">Lepus</a></li>,\n",
       " <li><a href=\"/wiki/Libra_(constellation)\" title=\"Libra (constellation)\">Libra</a></li>,\n",
       " <li><a href=\"/wiki/Lupus_(constellation)\" title=\"Lupus (constellation)\">Lupus</a></li>,\n",
       " <li><a href=\"/wiki/Lynx_(constellation)\" title=\"Lynx (constellation)\">Lynx</a></li>,\n",
       " <li><a href=\"/wiki/Lyra\" title=\"Lyra\">Lyra</a></li>,\n",
       " <li><a href=\"/wiki/Mensa_(constellation)\" title=\"Mensa (constellation)\">Mensa</a></li>,\n",
       " <li><a href=\"/wiki/Microscopium\" title=\"Microscopium\">Microscopium</a></li>,\n",
       " <li><a class=\"mw-redirect\" href=\"/wiki/Monoceros_(constellation)\" title=\"Monoceros (constellation)\">Monoceros</a></li>,\n",
       " <li><a href=\"/wiki/Musca\" title=\"Musca\">Musca</a></li>,\n",
       " <li><a href=\"/wiki/Norma_(constellation)\" title=\"Norma (constellation)\">Norma</a></li>,\n",
       " <li><a href=\"/wiki/Octans\" title=\"Octans\">Octans</a></li>,\n",
       " <li><a href=\"/wiki/Ophiuchus\" title=\"Ophiuchus\">Ophiuchus</a></li>,\n",
       " <li><a href=\"/wiki/Orion_(constellation)\" title=\"Orion (constellation)\">Orion</a></li>,\n",
       " <li><a href=\"/wiki/Pavo_(constellation)\" title=\"Pavo (constellation)\">Pavo</a></li>,\n",
       " <li><a href=\"/wiki/Pegasus_(constellation)\" title=\"Pegasus (constellation)\">Pegasus</a></li>,\n",
       " <li><a href=\"/wiki/Perseus_(constellation)\" title=\"Perseus (constellation)\">Perseus</a></li>,\n",
       " <li><a href=\"/wiki/Phoenix_(constellation)\" title=\"Phoenix (constellation)\">Phoenix</a></li>,\n",
       " <li><a href=\"/wiki/Pictor\" title=\"Pictor\">Pictor</a></li>,\n",
       " <li><a href=\"/wiki/Pisces_(constellation)\" title=\"Pisces (constellation)\">Pisces</a></li>,\n",
       " <li><a href=\"/wiki/Piscis_Austrinus\" title=\"Piscis Austrinus\">Piscis Austrinus</a></li>,\n",
       " <li><a href=\"/wiki/Puppis\" title=\"Puppis\">Puppis</a></li>,\n",
       " <li><a href=\"/wiki/Pyxis\" title=\"Pyxis\">Pyxis</a></li>,\n",
       " <li><a href=\"/wiki/Reticulum\" title=\"Reticulum\">Reticulum</a></li>,\n",
       " <li><a href=\"/wiki/Sagitta\" title=\"Sagitta\">Sagitta</a></li>,\n",
       " <li><a href=\"/wiki/Sagittarius_(constellation)\" title=\"Sagittarius (constellation)\">Sagittarius</a></li>,\n",
       " <li><a href=\"/wiki/Scorpius\" title=\"Scorpius\">Scorpius</a></li>,\n",
       " <li><a href=\"/wiki/Sculptor_(constellation)\" title=\"Sculptor (constellation)\">Sculptor</a></li>,\n",
       " <li><a href=\"/wiki/Scutum_(constellation)\" title=\"Scutum (constellation)\">Scutum</a></li>,\n",
       " <li><a href=\"/wiki/Serpens\" title=\"Serpens\">Serpens</a></li>,\n",
       " <li><a href=\"/wiki/Sextans\" title=\"Sextans\">Sextans</a></li>,\n",
       " <li><a href=\"/wiki/Taurus_(constellation)\" title=\"Taurus (constellation)\">Taurus</a></li>,\n",
       " <li><a href=\"/wiki/Telescopium\" title=\"Telescopium\">Telescopium</a></li>,\n",
       " <li><a href=\"/wiki/Triangulum\" title=\"Triangulum\">Triangulum</a></li>,\n",
       " <li><a href=\"/wiki/Triangulum_Australe\" title=\"Triangulum Australe\">Triangulum Australe</a></li>,\n",
       " <li><a href=\"/wiki/Tucana\" title=\"Tucana\">Tucana</a></li>,\n",
       " <li><a href=\"/wiki/Ursa_Major\" title=\"Ursa Major\">Ursa Major</a></li>,\n",
       " <li><a href=\"/wiki/Ursa_Minor\" title=\"Ursa Minor\">Ursa Minor</a></li>,\n",
       " <li><a href=\"/wiki/Vela_(constellation)\" title=\"Vela (constellation)\">Vela</a></li>,\n",
       " <li><a href=\"/wiki/Virgo_(constellation)\" title=\"Virgo (constellation)\">Virgo</a></li>,\n",
       " <li><a href=\"/wiki/Volans\" title=\"Volans\">Volans</a></li>,\n",
       " <li><a href=\"/wiki/Vulpecula\" title=\"Vulpecula\">Vulpecula</a></li>,\n",
       " <li><a href=\"/wiki/Lists_of_constellations\" title=\"Lists of constellations\">Lists of constellations</a></li>,\n",
       " <li class=\"nv-view\"><a href=\"/wiki/Template:Star\" title=\"Template:Star\"><abbr style=\"text-align: center;;;background:none transparent;border:none;-moz-box-shadow:none;-webkit-box-shadow:none;box-shadow:none; padding:0;\" title=\"View this template\">v</abbr></a></li>,\n",
       " <li class=\"nv-talk\"><a href=\"/wiki/Template_talk:Star\" title=\"Template talk:Star\"><abbr style=\"text-align: center;;;background:none transparent;border:none;-moz-box-shadow:none;-webkit-box-shadow:none;box-shadow:none; padding:0;\" title=\"Discuss this template\">t</abbr></a></li>,\n",
       " <li class=\"nv-edit\"><a class=\"external text\" href=\"https://en.wikipedia.org/w/index.php?title=Template:Star&amp;action=edit\"><abbr style=\"text-align: center;;;background:none transparent;border:none;-moz-box-shadow:none;-webkit-box-shadow:none;box-shadow:none; padding:0;\" title=\"Edit this template\">e</abbr></a></li>,\n",
       " <li><a href=\"/wiki/Accretion_(astrophysics)\" title=\"Accretion (astrophysics)\">Accretion</a></li>,\n",
       " <li><a href=\"/wiki/Molecular_cloud\" title=\"Molecular cloud\">Molecular cloud</a></li>,\n",
       " <li><a href=\"/wiki/Bok_globule\" title=\"Bok globule\">Bok globule</a></li>,\n",
       " <li><a href=\"/wiki/Young_stellar_object\" title=\"Young stellar object\">Young stellar object</a>\n",
       " <ul><li><a href=\"/wiki/Protostar\" title=\"Protostar\">Protostar</a></li>\n",
       " <li><a href=\"/wiki/Pre-main-sequence_star\" title=\"Pre-main-sequence star\">Pre-main-sequence</a></li>\n",
       " <li><a href=\"/wiki/Herbig_Ae/Be_star\" title=\"Herbig Ae/Be star\">Herbig Ae/Be</a></li>\n",
       " <li><a href=\"/wiki/T_Tauri_star\" title=\"T Tauri star\">T Tauri</a></li>\n",
       " <li><a href=\"/wiki/FU_Orionis_star\" title=\"FU Orionis star\">FU Orionis</a></li></ul></li>,\n",
       " <li><a href=\"/wiki/Protostar\" title=\"Protostar\">Protostar</a></li>,\n",
       " <li><a href=\"/wiki/Pre-main-sequence_star\" title=\"Pre-main-sequence star\">Pre-main-sequence</a></li>,\n",
       " <li><a href=\"/wiki/Herbig_Ae/Be_star\" title=\"Herbig Ae/Be star\">Herbig Ae/Be</a></li>,\n",
       " <li><a href=\"/wiki/T_Tauri_star\" title=\"T Tauri star\">T Tauri</a></li>,\n",
       " <li><a href=\"/wiki/FU_Orionis_star\" title=\"FU Orionis star\">FU Orionis</a></li>,\n",
       " <li><a href=\"/wiki/Herbig%E2%80%93Haro_object\" title=\"Herbig–Haro object\">Herbig–Haro object</a></li>,\n",
       " <li><a href=\"/wiki/Hayashi_track\" title=\"Hayashi track\">Hayashi track</a></li>,\n",
       " <li><a href=\"/wiki/Henyey_track\" title=\"Henyey track\">Henyey track</a></li>,\n",
       " <li><a href=\"/wiki/Main_sequence\" title=\"Main sequence\">Main sequence</a></li>,\n",
       " <li><a href=\"/wiki/Red-giant_branch\" title=\"Red-giant branch\">Red-giant branch</a></li>,\n",
       " <li><a href=\"/wiki/Horizontal_branch\" title=\"Horizontal branch\">Horizontal branch</a>\n",
       " <ul><li><a href=\"/wiki/Red_clump\" title=\"Red clump\">Red clump</a></li></ul></li>,\n",
       " <li><a href=\"/wiki/Red_clump\" title=\"Red clump\">Red clump</a></li>,\n",
       " <li><a href=\"/wiki/Asymptotic_giant_branch\" title=\"Asymptotic giant branch\">Asymptotic giant branch</a></li>,\n",
       " <li><a href=\"/wiki/Blue_loop\" title=\"Blue loop\">Blue loop</a></li>,\n",
       " <li><a href=\"/wiki/Protoplanetary_nebula\" title=\"Protoplanetary nebula\">Protoplanetary nebula</a></li>,\n",
       " <li><a href=\"/wiki/Planetary_nebula\" title=\"Planetary nebula\">Planetary nebula</a></li>,\n",
       " <li><a href=\"/wiki/PG_1159_star\" title=\"PG 1159 star\">PG1159</a></li>,\n",
       " <li><a href=\"/wiki/Dredge-up\" title=\"Dredge-up\">Dredge-up</a></li>,\n",
       " <li><a href=\"/wiki/Instability_strip\" title=\"Instability strip\">Instability strip</a></li>,\n",
       " <li><a href=\"/wiki/Luminous_blue_variable\" title=\"Luminous blue variable\">Luminous blue variable</a></li>,\n",
       " <li><a href=\"/wiki/Blue_straggler\" title=\"Blue straggler\">Blue straggler</a></li>,\n",
       " <li><a href=\"/wiki/Stellar_population\" title=\"Stellar population\">Stellar population</a></li>,\n",
       " <li><a href=\"/wiki/Supernova\" title=\"Supernova\">Supernova</a></li>,\n",
       " <li><a href=\"/wiki/Superluminous_supernova\" title=\"Superluminous supernova\">Superluminous supernova / Hypernova</a></li>,\n",
       " <li><a class=\"mw-redirect\" href=\"/wiki/Early-type_star\" title=\"Early-type star\">Early</a></li>,\n",
       " <li><a class=\"mw-redirect\" href=\"/wiki/Late-type_star\" title=\"Late-type star\">Late</a></li>,\n",
       " <li><a href=\"/wiki/Main_sequence\" title=\"Main sequence\">Main sequence</a>\n",
       " <ul><li><a href=\"/wiki/O-type_main-sequence_star\" title=\"O-type main-sequence star\">O</a></li>\n",
       " <li><a href=\"/wiki/B-type_main-sequence_star\" title=\"B-type main-sequence star\">B</a></li>\n",
       " <li><a href=\"/wiki/A-type_main-sequence_star\" title=\"A-type main-sequence star\">A</a></li>\n",
       " <li><a href=\"/wiki/F-type_main-sequence_star\" title=\"F-type main-sequence star\">F</a></li>\n",
       " <li><a href=\"/wiki/G-type_main-sequence_star\" title=\"G-type main-sequence star\">G</a></li>\n",
       " <li><a href=\"/wiki/K-type_main-sequence_star\" title=\"K-type main-sequence star\">K</a></li>\n",
       " <li><a href=\"/wiki/Red_dwarf\" title=\"Red dwarf\">M</a></li></ul></li>,\n",
       " <li><a href=\"/wiki/O-type_main-sequence_star\" title=\"O-type main-sequence star\">O</a></li>,\n",
       " <li><a href=\"/wiki/B-type_main-sequence_star\" title=\"B-type main-sequence star\">B</a></li>,\n",
       " <li><a href=\"/wiki/A-type_main-sequence_star\" title=\"A-type main-sequence star\">A</a></li>,\n",
       " <li><a href=\"/wiki/F-type_main-sequence_star\" title=\"F-type main-sequence star\">F</a></li>,\n",
       " <li><a href=\"/wiki/G-type_main-sequence_star\" title=\"G-type main-sequence star\">G</a></li>,\n",
       " <li><a href=\"/wiki/K-type_main-sequence_star\" title=\"K-type main-sequence star\">K</a></li>,\n",
       " <li><a href=\"/wiki/Red_dwarf\" title=\"Red dwarf\">M</a></li>,\n",
       " <li><a href=\"/wiki/Brown_dwarf\" title=\"Brown dwarf\">Brown dwarf</a></li>,\n",
       " <li><a href=\"/wiki/Wolf%E2%80%93Rayet_star\" title=\"Wolf–Rayet star\">WR</a></li>,\n",
       " <li><a href=\"/wiki/OB_star\" title=\"OB star\">OB</a></li>,\n",
       " <li><a href=\"/wiki/Subdwarf\" title=\"Subdwarf\">Subdwarf</a>\n",
       " <ul><li><a href=\"/wiki/Subdwarf_O_star\" title=\"Subdwarf O star\">O</a></li>\n",
       " <li><a href=\"/wiki/Subdwarf_B_star\" title=\"Subdwarf B star\">B</a></li></ul></li>,\n",
       " <li><a href=\"/wiki/Subdwarf_O_star\" title=\"Subdwarf O star\">O</a></li>,\n",
       " <li><a href=\"/wiki/Subdwarf_B_star\" title=\"Subdwarf B star\">B</a></li>,\n",
       " <li><a href=\"/wiki/Subgiant\" title=\"Subgiant\">Subgiant</a></li>,\n",
       " <li><a href=\"/wiki/Giant_star\" title=\"Giant star\">Giant</a>\n",
       " <ul><li><a href=\"/wiki/Blue_giant\" title=\"Blue giant\">Blue</a></li>\n",
       " <li><a href=\"/wiki/Red_giant\" title=\"Red giant\">Red</a></li>\n",
       " <li><a href=\"/wiki/Yellow_giant\" title=\"Yellow giant\">Yellow</a></li></ul></li>,\n",
       " <li><a href=\"/wiki/Blue_giant\" title=\"Blue giant\">Blue</a></li>,\n",
       " <li><a href=\"/wiki/Red_giant\" title=\"Red giant\">Red</a></li>,\n",
       " <li><a href=\"/wiki/Yellow_giant\" title=\"Yellow giant\">Yellow</a></li>,\n",
       " <li><a href=\"/wiki/Bright_giant\" title=\"Bright giant\">Bright giant</a></li>,\n",
       " <li><a href=\"/wiki/Supergiant_star\" title=\"Supergiant star\">Supergiant</a>\n",
       " <ul><li><a href=\"/wiki/Blue_supergiant_star\" title=\"Blue supergiant star\">Blue</a></li>\n",
       " <li><a href=\"/wiki/Red_supergiant_star\" title=\"Red supergiant star\">Red</a></li>\n",
       " <li><a href=\"/wiki/Yellow_supergiant_star\" title=\"Yellow supergiant star\">Yellow</a></li></ul></li>,\n",
       " <li><a href=\"/wiki/Blue_supergiant_star\" title=\"Blue supergiant star\">Blue</a></li>,\n",
       " <li><a href=\"/wiki/Red_supergiant_star\" title=\"Red supergiant star\">Red</a></li>,\n",
       " <li><a href=\"/wiki/Yellow_supergiant_star\" title=\"Yellow supergiant star\">Yellow</a></li>,\n",
       " <li><a href=\"/wiki/Hypergiant\" title=\"Hypergiant\">Hypergiant</a>\n",
       " <ul><li><a href=\"/wiki/Yellow_hypergiant\" title=\"Yellow hypergiant\">Yellow</a></li></ul></li>,\n",
       " <li><a href=\"/wiki/Yellow_hypergiant\" title=\"Yellow hypergiant\">Yellow</a></li>,\n",
       " <li><a href=\"/wiki/Carbon_star\" title=\"Carbon star\">Carbon</a>\n",
       " <ul><li><a href=\"/wiki/S-type_star\" title=\"S-type star\">S</a></li>\n",
       " <li><a href=\"/wiki/CN_star\" title=\"CN star\">CN</a></li>\n",
       " <li><a href=\"/wiki/CH_star\" title=\"CH star\">CH</a></li></ul></li>,\n",
       " <li><a href=\"/wiki/S-type_star\" title=\"S-type star\">S</a></li>,\n",
       " <li><a href=\"/wiki/CN_star\" title=\"CN star\">CN</a></li>,\n",
       " <li><a href=\"/wiki/CH_star\" title=\"CH star\">CH</a></li>,\n",
       " <li><a href=\"/wiki/White_dwarf\" title=\"White dwarf\">White dwarf</a></li>,\n",
       " <li><a href=\"/wiki/Chemically_peculiar_star\" title=\"Chemically peculiar star\">Chemically peculiar</a>\n",
       " <ul><li><a href=\"/wiki/Am_star\" title=\"Am star\">Am</a></li>\n",
       " <li><a href=\"/wiki/Ap_and_Bp_stars\" title=\"Ap and Bp stars\">Ap/Bp</a></li>\n",
       " <li><a href=\"/wiki/Mercury-manganese_star\" title=\"Mercury-manganese star\">HgMn</a></li>\n",
       " <li><a href=\"/wiki/Helium-weak_star\" title=\"Helium-weak star\">Helium-weak</a></li>\n",
       " <li><a href=\"/wiki/Barium_star\" title=\"Barium star\">Barium</a></li>\n",
       " <li><a href=\"/wiki/Extreme_helium_star\" title=\"Extreme helium star\">Extreme helium</a></li>\n",
       " <li><a href=\"/wiki/Lambda_Bo%C3%B6tis_star\" title=\"Lambda Boötis star\">Lambda Boötis</a></li>\n",
       " <li><a href=\"/wiki/Lead_star\" title=\"Lead star\">Lead</a></li>\n",
       " <li><a href=\"/wiki/Technetium_star\" title=\"Technetium star\">Technetium</a></li></ul></li>,\n",
       " <li><a href=\"/wiki/Am_star\" title=\"Am star\">Am</a></li>,\n",
       " <li><a href=\"/wiki/Ap_and_Bp_stars\" title=\"Ap and Bp stars\">Ap/Bp</a></li>,\n",
       " <li><a href=\"/wiki/Mercury-manganese_star\" title=\"Mercury-manganese star\">HgMn</a></li>,\n",
       " <li><a href=\"/wiki/Helium-weak_star\" title=\"Helium-weak star\">Helium-weak</a></li>,\n",
       " <li><a href=\"/wiki/Barium_star\" title=\"Barium star\">Barium</a></li>,\n",
       " <li><a href=\"/wiki/Extreme_helium_star\" title=\"Extreme helium star\">Extreme helium</a></li>,\n",
       " <li><a href=\"/wiki/Lambda_Bo%C3%B6tis_star\" title=\"Lambda Boötis star\">Lambda Boötis</a></li>,\n",
       " <li><a href=\"/wiki/Lead_star\" title=\"Lead star\">Lead</a></li>,\n",
       " <li><a href=\"/wiki/Technetium_star\" title=\"Technetium star\">Technetium</a></li>,\n",
       " <li><a href=\"/wiki/Be_star\" title=\"Be star\">Be</a>\n",
       " <ul><li><a href=\"/wiki/Shell_star\" title=\"Shell star\">Shell</a></li></ul></li>,\n",
       " <li><a href=\"/wiki/Shell_star\" title=\"Shell star\">Shell</a></li>,\n",
       " <li><a href=\"/wiki/B(e)_star\" title=\"B(e) star\">B[e]</a></li>,\n",
       " <li><a href=\"/wiki/White_dwarf\" title=\"White dwarf\">White dwarf</a>\n",
       " <ul><li><a href=\"/wiki/Helium_planet\" title=\"Helium planet\">Helium planet</a></li>\n",
       " <li><a href=\"/wiki/Black_dwarf\" title=\"Black dwarf\">Black dwarf</a></li></ul></li>,\n",
       " <li><a href=\"/wiki/Helium_planet\" title=\"Helium planet\">Helium planet</a></li>,\n",
       " <li><a href=\"/wiki/Black_dwarf\" title=\"Black dwarf\">Black dwarf</a></li>,\n",
       " <li><a href=\"/wiki/Neutron_star\" title=\"Neutron star\">Neutron</a>\n",
       " <ul><li><a href=\"/wiki/Radio-quiet_neutron_star\" title=\"Radio-quiet neutron star\">Radio-quiet</a></li>\n",
       " <li><a href=\"/wiki/Pulsar\" title=\"Pulsar\">Pulsar</a>\n",
       " <ul><li><a href=\"/wiki/Binary_pulsar\" title=\"Binary pulsar\">Binary</a></li>\n",
       " <li><a href=\"/wiki/X-ray_pulsar\" title=\"X-ray pulsar\">X-ray</a></li></ul></li>\n",
       " <li><a href=\"/wiki/Magnetar\" title=\"Magnetar\">Magnetar</a></li></ul></li>,\n",
       " <li><a href=\"/wiki/Radio-quiet_neutron_star\" title=\"Radio-quiet neutron star\">Radio-quiet</a></li>,\n",
       " <li><a href=\"/wiki/Pulsar\" title=\"Pulsar\">Pulsar</a>\n",
       " <ul><li><a href=\"/wiki/Binary_pulsar\" title=\"Binary pulsar\">Binary</a></li>\n",
       " <li><a href=\"/wiki/X-ray_pulsar\" title=\"X-ray pulsar\">X-ray</a></li></ul></li>,\n",
       " <li><a href=\"/wiki/Binary_pulsar\" title=\"Binary pulsar\">Binary</a></li>,\n",
       " <li><a href=\"/wiki/X-ray_pulsar\" title=\"X-ray pulsar\">X-ray</a></li>,\n",
       " <li><a href=\"/wiki/Magnetar\" title=\"Magnetar\">Magnetar</a></li>,\n",
       " <li><a href=\"/wiki/Stellar_black_hole\" title=\"Stellar black hole\">Stellar black hole</a></li>,\n",
       " <li><a href=\"/wiki/X-ray_binary\" title=\"X-ray binary\">X-ray binary</a>\n",
       " <ul><li><a href=\"/wiki/X-ray_burster\" title=\"X-ray burster\">Burster</a></li></ul></li>,\n",
       " <li><a href=\"/wiki/X-ray_burster\" title=\"X-ray burster\">Burster</a></li>,\n",
       " <li><a href=\"/wiki/Blue_dwarf_(red-dwarf_stage)\" title=\"Blue dwarf (red-dwarf stage)\">Blue dwarf</a></li>,\n",
       " <li><a href=\"/wiki/Green_star_(astronomy)\" title=\"Green star (astronomy)\">Green</a></li>,\n",
       " <li><a href=\"/wiki/Black_dwarf\" title=\"Black dwarf\">Black dwarf</a></li>,\n",
       " <li><a href=\"/wiki/Exotic_star\" title=\"Exotic star\">Exotic</a>\n",
       " <ul><li><a class=\"mw-redirect\" href=\"/wiki/Boson_star\" title=\"Boson star\">Boson</a></li>\n",
       " <li><a href=\"/wiki/Electroweak_star\" title=\"Electroweak star\">Electroweak</a></li>\n",
       " <li><a href=\"/wiki/Strange_star\" title=\"Strange star\">Strange</a></li>\n",
       " <li><a href=\"/wiki/Preon_star\" title=\"Preon star\">Preon</a></li>\n",
       " <li><a href=\"/wiki/Planck_star\" title=\"Planck star\">Planck</a></li>\n",
       " <li><a href=\"/wiki/Dark_star_(dark_matter)\" title=\"Dark star (dark matter)\">Dark</a></li>\n",
       " <li><a href=\"/wiki/Dark-energy_star\" title=\"Dark-energy star\">Dark-energy</a></li>\n",
       " <li><a href=\"/wiki/Quark_star\" title=\"Quark star\">Quark</a></li>\n",
       " <li><a href=\"/wiki/Q_star\" title=\"Q star\">Q</a></li></ul></li>,\n",
       " <li><a class=\"mw-redirect\" href=\"/wiki/Boson_star\" title=\"Boson star\">Boson</a></li>,\n",
       " <li><a href=\"/wiki/Electroweak_star\" title=\"Electroweak star\">Electroweak</a></li>,\n",
       " <li><a href=\"/wiki/Strange_star\" title=\"Strange star\">Strange</a></li>,\n",
       " <li><a href=\"/wiki/Preon_star\" title=\"Preon star\">Preon</a></li>,\n",
       " <li><a href=\"/wiki/Planck_star\" title=\"Planck star\">Planck</a></li>,\n",
       " <li><a href=\"/wiki/Dark_star_(dark_matter)\" title=\"Dark star (dark matter)\">Dark</a></li>,\n",
       " <li><a href=\"/wiki/Dark-energy_star\" title=\"Dark-energy star\">Dark-energy</a></li>,\n",
       " <li><a href=\"/wiki/Quark_star\" title=\"Quark star\">Quark</a></li>,\n",
       " <li><a href=\"/wiki/Q_star\" title=\"Q star\">Q</a></li>,\n",
       " <li><a href=\"/wiki/Black_star_(semiclassical_gravity)\" title=\"Black star (semiclassical gravity)\">Black</a></li>,\n",
       " <li><a href=\"/wiki/Gravastar\" title=\"Gravastar\">Gravastar</a></li>,\n",
       " <li><a href=\"/wiki/Frozen_star_(hypothetical_star)\" title=\"Frozen star (hypothetical star)\">Frozen</a></li>,\n",
       " <li><a href=\"/wiki/Quasi-star\" title=\"Quasi-star\">Quasi-star</a></li>,\n",
       " <li><a href=\"/wiki/Thorne%E2%80%93%C5%BBytkow_object\" title=\"Thorne–Żytkow object\">Thorne–Żytkow object</a></li>,\n",
       " <li><a href=\"/wiki/Iron_star\" title=\"Iron star\">Iron</a></li>,\n",
       " <li><a href=\"/wiki/Blitzar\" title=\"Blitzar\">Blitzar</a></li>,\n",
       " <li><a href=\"/wiki/Deuterium_fusion\" title=\"Deuterium fusion\">Deuterium burning</a></li>,\n",
       " <li><a href=\"/wiki/Lithium_burning\" title=\"Lithium burning\">Lithium burning</a></li>,\n",
       " <li><a href=\"/wiki/Proton%E2%80%93proton_chain_reaction\" title=\"Proton–proton chain reaction\">Proton–proton chain</a></li>,\n",
       " <li><a href=\"/wiki/CNO_cycle\" title=\"CNO cycle\">CNO cycle</a></li>,\n",
       " <li><a href=\"/wiki/Helium_flash\" title=\"Helium flash\">Helium flash</a></li>,\n",
       " <li><a href=\"/wiki/Triple-alpha_process\" title=\"Triple-alpha process\">Triple-alpha process</a></li>,\n",
       " <li><a href=\"/wiki/Alpha_process\" title=\"Alpha process\">Alpha process</a></li>,\n",
       " <li><a href=\"/wiki/Carbon-burning_process\" title=\"Carbon-burning process\">Carbon burning</a></li>,\n",
       " <li><a href=\"/wiki/Neon-burning_process\" title=\"Neon-burning process\">Neon burning</a></li>,\n",
       " <li><a href=\"/wiki/Oxygen-burning_process\" title=\"Oxygen-burning process\">Oxygen burning</a></li>,\n",
       " <li><a href=\"/wiki/Silicon-burning_process\" title=\"Silicon-burning process\">Silicon burning</a></li>,\n",
       " <li><a href=\"/wiki/S-process\" title=\"S-process\">S-process</a></li>,\n",
       " <li><a href=\"/wiki/R-process\" title=\"R-process\">R-process</a></li>,\n",
       " <li><a href=\"/wiki/Fusor_(astronomy)\" title=\"Fusor (astronomy)\">Fusor</a></li>,\n",
       " <li><a href=\"/wiki/Nova\" title=\"Nova\">Nova</a>\n",
       " <ul><li><a href=\"/wiki/Symbiotic_nova\" title=\"Symbiotic nova\">Symbiotic</a></li>\n",
       " <li><a href=\"/wiki/Nova_remnant\" title=\"Nova remnant\">Remnant</a></li>\n",
       " <li><a href=\"/wiki/Luminous_red_nova\" title=\"Luminous red nova\">Luminous red nova</a></li></ul></li>,\n",
       " <li><a href=\"/wiki/Symbiotic_nova\" title=\"Symbiotic nova\">Symbiotic</a></li>,\n",
       " <li><a href=\"/wiki/Nova_remnant\" title=\"Nova remnant\">Remnant</a></li>,\n",
       " <li><a href=\"/wiki/Luminous_red_nova\" title=\"Luminous red nova\">Luminous red nova</a></li>,\n",
       " <li><a href=\"/wiki/Stellar_core\" title=\"Stellar core\">Core</a></li>,\n",
       " <li><a href=\"/wiki/Convection_zone\" title=\"Convection zone\">Convection zone</a>\n",
       " <ul><li><a href=\"/wiki/Microturbulence\" title=\"Microturbulence\">Microturbulence</a></li>\n",
       " <li><a href=\"/wiki/Solar-like_oscillations\" title=\"Solar-like oscillations\">Oscillations</a></li></ul></li>,\n",
       " <li><a href=\"/wiki/Microturbulence\" title=\"Microturbulence\">Microturbulence</a></li>,\n",
       " <li><a href=\"/wiki/Solar-like_oscillations\" title=\"Solar-like oscillations\">Oscillations</a></li>,\n",
       " <li><a href=\"/wiki/Radiation_zone\" title=\"Radiation zone\">Radiation zone</a></li>,\n",
       " <li><a href=\"/wiki/Stellar_atmosphere\" title=\"Stellar atmosphere\">Atmosphere</a>\n",
       " <ul><li><a href=\"/wiki/Photosphere\" title=\"Photosphere\">Photosphere</a></li>\n",
       " <li><a href=\"/wiki/Starspot\" title=\"Starspot\">Starspot</a></li>\n",
       " <li><a href=\"/wiki/Chromosphere\" title=\"Chromosphere\">Chromosphere</a></li>\n",
       " <li><a href=\"/wiki/Stellar_corona\" title=\"Stellar corona\">Stellar corona</a></li></ul></li>,\n",
       " <li><a href=\"/wiki/Photosphere\" title=\"Photosphere\">Photosphere</a></li>,\n",
       " <li><a href=\"/wiki/Starspot\" title=\"Starspot\">Starspot</a></li>,\n",
       " <li><a href=\"/wiki/Chromosphere\" title=\"Chromosphere\">Chromosphere</a></li>,\n",
       " <li><a href=\"/wiki/Stellar_corona\" title=\"Stellar corona\">Stellar corona</a></li>,\n",
       " <li><a href=\"/wiki/Stellar_wind\" title=\"Stellar wind\">Stellar wind</a>\n",
       " <ul><li><a href=\"/wiki/Stellar-wind_bubble\" title=\"Stellar-wind bubble\">Bubble</a></li>\n",
       " <li><a href=\"/wiki/Bipolar_outflow\" title=\"Bipolar outflow\">Bipolar outflow</a></li></ul></li>,\n",
       " <li><a href=\"/wiki/Stellar-wind_bubble\" title=\"Stellar-wind bubble\">Bubble</a></li>,\n",
       " <li><a href=\"/wiki/Bipolar_outflow\" title=\"Bipolar outflow\">Bipolar outflow</a></li>,\n",
       " <li><a href=\"/wiki/Accretion_disk\" title=\"Accretion disk\">Accretion disk</a></li>,\n",
       " <li><a href=\"/wiki/Asteroseismology\" title=\"Asteroseismology\">Asteroseismology</a>\n",
       " <ul><li><a href=\"/wiki/Helioseismology\" title=\"Helioseismology\">Helioseismology</a></li></ul></li>,\n",
       " <li><a href=\"/wiki/Helioseismology\" title=\"Helioseismology\">Helioseismology</a></li>,\n",
       " <li><a href=\"/wiki/Eddington_luminosity\" title=\"Eddington luminosity\">Eddington luminosity</a></li>,\n",
       " <li><a href=\"/wiki/Kelvin%E2%80%93Helmholtz_mechanism\" title=\"Kelvin–Helmholtz mechanism\">Kelvin–Helmholtz mechanism</a></li>,\n",
       " <li><a href=\"/wiki/Stellar_designations_and_names\" title=\"Stellar designations and names\">Designation</a></li>,\n",
       " <li><a href=\"/wiki/Stellar_dynamics\" title=\"Stellar dynamics\">Dynamics</a></li>,\n",
       " <li><a href=\"/wiki/Effective_temperature\" title=\"Effective temperature\">Effective temperature</a></li>,\n",
       " <li><a href=\"/wiki/Luminosity\" title=\"Luminosity\">Luminosity</a></li>,\n",
       " <li><a href=\"/wiki/Stellar_kinematics\" title=\"Stellar kinematics\">Kinematics</a></li>,\n",
       " <li><a href=\"/wiki/Stellar_magnetic_field\" title=\"Stellar magnetic field\">Magnetic field</a></li>,\n",
       " <li><a href=\"/wiki/Absolute_magnitude\" title=\"Absolute magnitude\">Absolute magnitude</a></li>,\n",
       " <li><a href=\"/wiki/Stellar_mass\" title=\"Stellar mass\">Mass</a></li>,\n",
       " <li><a href=\"/wiki/Metallicity\" title=\"Metallicity\">Metallicity</a></li>,\n",
       " <li><a href=\"/wiki/Stellar_rotation\" title=\"Stellar rotation\">Rotation</a></li>,\n",
       " <li><a href=\"/wiki/Starlight\" title=\"Starlight\">Starlight</a></li>,\n",
       " <li><a href=\"/wiki/Variable_star\" title=\"Variable star\">Variable</a></li>,\n",
       " <li><a href=\"/wiki/Photometric_system\" title=\"Photometric system\">Photometric system</a></li>,\n",
       " <li><a href=\"/wiki/Color_index\" title=\"Color index\">Color index</a></li>,\n",
       " <li><a href=\"/wiki/Hertzsprung%E2%80%93Russell_diagram\" title=\"Hertzsprung–Russell diagram\">Hertzsprung–Russell diagram</a></li>,\n",
       " <li><a href=\"/wiki/Color%E2%80%93color_diagram\" title=\"Color–color diagram\">Color–color diagram</a></li>,\n",
       " <li><a href=\"/wiki/Binary_star\" title=\"Binary star\">Binary</a>\n",
       " <ul><li><a href=\"/wiki/Contact_binary\" title=\"Contact binary\">Contact</a></li>\n",
       " <li><a href=\"/wiki/Common_envelope\" title=\"Common envelope\">Common envelope</a></li>\n",
       " <li><a class=\"mw-redirect\" href=\"/wiki/Eclipsing_binary\" title=\"Eclipsing binary\">Eclipsing</a></li>\n",
       " <li><a href=\"/wiki/Symbiotic_binary\" title=\"Symbiotic binary\">Symbiotic</a></li></ul></li>,\n",
       " <li><a href=\"/wiki/Contact_binary\" title=\"Contact binary\">Contact</a></li>,\n",
       " <li><a href=\"/wiki/Common_envelope\" title=\"Common envelope\">Common envelope</a></li>,\n",
       " <li><a class=\"mw-redirect\" href=\"/wiki/Eclipsing_binary\" title=\"Eclipsing binary\">Eclipsing</a></li>,\n",
       " <li><a href=\"/wiki/Symbiotic_binary\" title=\"Symbiotic binary\">Symbiotic</a></li>,\n",
       " <li><a href=\"/wiki/Star_system\" title=\"Star system\">Multiple</a></li>,\n",
       " <li><a href=\"/wiki/Star_cluster\" title=\"Star cluster\">Cluster</a>\n",
       " <ul><li><a href=\"/wiki/Open_cluster\" title=\"Open cluster\">Open</a></li>\n",
       " <li><a href=\"/wiki/Globular_cluster\" title=\"Globular cluster\">Globular</a></li>\n",
       " <li><a href=\"/wiki/Super_star_cluster\" title=\"Super star cluster\">Super</a></li></ul></li>,\n",
       " <li><a href=\"/wiki/Open_cluster\" title=\"Open cluster\">Open</a></li>,\n",
       " <li><a href=\"/wiki/Globular_cluster\" title=\"Globular cluster\">Globular</a></li>,\n",
       " <li><a href=\"/wiki/Super_star_cluster\" title=\"Super star cluster\">Super</a></li>,\n",
       " <li><a href=\"/wiki/Planetary_system\" title=\"Planetary system\">Planetary system</a></li>,\n",
       " <li><a href=\"/wiki/Sun\" title=\"Sun\">Sun</a>\n",
       " <ul><li><a href=\"/wiki/Solar_System\" title=\"Solar System\">Solar System</a></li>\n",
       " <li><a href=\"/wiki/Sunlight\" title=\"Sunlight\">Sunlight</a></li></ul></li>,\n",
       " <li><a href=\"/wiki/Solar_System\" title=\"Solar System\">Solar System</a></li>,\n",
       " <li><a href=\"/wiki/Sunlight\" title=\"Sunlight\">Sunlight</a></li>,\n",
       " <li><a href=\"/wiki/Pole_star\" title=\"Pole star\">Pole star</a></li>,\n",
       " <li><a href=\"/wiki/Circumpolar_star\" title=\"Circumpolar star\">Circumpolar</a></li>,\n",
       " <li><a href=\"/wiki/Constellation\" title=\"Constellation\">Constellation</a></li>,\n",
       " <li><a href=\"/wiki/Asterism_(astronomy)\" title=\"Asterism (astronomy)\">Asterism</a></li>,\n",
       " <li><a href=\"/wiki/Magnitude_(astronomy)\" title=\"Magnitude (astronomy)\">Magnitude</a>\n",
       " <ul><li><a href=\"/wiki/Apparent_magnitude\" title=\"Apparent magnitude\">Apparent</a></li>\n",
       " <li><a href=\"/wiki/Extinction_(astronomy)\" title=\"Extinction (astronomy)\">Extinction</a></li>\n",
       " <li><a href=\"/wiki/Photographic_magnitude\" title=\"Photographic magnitude\">Photographic</a></li></ul></li>,\n",
       " <li><a href=\"/wiki/Apparent_magnitude\" title=\"Apparent magnitude\">Apparent</a></li>,\n",
       " <li><a href=\"/wiki/Extinction_(astronomy)\" title=\"Extinction (astronomy)\">Extinction</a></li>,\n",
       " <li><a href=\"/wiki/Photographic_magnitude\" title=\"Photographic magnitude\">Photographic</a></li>,\n",
       " <li><a href=\"/wiki/Radial_velocity\" title=\"Radial velocity\">Radial velocity</a></li>,\n",
       " <li><a href=\"/wiki/Proper_motion\" title=\"Proper motion\">Proper motion</a></li>,\n",
       " <li><a href=\"/wiki/Stellar_parallax\" title=\"Stellar parallax\">Parallax</a></li>,\n",
       " <li><a href=\"/wiki/Photometric-standard_star\" title=\"Photometric-standard star\">Photometric-standard</a></li>,\n",
       " <li><a href=\"/wiki/List_of_proper_names_of_stars\" title=\"List of proper names of stars\">Proper names</a>\n",
       " <ul><li><a href=\"/wiki/List_of_Arabic_star_names\" title=\"List of Arabic star names\">Arabic</a></li>\n",
       " <li><a href=\"/wiki/Chinese_star_names\" title=\"Chinese star names\">Chinese</a></li></ul></li>,\n",
       " <li><a href=\"/wiki/List_of_Arabic_star_names\" title=\"List of Arabic star names\">Arabic</a></li>,\n",
       " <li><a href=\"/wiki/Chinese_star_names\" title=\"Chinese star names\">Chinese</a></li>,\n",
       " <li><a href=\"/wiki/List_of_star_extremes\" title=\"List of star extremes\">Extremes</a></li>,\n",
       " <li><a href=\"/wiki/List_of_most_massive_stars\" title=\"List of most massive stars\">Most massive</a></li>,\n",
       " <li><a href=\"/wiki/List_of_hottest_stars\" title=\"List of hottest stars\">Highest temperature</a></li>,\n",
       " <li><a href=\"/wiki/List_of_largest_stars\" title=\"List of largest stars\">Largest volume</a></li>,\n",
       " <li><a href=\"/wiki/List_of_smallest_stars\" title=\"List of smallest stars\">Smallest volume</a></li>,\n",
       " <li><a href=\"/wiki/List_of_brightest_stars\" title=\"List of brightest stars\">Brightest</a>\n",
       " <ul><li><a href=\"/wiki/Historical_brightest_stars\" title=\"Historical brightest stars\">Historical</a></li></ul></li>,\n",
       " <li><a href=\"/wiki/Historical_brightest_stars\" title=\"Historical brightest stars\">Historical</a></li>,\n",
       " <li><a href=\"/wiki/List_of_most_luminous_stars\" title=\"List of most luminous stars\">Most luminous</a></li>,\n",
       " <li><a href=\"/wiki/List_of_nearest_stars_and_brown_dwarfs\" title=\"List of nearest stars and brown dwarfs\">Nearest</a>\n",
       " <ul><li><a href=\"/wiki/List_of_nearest_bright_stars\" title=\"List of nearest bright stars\">Nearest bright</a></li></ul></li>,\n",
       " <li><a href=\"/wiki/List_of_nearest_bright_stars\" title=\"List of nearest bright stars\">Nearest bright</a></li>,\n",
       " <li><a href=\"/wiki/List_of_exoplanetary_host_stars\" title=\"List of exoplanetary host stars\">With exoplanets</a></li>,\n",
       " <li><a href=\"/wiki/List_of_brown_dwarfs\" title=\"List of brown dwarfs\">Brown dwarfs</a></li>,\n",
       " <li><a href=\"/wiki/List_of_white_dwarfs\" title=\"List of white dwarfs\">White dwarfs</a></li>,\n",
       " <li><a href=\"/wiki/List_of_novae_in_the_Milky_Way_galaxy\" title=\"List of novae in the Milky Way galaxy\">Milky Way novae</a></li>,\n",
       " <li><a href=\"/wiki/List_of_supernovae\" title=\"List of supernovae\">Supernovae</a>\n",
       " <ul><li><a href=\"/wiki/List_of_supernova_candidates\" title=\"List of supernova candidates\">Candidates</a></li>\n",
       " <li><a href=\"/wiki/List_of_supernova_remnants\" title=\"List of supernova remnants\">Remnants</a></li></ul></li>,\n",
       " <li><a href=\"/wiki/List_of_supernova_candidates\" title=\"List of supernova candidates\">Candidates</a></li>,\n",
       " <li><a href=\"/wiki/List_of_supernova_remnants\" title=\"List of supernova remnants\">Remnants</a></li>,\n",
       " <li><a href=\"/wiki/List_of_planetary_nebulae\" title=\"List of planetary nebulae\">Planetary nebulae</a></li>,\n",
       " <li><a href=\"/wiki/Timeline_of_stellar_astronomy\" title=\"Timeline of stellar astronomy\">Timeline of stellar astronomy</a></li>,\n",
       " <li><a href=\"/wiki/Substellar_object\" title=\"Substellar object\">Substellar object</a>\n",
       " <ul><li><a href=\"/wiki/Brown_dwarf\" title=\"Brown dwarf\">Brown dwarf</a></li>\n",
       " <li><a href=\"/wiki/Sub-brown_dwarf\" title=\"Sub-brown dwarf\">Sub-brown dwarf</a></li>\n",
       " <li><a href=\"/wiki/Planet\" title=\"Planet\">Planet</a></li></ul></li>,\n",
       " <li><a href=\"/wiki/Brown_dwarf\" title=\"Brown dwarf\">Brown dwarf</a></li>,\n",
       " <li><a href=\"/wiki/Sub-brown_dwarf\" title=\"Sub-brown dwarf\">Sub-brown dwarf</a></li>,\n",
       " <li><a href=\"/wiki/Planet\" title=\"Planet\">Planet</a></li>,\n",
       " <li><a href=\"/wiki/Galactic_year\" title=\"Galactic year\">Galactic year</a></li>,\n",
       " <li><a href=\"/wiki/Galaxy\" title=\"Galaxy\">Galaxy</a></li>,\n",
       " <li><a href=\"/wiki/Guest_star_(astronomy)\" title=\"Guest star (astronomy)\">Guest</a></li>,\n",
       " <li><a href=\"/wiki/Gravity\" title=\"Gravity\">Gravity</a></li>,\n",
       " <li><a href=\"/wiki/Intergalactic_star\" title=\"Intergalactic star\">Intergalactic</a></li>,\n",
       " <li><a href=\"/wiki/Tidal_disruption_event\" title=\"Tidal disruption event\">Tidal disruption event</a></li>,\n",
       " <li><a href=\"/wiki/Category:Lists_of_astronomy_lists\" title=\"Category:Lists of astronomy lists\">Lists of astronomy lists</a></li>,\n",
       " <li><a href=\"/wiki/Category:Lists_of_stars_by_constellation\" title=\"Category:Lists of stars by constellation\">Lists of stars by constellation</a></li>,\n",
       " <li><a href=\"/wiki/Category:Lists_of_stars\" title=\"Category:Lists of stars\">Lists of stars</a></li>,\n",
       " <li><a href=\"/wiki/Category:Constellations\" title=\"Category:Constellations\">Constellations</a></li>,\n",
       " <li><a href=\"/wiki/Category:Lists_of_constellations\" title=\"Category:Lists of constellations\">Lists of constellations</a></li>,\n",
       " <li><a href=\"/wiki/Category:Articles_with_short_description\" title=\"Category:Articles with short description\">Articles with short description</a></li>,\n",
       " <li id=\"pt-anonuserpage\">Not logged in</li>,\n",
       " <li id=\"pt-anontalk\"><a accesskey=\"n\" href=\"/wiki/Special:MyTalk\" title=\"Discussion about edits from this IP address [n]\">Talk</a></li>,\n",
       " <li id=\"pt-anoncontribs\"><a accesskey=\"y\" href=\"/wiki/Special:MyContributions\" title=\"A list of edits made from this IP address [y]\">Contributions</a></li>,\n",
       " <li id=\"pt-createaccount\"><a href=\"/w/index.php?title=Special:CreateAccount&amp;returnto=Lists+of+stars+by+constellation\" title=\"You are encouraged to create an account and log in; however, it is not mandatory\">Create account</a></li>,\n",
       " <li id=\"pt-login\"><a accesskey=\"o\" href=\"/w/index.php?title=Special:UserLogin&amp;returnto=Lists+of+stars+by+constellation\" title=\"You're encouraged to log in; however, it's not mandatory. [o]\">Log in</a></li>,\n",
       " <li class=\"selected\" id=\"ca-nstab-main\"><a accesskey=\"c\" href=\"/wiki/Lists_of_stars_by_constellation\" title=\"View the content page [c]\">Article</a></li>,\n",
       " <li id=\"ca-talk\"><a accesskey=\"t\" href=\"/wiki/Talk:Lists_of_stars_by_constellation\" rel=\"discussion\" title=\"Discuss improvements to the content page [t]\">Talk</a></li>,\n",
       " <li class=\"collapsible selected\" id=\"ca-view\"><a href=\"/wiki/Lists_of_stars_by_constellation\">Read</a></li>,\n",
       " <li class=\"collapsible\" id=\"ca-edit\"><a accesskey=\"e\" href=\"/w/index.php?title=Lists_of_stars_by_constellation&amp;action=edit\" title=\"Edit this page [e]\">Edit</a></li>,\n",
       " <li class=\"collapsible\" id=\"ca-history\"><a accesskey=\"h\" href=\"/w/index.php?title=Lists_of_stars_by_constellation&amp;action=history\" title=\"Past revisions of this page [h]\">View history</a></li>,\n",
       " <li id=\"n-mainpage-description\"><a accesskey=\"z\" href=\"/wiki/Main_Page\" title=\"Visit the main page [z]\">Main page</a></li>,\n",
       " <li id=\"n-contents\"><a href=\"/wiki/Wikipedia:Contents\" title=\"Guides to browsing Wikipedia\">Contents</a></li>,\n",
       " <li id=\"n-featuredcontent\"><a href=\"/wiki/Wikipedia:Featured_content\" title=\"Featured content – the best of Wikipedia\">Featured content</a></li>,\n",
       " <li id=\"n-currentevents\"><a href=\"/wiki/Portal:Current_events\" title=\"Find background information on current events\">Current events</a></li>,\n",
       " <li id=\"n-randompage\"><a accesskey=\"x\" href=\"/wiki/Special:Random\" title=\"Load a random article [x]\">Random article</a></li>,\n",
       " <li id=\"n-sitesupport\"><a href=\"https://donate.wikimedia.org/wiki/Special:FundraiserRedirector?utm_source=donate&amp;utm_medium=sidebar&amp;utm_campaign=C13_en.wikipedia.org&amp;uselang=en\" title=\"Support us\">Donate to Wikipedia</a></li>,\n",
       " <li id=\"n-shoplink\"><a href=\"//shop.wikimedia.org\" title=\"Visit the Wikipedia store\">Wikipedia store</a></li>,\n",
       " <li id=\"n-help\"><a href=\"/wiki/Help:Contents\" title=\"Guidance on how to use and edit Wikipedia\">Help</a></li>,\n",
       " <li id=\"n-aboutsite\"><a href=\"/wiki/Wikipedia:About\" title=\"Find out about Wikipedia\">About Wikipedia</a></li>,\n",
       " <li id=\"n-portal\"><a href=\"/wiki/Wikipedia:Community_portal\" title=\"About the project, what you can do, where to find things\">Community portal</a></li>,\n",
       " <li id=\"n-recentchanges\"><a accesskey=\"r\" href=\"/wiki/Special:RecentChanges\" title=\"A list of recent changes in the wiki [r]\">Recent changes</a></li>,\n",
       " <li id=\"n-contactpage\"><a href=\"//en.wikipedia.org/wiki/Wikipedia:Contact_us\" title=\"How to contact Wikipedia\">Contact page</a></li>,\n",
       " <li id=\"t-whatlinkshere\"><a accesskey=\"j\" href=\"/wiki/Special:WhatLinksHere/Lists_of_stars_by_constellation\" title=\"List of all English Wikipedia pages containing links to this page [j]\">What links here</a></li>,\n",
       " <li id=\"t-recentchangeslinked\"><a accesskey=\"k\" href=\"/wiki/Special:RecentChangesLinked/Lists_of_stars_by_constellation\" rel=\"nofollow\" title=\"Recent changes in pages linked from this page [k]\">Related changes</a></li>,\n",
       " <li id=\"t-upload\"><a accesskey=\"u\" href=\"/wiki/Wikipedia:File_Upload_Wizard\" title=\"Upload files [u]\">Upload file</a></li>,\n",
       " <li id=\"t-specialpages\"><a accesskey=\"q\" href=\"/wiki/Special:SpecialPages\" title=\"A list of all special pages [q]\">Special pages</a></li>,\n",
       " <li id=\"t-permalink\"><a href=\"/w/index.php?title=Lists_of_stars_by_constellation&amp;oldid=945790672\" title=\"Permanent link to this revision of the page\">Permanent link</a></li>,\n",
       " <li id=\"t-info\"><a href=\"/w/index.php?title=Lists_of_stars_by_constellation&amp;action=info\" title=\"More information about this page\">Page information</a></li>,\n",
       " <li id=\"t-wikibase\"><a accesskey=\"g\" href=\"https://www.wikidata.org/wiki/Special:EntityPage/Q1044701\" title=\"Link to connected data repository item [g]\">Wikidata item</a></li>,\n",
       " <li id=\"t-cite\"><a href=\"/w/index.php?title=Special:CiteThisPage&amp;page=Lists_of_stars_by_constellation&amp;id=945790672&amp;wpFormIdentifier=titleform\" title=\"Information on how to cite this page\">Cite this page</a></li>,\n",
       " <li id=\"coll-create_a_book\"><a href=\"/w/index.php?title=Special:Book&amp;bookcmd=book_creator&amp;referer=Lists+of+stars+by+constellation\">Create a book</a></li>,\n",
       " <li id=\"coll-download-as-rl\"><a href=\"/w/index.php?title=Special:ElectronPdf&amp;page=Lists+of+stars+by+constellation&amp;action=show-download-screen\">Download as PDF</a></li>,\n",
       " <li id=\"t-print\"><a accesskey=\"p\" href=\"/w/index.php?title=Lists_of_stars_by_constellation&amp;printable=yes\" title=\"Printable version of this page [p]\">Printable version</a></li>,\n",
       " <li class=\"interlanguage-link interwiki-be\"><a class=\"interlanguage-link-target\" href=\"https://be.wikipedia.org/wiki/%D0%A1%D0%BF%D1%96%D1%81%D1%8B_%D0%B7%D0%BE%D1%80%D0%B0%D0%BA_%D0%BF%D0%B0%D0%B2%D0%BE%D0%B4%D0%BB%D0%B5_%D1%81%D1%83%D0%B7%D0%BE%D1%80%E2%80%99%D1%8F%D1%9E\" hreflang=\"be\" lang=\"be\" title=\"Спісы зорак паводле сузор’яў – Belarusian\">Беларуская</a></li>,\n",
       " <li class=\"interlanguage-link interwiki-ca\"><a class=\"interlanguage-link-target\" href=\"https://ca.wikipedia.org/wiki/Llista_d%27estrelles_per_constel%C2%B7laci%C3%B3\" hreflang=\"ca\" lang=\"ca\" title=\"Llista d'estrelles per constel·lació – Catalan\">Català</a></li>,\n",
       " <li class=\"interlanguage-link interwiki-cs\"><a class=\"interlanguage-link-target\" href=\"https://cs.wikipedia.org/wiki/Seznamy_hv%C4%9Bzd_podle_souhv%C4%9Bzd%C3%AD\" hreflang=\"cs\" lang=\"cs\" title=\"Seznamy hvězd podle souhvězdí – Czech\">Čeština</a></li>,\n",
       " <li class=\"interlanguage-link interwiki-el\"><a class=\"interlanguage-link-target\" href=\"https://el.wikipedia.org/wiki/%CE%9A%CE%B1%CF%84%CE%AC%CE%BB%CE%BF%CE%B3%CE%BF%CF%82_%CE%B1%CF%83%CF%84%CE%AD%CF%81%CF%89%CE%BD_%CE%B1%CE%BD%CE%AC_%CE%B1%CF%83%CF%84%CE%B5%CF%81%CE%B9%CF%83%CE%BC%CF%8C\" hreflang=\"el\" lang=\"el\" title=\"Κατάλογος αστέρων ανά αστερισμό – Greek\">Ελληνικά</a></li>,\n",
       " <li class=\"interlanguage-link interwiki-eu\"><a class=\"interlanguage-link-target\" href=\"https://eu.wikipedia.org/wiki/Zerrenda:Izarren_zerrenda_konstelazioka\" hreflang=\"eu\" lang=\"eu\" title=\"Zerrenda:Izarren zerrenda konstelazioka – Basque\">Euskara</a></li>,\n",
       " <li class=\"interlanguage-link interwiki-fa\"><a class=\"interlanguage-link-target\" href=\"https://fa.wikipedia.org/wiki/%D9%81%D9%87%D8%B1%D8%B3%D8%AA_%D8%B3%D8%AA%D8%A7%D8%B1%DA%AF%D8%A7%D9%86_%D8%A8%D8%B1_%D9%BE%D8%A7%DB%8C%D9%87_%D8%B5%D9%88%D8%B1%D8%AA_%D9%81%D9%84%DA%A9%DB%8C\" hreflang=\"fa\" lang=\"fa\" title=\"فهرست ستارگان بر پایه صورت فلکی – Persian\">فارسی</a></li>,\n",
       " <li class=\"interlanguage-link interwiki-fr\"><a class=\"interlanguage-link-target\" href=\"https://fr.wikipedia.org/wiki/Liste_d%27%C3%A9toiles_par_constellation\" hreflang=\"fr\" lang=\"fr\" title=\"Liste d'étoiles par constellation – French\">Français</a></li>,\n",
       " <li class=\"interlanguage-link interwiki-ko\"><a class=\"interlanguage-link-target\" href=\"https://ko.wikipedia.org/wiki/%EB%B3%84%EC%9E%90%EB%A6%AC%EC%97%90_%EB%94%B0%EB%9D%BC_%EB%B6%84%EB%A5%98%ED%95%9C_%ED%95%AD%EC%84%B1_%EB%AA%A9%EB%A1%9D\" hreflang=\"ko\" lang=\"ko\" title=\"별자리에 따라 분류한 항성 목록 – Korean\">한국어</a></li>,\n",
       " <li class=\"interlanguage-link interwiki-id\"><a class=\"interlanguage-link-target\" href=\"https://id.wikipedia.org/wiki/Daftar_bintang_menurut_rasi_bintang\" hreflang=\"id\" lang=\"id\" title=\"Daftar bintang menurut rasi bintang – Indonesian\">Bahasa Indonesia</a></li>,\n",
       " <li class=\"interlanguage-link interwiki-jv\"><a class=\"interlanguage-link-target\" href=\"https://jv.wikipedia.org/wiki/Prat%C3%A9laning_lintang_miturut_konst%C3%A9lasin%C3%A9\" hreflang=\"jv\" lang=\"jv\" title=\"Pratélaning lintang miturut konstélasiné – Javanese\">Jawa</a></li>,\n",
       " <li class=\"interlanguage-link interwiki-mk\"><a class=\"interlanguage-link-target\" href=\"https://mk.wikipedia.org/wiki/%D0%A1%D0%BF%D0%B8%D1%81%D0%BE%D1%86%D0%B8_%D0%BD%D0%B0_%D1%95%D0%B2%D0%B5%D0%B7%D0%B4%D0%B8_%D0%BF%D0%BE_%D1%81%D0%BE%D1%95%D0%B2%D0%B5%D0%B7%D0%B4%D0%B8%D1%98%D0%B0\" hreflang=\"mk\" lang=\"mk\" title=\"Списоци на ѕвезди по соѕвездија – Macedonian\">Македонски</a></li>,\n",
       " <li class=\"interlanguage-link interwiki-ja\"><a class=\"interlanguage-link-target\" href=\"https://ja.wikipedia.org/wiki/%E6%98%9F%E5%BA%A7%E5%88%A5%E3%81%AE%E6%81%92%E6%98%9F%E3%81%AE%E4%B8%80%E8%A6%A7\" hreflang=\"ja\" lang=\"ja\" title=\"星座別の恒星の一覧 – Japanese\">日本語</a></li>,\n",
       " <li class=\"interlanguage-link interwiki-pl\"><a class=\"interlanguage-link-target\" href=\"https://pl.wikipedia.org/wiki/Lista_gwiazd_w_poszczeg%C3%B3lnych_gwiazdozbiorach\" hreflang=\"pl\" lang=\"pl\" title=\"Lista gwiazd w poszczególnych gwiazdozbiorach – Polish\">Polski</a></li>,\n",
       " <li class=\"interlanguage-link interwiki-ru\"><a class=\"interlanguage-link-target\" href=\"https://ru.wikipedia.org/wiki/%D0%A1%D0%BF%D0%B8%D1%81%D0%BA%D0%B8_%D0%B7%D0%B2%D1%91%D0%B7%D0%B4_%D0%BF%D0%BE_%D1%81%D0%BE%D0%B7%D0%B2%D0%B5%D0%B7%D0%B4%D0%B8%D1%8F%D0%BC\" hreflang=\"ru\" lang=\"ru\" title=\"Списки звёзд по созвездиям – Russian\">Русский</a></li>,\n",
       " <li class=\"interlanguage-link interwiki-sk\"><a class=\"interlanguage-link-target\" href=\"https://sk.wikipedia.org/wiki/Zoznam_hviezd_pod%C4%BEa_s%C3%BAhvezdia\" hreflang=\"sk\" lang=\"sk\" title=\"Zoznam hviezd podľa súhvezdia – Slovak\">Slovenčina</a></li>,\n",
       " <li class=\"interlanguage-link interwiki-tr\"><a class=\"interlanguage-link-target\" href=\"https://tr.wikipedia.org/wiki/Tak%C4%B1my%C4%B1ld%C4%B1z%C4%B1na_g%C3%B6re_y%C4%B1ld%C4%B1zlar_dizini\" hreflang=\"tr\" lang=\"tr\" title=\"Takımyıldızına göre yıldızlar dizini – Turkish\">Türkçe</a></li>,\n",
       " <li class=\"interlanguage-link interwiki-uk\"><a class=\"interlanguage-link-target\" href=\"https://uk.wikipedia.org/wiki/%D0%A1%D0%BF%D0%B8%D1%81%D0%BE%D0%BA_%D0%B7%D1%96%D1%80_%D0%B7%D0%B0_%D1%81%D1%83%D0%B7%D1%96%D1%80%27%D1%8F%D0%BC%D0%B8\" hreflang=\"uk\" lang=\"uk\" title=\"Список зір за сузір'ями – Ukrainian\">Українська</a></li>,\n",
       " <li class=\"interlanguage-link interwiki-zh\"><a class=\"interlanguage-link-target\" href=\"https://zh.wikipedia.org/wiki/%E6%98%9F%E5%BA%A7%E6%81%92%E6%98%9F%E5%88%97%E8%A1%A8\" hreflang=\"zh\" lang=\"zh\" title=\"星座恒星列表 – Chinese\">中文</a></li>,\n",
       " <li id=\"footer-info-lastmod\"> This page was last edited on 16 March 2020, at 04:04<span class=\"anonymous-show\"> (UTC)</span>.</li>,\n",
       " <li id=\"footer-info-copyright\">Text is available under the <a href=\"//en.wikipedia.org/wiki/Wikipedia:Text_of_Creative_Commons_Attribution-ShareAlike_3.0_Unported_License\" rel=\"license\">Creative Commons Attribution-ShareAlike License</a><a href=\"//creativecommons.org/licenses/by-sa/3.0/\" rel=\"license\" style=\"display:none;\"></a>;\n",
       " additional terms may apply.  By using this site, you agree to the <a href=\"//foundation.wikimedia.org/wiki/Terms_of_Use\">Terms of Use</a> and <a href=\"//foundation.wikimedia.org/wiki/Privacy_policy\">Privacy Policy</a>. Wikipedia® is a registered trademark of the <a href=\"//www.wikimediafoundation.org/\">Wikimedia Foundation, Inc.</a>, a non-profit organization.</li>,\n",
       " <li id=\"footer-places-privacy\"><a class=\"extiw\" href=\"https://foundation.wikimedia.org/wiki/Privacy_policy\" title=\"wmf:Privacy policy\">Privacy policy</a></li>,\n",
       " <li id=\"footer-places-about\"><a href=\"/wiki/Wikipedia:About\" title=\"Wikipedia:About\">About Wikipedia</a></li>,\n",
       " <li id=\"footer-places-disclaimer\"><a href=\"/wiki/Wikipedia:General_disclaimer\" title=\"Wikipedia:General disclaimer\">Disclaimers</a></li>,\n",
       " <li id=\"footer-places-contact\"><a href=\"//en.wikipedia.org/wiki/Wikipedia:Contact_us\">Contact Wikipedia</a></li>,\n",
       " <li id=\"footer-places-developers\"><a href=\"https://www.mediawiki.org/wiki/Special:MyLanguage/How_to_contribute\">Developers</a></li>,\n",
       " <li id=\"footer-places-statslink\"><a href=\"https://stats.wikimedia.org/#/en.wikipedia.org\">Statistics</a></li>,\n",
       " <li id=\"footer-places-cookiestatement\"><a href=\"https://foundation.wikimedia.org/wiki/Cookie_statement\">Cookie statement</a></li>,\n",
       " <li id=\"footer-places-mobileview\"><a class=\"noprint stopMobileRedirectToggle\" href=\"//en.m.wikipedia.org/w/index.php?title=Lists_of_stars_by_constellation&amp;mobileaction=toggle_view_mobile\">Mobile view</a></li>,\n",
       " <li id=\"footer-copyrightico\"><a href=\"https://wikimediafoundation.org/\"><img alt=\"Wikimedia Foundation\" height=\"31\" src=\"/static/images/wikimedia-button.png\" srcset=\"/static/images/wikimedia-button-1.5x.png 1.5x, /static/images/wikimedia-button-2x.png 2x\" width=\"88\"/></a></li>,\n",
       " <li id=\"footer-poweredbyico\"><a href=\"https://www.mediawiki.org/\"><img alt=\"Powered by MediaWiki\" height=\"31\" src=\"/static/images/poweredby_mediawiki_88x31.png\" srcset=\"/static/images/poweredby_mediawiki_132x47.png 1.5x, /static/images/poweredby_mediawiki_176x62.png 2x\" width=\"88\"/></a></li>]"
      ]
     },
     "execution_count": 144,
     "metadata": {},
     "output_type": "execute_result"
    }
   ],
   "source": [
    "soup.find_all('li')"
   ]
  },
  {
   "cell_type": "markdown",
   "metadata": {},
   "source": [
    "You can see that the list of constellations that we want starts from the 6th element in the above list and there are 88 constellations in total. Let us try printing it out."
   ]
  },
  {
   "cell_type": "code",
   "execution_count": 69,
   "metadata": {},
   "outputs": [
    {
     "name": "stdout",
     "output_type": "stream",
     "text": [
      "Andromeda\n",
      "Antlia\n",
      "['Andromeda', 'Antlia', 'Apus', 'Aquarius', 'Aquila', 'Ara', 'Aries', 'Auriga', 'Boötes', 'Caelum', 'Camelopardalis', 'Cancer', 'Canes Venatici', 'Canis Major', 'Canis Minor', 'Capricornus', 'Carina', 'Cassiopeia', 'Centaurus', 'Cepheus', 'Cetus', 'Chamaeleon ', 'Circinus', 'Columba', 'Coma Berenices', 'Corona Australis', 'Corona Borealis', 'Corvus', 'Crater', 'Crux', 'Cygnus', 'Delphinus', 'Dorado', 'Draco', 'Equuleus', 'Eridanus', 'Fornax', 'Gemini', 'Grus', 'Hercules', 'Horologium', 'Hydra', 'Hydrus', 'Indus ', 'Lacerta', 'Leo', 'Leo Minor', 'Lepus', 'Libra', 'Lupus', 'Lynx', 'Lyra', 'Mensa', 'Microscopium', 'Monoceros', 'Musca', 'Norma', 'Octans', 'Ophiuchus', 'Orion', 'Pavo', 'Pegasus', 'Perseus', 'Phoenix', 'Pictor', 'Pisces ', 'Piscis Austrinus', 'Puppis', 'Pyxis', 'Reticulum', 'Sagitta', 'Sagittarius', 'Scorpius', 'Sculptor', 'Scutum', 'Serpens', 'Sextans', 'Taurus', 'Telescopium', 'Triangulum', 'Triangulum Australe', 'Tucana', 'Ursa Major', 'Ursa Minor', 'Vela', 'Virgo', 'Volans', 'Vulpecula ']\n"
     ]
    }
   ],
   "source": [
    "print(soup.find_all('li')[5].get_text())\n",
    "print(soup.find_all('li')[6].get_text())\n",
    "constellations=[]\n",
    "for element in soup.find_all('li')[5:93]:    #How 93?\n",
    "    constellations.append(element.get_text())\n",
    "    \n",
    "print(constellations)"
   ]
  },
  {
   "cell_type": "markdown",
   "metadata": {},
   "source": [
    "## One final lesson in web scraping\n",
    "Not all website owners would appreciate a random person parsing through their website and collecting data. There are serious ethical concerns related to web scraping and you should always make sure before doing it that the owner is okay with this. In this tutorial, we have used only Wikipedia pages where web scraping is always allowed :)"
   ]
  },
  {
   "cell_type": "markdown",
   "metadata": {},
   "source": [
    "If you have understood so far, you are good to go! You must have realized how annoying it is to open the website, see how it is formatted, check if there are any errors, find the tag which contains your data etc. So for today's assignment, you will be given the code to parse the data and format it. The corresponding functions will be explained and you can use them directly in your code. <br>\n",
    "## Your assignment...\n",
    "...should you choose to accept it will be the following:\n",
    "1. Parse [this](https://en.wikipedia.org/wiki/Lists_of_stars_by_constellation) webpage for the RA and Dec of stars of each constellation, convert these coordinates to Cartesian coordinates and store them by constellation and plot them using matplotlib.\n",
    "2. Try to recreate the 'Moons_and_planets.csv' file(used in the first tutorial) from [this](https://en.wikipedia.org/wiki/List_of_natural_satellites) webpage. You can take inspiration from how tables are scraped in the get_map() function for Task 1.\n",
    "\n",
    "You can use the following code in Task 1. The data in https://en.wikipedia.org/wiki/Lists_of_stars_by_constellation is not well-formatted and these functions will help in that.\n",
    "**The useful data to be extracted in Task 1 and Task 2 are stored in a table under the class 'wikitable sortable' and you can directly search by class for both tasks.**"
   ]
  },
  {
   "cell_type": "code",
   "execution_count": 89,
   "metadata": {},
   "outputs": [],
   "source": [
    "import numpy as np\n",
    "import matplotlib.pyplot as plt"
   ]
  },
  {
   "cell_type": "code",
   "execution_count": 90,
   "metadata": {},
   "outputs": [],
   "source": [
    "def get_coords(ra_s, dec_s):\n",
    "    h = float(ra_s[:2])\n",
    "    m = float(ra_s[3:5])\n",
    "    s = float(ra_s[6:-1])\n",
    "    ra = h + m/60 + s/3600\n",
    "    if dec_s[0] == '+':\n",
    "        sign = 1\n",
    "    else:\n",
    "        sign = -1\n",
    "    d = float(dec_s[1:3])\n",
    "    m = float(dec_s[4:6])\n",
    "    s = float(dec_s[7:-1])\n",
    "    dec = sign*(d + m/60 + s/3600)\n",
    "    return ra, dec"
   ]
  },
  {
   "cell_type": "markdown",
   "metadata": {},
   "source": [
    "The get_coords() function is used to format the RA and Dec information of each star. Right Ascension is similar to longitude and is measured in hours, minutes, seconds while Declination is similar to latitude and is measured in degrees, minutes, seconds. The code parses data from the website as a string. This function converts the string to float and then returns the RA as hours and Declination as degrees."
   ]
  },
  {
   "cell_type": "code",
   "execution_count": 150,
   "metadata": {},
   "outputs": [],
   "source": [
    "def get_map(constellation, abs_mag = False, verb=False):\n",
    "    url = f'https://en.wikipedia.org/wiki/List_of_stars_in_{constellation}' #page gets downloaded according to constellation\n",
    "    r = requests.get(url)\n",
    "\n",
    "    soup = BeautifulSoup(r.content, 'lxml')\n",
    "\n",
    "    tab = soup.find_all('table', attrs={'class':'wikitable sortable'})[0]   #To extract information from a wikipedia table\n",
    "                               \n",
    "    data = [[]]\n",
    "    for i in tab.find_all('tr'):   #searching in each row of the table ( 'tr' tag stands for row)\n",
    "        row = []                    #declaring empty row\n",
    "        for j in i.find_all('td'):  #'td' tag stands for a cell\n",
    "            row.append(j.get_text())   #add the text contents of each row to the list\n",
    "        data.append(row)\n",
    "\n",
    "    heads = []\n",
    "    for i in tab.find_all('tr')[:1]:\n",
    "        for j in i.find_all('th'):\n",
    "            heads.append(j.get_text().strip('\\n'))\n",
    "\n",
    "    name_ind = heads.index('Name')\n",
    "    ra_ind = heads.index('RA')\n",
    "    dec_ind = heads.index('Dec')\n",
    "    if abs_mag:\n",
    "        mag_ind = heads.index('abs.mag.')\n",
    "    else:\n",
    "        mag_ind = heads.index('vis.mag.')\n",
    "\n",
    "    name = []\n",
    "    ra = []\n",
    "    dec = []\n",
    "    mag = []\n",
    "    for i in data[2:-2]:\n",
    "        name_string = i[name_ind]\n",
    "        try:\n",
    "            ra_string = i[ra_ind].replace('\\xa0', '')\n",
    "            dec_string = i[dec_ind].replace('\\xa0', '')\n",
    "            mag_string = i[mag_ind]\n",
    "            if mag_string[0]=='−':\n",
    "                mag_string = '-'+mag_string[1:]\n",
    "        except:\n",
    "            if verb:\n",
    "                print(f\"{name_string} has no data for coordinates\")\n",
    "            continue\n",
    "        try:\n",
    "            ra_i, dec_i = get_coords(ra_string, dec_string)\n",
    "        except:\n",
    "            if verb:\n",
    "                print(f\"{name_string} has coordinate format issues\")\n",
    "            continue\n",
    "        try:\n",
    "            mag.append(float(mag_string))\n",
    "            name.append(name_string)\n",
    "            ra.append(ra_i)\n",
    "            dec.append(dec_i)\n",
    "        except:\n",
    "            if verb:\n",
    "                print(f\"{name_string} does not have magnitude data\")\n",
    "            continue\n",
    "\n",
    "    name = np.array(name)\n",
    "    ra = np.array(ra)\n",
    "    dec = np.array(dec)\n",
    "    mag = np.array(mag)\n",
    "    return name, ra, dec, mag"
   ]
  },
  {
   "cell_type": "markdown",
   "metadata": {},
   "source": [
    "The function get_map() returns the name of the constellation, the formatted RA, Dec coordinates in hours and the magnitudes. You might have noticed the use of `try` and `except` in the above code. These commands are used to handle errors while executing. The interpreter will first try to execute the code inside `try`. If an error gets thrown up during that execution(for instance, incorrect formatting), the code inside `except` will get executed.<br>\n",
    "\n",
    "For the next step, you will need to write a function that takes in the celestial coordinates(RA, Dec) and returns its projections into a Cartesian space. This is called a **[Steregraphic projection](https://en.wikipedia.org/wiki/Stereographic_projection)**, where points on a sphere are projected on to a plane. A hint to approach this would be to first convert RA, Dec to spherical coordinates on a unit sphere and then apply stereographic projection formulae. <br>\n",
    "\n",
    "To plot the final figure, write a function plot() that takes in a constellation name and plots it. The size of the star must be proportional to its brightness or flux. In tutorial 2, there was a discussion on Magnitudes in Astronomy, which might prove useful here. Do normalize the brightness values before using them.\n",
    "Do not forget to make the background dark!"
   ]
  },
  {
   "cell_type": "code",
   "execution_count": null,
   "metadata": {},
   "outputs": [],
   "source": []
  }
 ],
 "metadata": {
  "kernelspec": {
   "display_name": "Python 3",
   "language": "python",
   "name": "python3"
  },
  "language_info": {
   "codemirror_mode": {
    "name": "ipython",
    "version": 3
   },
   "file_extension": ".py",
   "mimetype": "text/x-python",
   "name": "python",
   "nbconvert_exporter": "python",
   "pygments_lexer": "ipython3",
   "version": "3.7.6"
  }
 },
 "nbformat": 4,
 "nbformat_minor": 4
}
